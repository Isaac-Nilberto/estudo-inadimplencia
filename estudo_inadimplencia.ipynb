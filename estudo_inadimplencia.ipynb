{
  "cells": [
    {
      "cell_type": "markdown",
      "metadata": {
        "id": "ATEdvZbo19t-"
      },
      "source": [
        "\n",
        "# Importando bibliotecas"
      ]
    },
    {
      "cell_type": "code",
      "execution_count": null,
      "metadata": {
        "id": "ucZ-zWyQ2QYK"
      },
      "outputs": [],
      "source": [
        "import pandas as pd            # biblioteca para manipulação de dados\n",
        "import numpy as np             # biblioteca para utilização de vetores e matrizes\n",
        "import matplotlib.pyplot as plt # biblioteca para graficos"
      ]
    },
    {
      "cell_type": "markdown",
      "metadata": {
        "id": "IJ9VhBgU278i"
      },
      "source": [
        "\n",
        "# Carregando dados"
      ]
    },
    {
      "cell_type": "markdown",
      "metadata": {
        "id": "NFNNGh494NS3"
      },
      "source": [
        "Lendo o csv que contem as bases de dados"
      ]
    },
    {
      "cell_type": "code",
      "execution_count": null,
      "metadata": {
        "id": "rvnEH9JR31co",
        "scrolled": true
      },
      "outputs": [],
      "source": [
        "data_clients = pd.read_csv('Clients.csv')"
      ]
    },
    {
      "cell_type": "markdown",
      "metadata": {
        "id": "Z-T0Iyny4n7y"
      },
      "source": [
        "# Pré-processamento de dados, visualização de características e processamento"
      ]
    },
    {
      "cell_type": "markdown",
      "metadata": {
        "id": "FH7sYhiS5JL7"
      },
      "source": [
        "Visualização das 10 primeiras linhas"
      ]
    },
    {
      "cell_type": "code",
      "execution_count": null,
      "metadata": {
        "colab": {
          "base_uri": "https://localhost:8080/",
          "height": 444
        },
        "id": "fTYD-PLM4mRz",
        "outputId": "ce8f608b-440d-43c6-be10-bda87d740486",
        "scrolled": false
      },
      "outputs": [
        {
          "output_type": "execute_result",
          "data": {
            "text/html": [
              "\n",
              "  <div id=\"df-7c94a58d-4157-48e9-9b1c-dc89dd186f9a\">\n",
              "    <div class=\"colab-df-container\">\n",
              "      <div>\n",
              "<style scoped>\n",
              "    .dataframe tbody tr th:only-of-type {\n",
              "        vertical-align: middle;\n",
              "    }\n",
              "\n",
              "    .dataframe tbody tr th {\n",
              "        vertical-align: top;\n",
              "    }\n",
              "\n",
              "    .dataframe thead th {\n",
              "        text-align: right;\n",
              "    }\n",
              "</style>\n",
              "<table border=\"1\" class=\"dataframe\">\n",
              "  <thead>\n",
              "    <tr style=\"text-align: right;\">\n",
              "      <th></th>\n",
              "      <th>Unnamed: 0</th>\n",
              "      <th>clientId</th>\n",
              "      <th>shopId</th>\n",
              "      <th>gender</th>\n",
              "      <th>maritalStatus</th>\n",
              "      <th>age</th>\n",
              "      <th>numberOfDependents</th>\n",
              "      <th>education</th>\n",
              "      <th>flagResidencialPhone</th>\n",
              "      <th>areaCodeResidencialPhone</th>\n",
              "      <th>bestPaymentDay</th>\n",
              "      <th>shopRank</th>\n",
              "      <th>residenceType</th>\n",
              "      <th>monthsInResidence</th>\n",
              "      <th>flagMothersName</th>\n",
              "      <th>flagFathersName</th>\n",
              "      <th>flagResidenceTown_WorkingTown</th>\n",
              "      <th>flagResidenceState_WorkingState</th>\n",
              "      <th>monthsInTheJob</th>\n",
              "      <th>professionCode</th>\n",
              "      <th>mateIncome</th>\n",
              "      <th>flagResidencialAddress_PostalAddress</th>\n",
              "      <th>flagOtherCard</th>\n",
              "      <th>quantityBankingAccounts</th>\n",
              "      <th>flagMobilePhone</th>\n",
              "      <th>flagContactPhone</th>\n",
              "      <th>personalNetIncome</th>\n",
              "      <th>codeApplicationBooth</th>\n",
              "      <th>BAD</th>\n",
              "    </tr>\n",
              "  </thead>\n",
              "  <tbody>\n",
              "    <tr>\n",
              "      <th>0</th>\n",
              "      <td>1</td>\n",
              "      <td>2</td>\n",
              "      <td>15</td>\n",
              "      <td>F</td>\n",
              "      <td>S</td>\n",
              "      <td>18</td>\n",
              "      <td>0</td>\n",
              "      <td>NaN</td>\n",
              "      <td>Y</td>\n",
              "      <td>31</td>\n",
              "      <td>20</td>\n",
              "      <td>0</td>\n",
              "      <td>P</td>\n",
              "      <td>216</td>\n",
              "      <td>Y</td>\n",
              "      <td>Y</td>\n",
              "      <td>Y</td>\n",
              "      <td>Y</td>\n",
              "      <td>12</td>\n",
              "      <td>853</td>\n",
              "      <td>0.0</td>\n",
              "      <td>Y</td>\n",
              "      <td>N</td>\n",
              "      <td>0</td>\n",
              "      <td>N</td>\n",
              "      <td>N</td>\n",
              "      <td>300.0</td>\n",
              "      <td>0</td>\n",
              "      <td>0</td>\n",
              "    </tr>\n",
              "    <tr>\n",
              "      <th>1</th>\n",
              "      <td>2</td>\n",
              "      <td>4</td>\n",
              "      <td>12</td>\n",
              "      <td>F</td>\n",
              "      <td>C</td>\n",
              "      <td>47</td>\n",
              "      <td>0</td>\n",
              "      <td>NaN</td>\n",
              "      <td>N</td>\n",
              "      <td>31</td>\n",
              "      <td>25</td>\n",
              "      <td>0</td>\n",
              "      <td>P</td>\n",
              "      <td>180</td>\n",
              "      <td>Y</td>\n",
              "      <td>Y</td>\n",
              "      <td>N</td>\n",
              "      <td>Y</td>\n",
              "      <td>24</td>\n",
              "      <td>35</td>\n",
              "      <td>0.0</td>\n",
              "      <td>Y</td>\n",
              "      <td>N</td>\n",
              "      <td>0</td>\n",
              "      <td>N</td>\n",
              "      <td>N</td>\n",
              "      <td>304.0</td>\n",
              "      <td>0</td>\n",
              "      <td>0</td>\n",
              "    </tr>\n",
              "    <tr>\n",
              "      <th>2</th>\n",
              "      <td>3</td>\n",
              "      <td>5</td>\n",
              "      <td>16</td>\n",
              "      <td>F</td>\n",
              "      <td>S</td>\n",
              "      <td>28</td>\n",
              "      <td>0</td>\n",
              "      <td>NaN</td>\n",
              "      <td>Y</td>\n",
              "      <td>31</td>\n",
              "      <td>25</td>\n",
              "      <td>0</td>\n",
              "      <td>O</td>\n",
              "      <td>12</td>\n",
              "      <td>Y</td>\n",
              "      <td>Y</td>\n",
              "      <td>Y</td>\n",
              "      <td>Y</td>\n",
              "      <td>12</td>\n",
              "      <td>24</td>\n",
              "      <td>0.0</td>\n",
              "      <td>Y</td>\n",
              "      <td>N</td>\n",
              "      <td>0</td>\n",
              "      <td>N</td>\n",
              "      <td>N</td>\n",
              "      <td>250.0</td>\n",
              "      <td>0</td>\n",
              "      <td>0</td>\n",
              "    </tr>\n",
              "    <tr>\n",
              "      <th>3</th>\n",
              "      <td>4</td>\n",
              "      <td>6</td>\n",
              "      <td>24</td>\n",
              "      <td>M</td>\n",
              "      <td>S</td>\n",
              "      <td>26</td>\n",
              "      <td>0</td>\n",
              "      <td>NaN</td>\n",
              "      <td>N</td>\n",
              "      <td>31</td>\n",
              "      <td>28</td>\n",
              "      <td>0</td>\n",
              "      <td>P</td>\n",
              "      <td>180</td>\n",
              "      <td>Y</td>\n",
              "      <td>Y</td>\n",
              "      <td>N</td>\n",
              "      <td>Y</td>\n",
              "      <td>0</td>\n",
              "      <td>999</td>\n",
              "      <td>0.0</td>\n",
              "      <td>Y</td>\n",
              "      <td>N</td>\n",
              "      <td>0</td>\n",
              "      <td>N</td>\n",
              "      <td>N</td>\n",
              "      <td>800.0</td>\n",
              "      <td>0</td>\n",
              "      <td>0</td>\n",
              "    </tr>\n",
              "    <tr>\n",
              "      <th>4</th>\n",
              "      <td>5</td>\n",
              "      <td>7</td>\n",
              "      <td>55</td>\n",
              "      <td>F</td>\n",
              "      <td>S</td>\n",
              "      <td>22</td>\n",
              "      <td>0</td>\n",
              "      <td>NaN</td>\n",
              "      <td>Y</td>\n",
              "      <td>31</td>\n",
              "      <td>12</td>\n",
              "      <td>0</td>\n",
              "      <td>A</td>\n",
              "      <td>0</td>\n",
              "      <td>Y</td>\n",
              "      <td>Y</td>\n",
              "      <td>Y</td>\n",
              "      <td>Y</td>\n",
              "      <td>48</td>\n",
              "      <td>999</td>\n",
              "      <td>0.0</td>\n",
              "      <td>Y</td>\n",
              "      <td>N</td>\n",
              "      <td>0</td>\n",
              "      <td>N</td>\n",
              "      <td>N</td>\n",
              "      <td>410.0</td>\n",
              "      <td>0</td>\n",
              "      <td>0</td>\n",
              "    </tr>\n",
              "    <tr>\n",
              "      <th>5</th>\n",
              "      <td>6</td>\n",
              "      <td>8</td>\n",
              "      <td>6</td>\n",
              "      <td>F</td>\n",
              "      <td>C</td>\n",
              "      <td>21</td>\n",
              "      <td>0</td>\n",
              "      <td>NaN</td>\n",
              "      <td>Y</td>\n",
              "      <td>23</td>\n",
              "      <td>28</td>\n",
              "      <td>0</td>\n",
              "      <td>A</td>\n",
              "      <td>24</td>\n",
              "      <td>Y</td>\n",
              "      <td>Y</td>\n",
              "      <td>Y</td>\n",
              "      <td>Y</td>\n",
              "      <td>12</td>\n",
              "      <td>40</td>\n",
              "      <td>800.0</td>\n",
              "      <td>Y</td>\n",
              "      <td>N</td>\n",
              "      <td>0</td>\n",
              "      <td>N</td>\n",
              "      <td>N</td>\n",
              "      <td>248.0</td>\n",
              "      <td>0</td>\n",
              "      <td>0</td>\n",
              "    </tr>\n",
              "    <tr>\n",
              "      <th>6</th>\n",
              "      <td>7</td>\n",
              "      <td>9</td>\n",
              "      <td>3</td>\n",
              "      <td>F</td>\n",
              "      <td>S</td>\n",
              "      <td>27</td>\n",
              "      <td>0</td>\n",
              "      <td>NaN</td>\n",
              "      <td>Y</td>\n",
              "      <td>31</td>\n",
              "      <td>20</td>\n",
              "      <td>0</td>\n",
              "      <td>A</td>\n",
              "      <td>0</td>\n",
              "      <td>Y</td>\n",
              "      <td>Y</td>\n",
              "      <td>Y</td>\n",
              "      <td>Y</td>\n",
              "      <td>0</td>\n",
              "      <td>950</td>\n",
              "      <td>0.0</td>\n",
              "      <td>Y</td>\n",
              "      <td>N</td>\n",
              "      <td>0</td>\n",
              "      <td>N</td>\n",
              "      <td>N</td>\n",
              "      <td>1000.0</td>\n",
              "      <td>0</td>\n",
              "      <td>1</td>\n",
              "    </tr>\n",
              "    <tr>\n",
              "      <th>7</th>\n",
              "      <td>8</td>\n",
              "      <td>10</td>\n",
              "      <td>23</td>\n",
              "      <td>F</td>\n",
              "      <td>C</td>\n",
              "      <td>57</td>\n",
              "      <td>0</td>\n",
              "      <td>NaN</td>\n",
              "      <td>Y</td>\n",
              "      <td>31</td>\n",
              "      <td>12</td>\n",
              "      <td>0</td>\n",
              "      <td>P</td>\n",
              "      <td>24</td>\n",
              "      <td>Y</td>\n",
              "      <td>Y</td>\n",
              "      <td>N</td>\n",
              "      <td>Y</td>\n",
              "      <td>96</td>\n",
              "      <td>13</td>\n",
              "      <td>0.0</td>\n",
              "      <td>Y</td>\n",
              "      <td>N</td>\n",
              "      <td>0</td>\n",
              "      <td>N</td>\n",
              "      <td>N</td>\n",
              "      <td>856.0</td>\n",
              "      <td>0</td>\n",
              "      <td>0</td>\n",
              "    </tr>\n",
              "    <tr>\n",
              "      <th>8</th>\n",
              "      <td>9</td>\n",
              "      <td>11</td>\n",
              "      <td>25</td>\n",
              "      <td>F</td>\n",
              "      <td>S</td>\n",
              "      <td>53</td>\n",
              "      <td>0</td>\n",
              "      <td>NaN</td>\n",
              "      <td>Y</td>\n",
              "      <td>31</td>\n",
              "      <td>18</td>\n",
              "      <td>0</td>\n",
              "      <td>P</td>\n",
              "      <td>60</td>\n",
              "      <td>Y</td>\n",
              "      <td>Y</td>\n",
              "      <td>N</td>\n",
              "      <td>Y</td>\n",
              "      <td>24</td>\n",
              "      <td>13</td>\n",
              "      <td>0.0</td>\n",
              "      <td>Y</td>\n",
              "      <td>N</td>\n",
              "      <td>0</td>\n",
              "      <td>N</td>\n",
              "      <td>N</td>\n",
              "      <td>738.0</td>\n",
              "      <td>0</td>\n",
              "      <td>1</td>\n",
              "    </tr>\n",
              "    <tr>\n",
              "      <th>9</th>\n",
              "      <td>10</td>\n",
              "      <td>12</td>\n",
              "      <td>12</td>\n",
              "      <td>F</td>\n",
              "      <td>C</td>\n",
              "      <td>32</td>\n",
              "      <td>0</td>\n",
              "      <td>NaN</td>\n",
              "      <td>Y</td>\n",
              "      <td>31</td>\n",
              "      <td>12</td>\n",
              "      <td>0</td>\n",
              "      <td>P</td>\n",
              "      <td>24</td>\n",
              "      <td>Y</td>\n",
              "      <td>Y</td>\n",
              "      <td>N</td>\n",
              "      <td>Y</td>\n",
              "      <td>0</td>\n",
              "      <td>165</td>\n",
              "      <td>0.0</td>\n",
              "      <td>Y</td>\n",
              "      <td>N</td>\n",
              "      <td>0</td>\n",
              "      <td>N</td>\n",
              "      <td>N</td>\n",
              "      <td>700.0</td>\n",
              "      <td>0</td>\n",
              "      <td>0</td>\n",
              "    </tr>\n",
              "  </tbody>\n",
              "</table>\n",
              "</div>\n",
              "      <button class=\"colab-df-convert\" onclick=\"convertToInteractive('df-7c94a58d-4157-48e9-9b1c-dc89dd186f9a')\"\n",
              "              title=\"Convert this dataframe to an interactive table.\"\n",
              "              style=\"display:none;\">\n",
              "        \n",
              "  <svg xmlns=\"http://www.w3.org/2000/svg\" height=\"24px\"viewBox=\"0 0 24 24\"\n",
              "       width=\"24px\">\n",
              "    <path d=\"M0 0h24v24H0V0z\" fill=\"none\"/>\n",
              "    <path d=\"M18.56 5.44l.94 2.06.94-2.06 2.06-.94-2.06-.94-.94-2.06-.94 2.06-2.06.94zm-11 1L8.5 8.5l.94-2.06 2.06-.94-2.06-.94L8.5 2.5l-.94 2.06-2.06.94zm10 10l.94 2.06.94-2.06 2.06-.94-2.06-.94-.94-2.06-.94 2.06-2.06.94z\"/><path d=\"M17.41 7.96l-1.37-1.37c-.4-.4-.92-.59-1.43-.59-.52 0-1.04.2-1.43.59L10.3 9.45l-7.72 7.72c-.78.78-.78 2.05 0 2.83L4 21.41c.39.39.9.59 1.41.59.51 0 1.02-.2 1.41-.59l7.78-7.78 2.81-2.81c.8-.78.8-2.07 0-2.86zM5.41 20L4 18.59l7.72-7.72 1.47 1.35L5.41 20z\"/>\n",
              "  </svg>\n",
              "      </button>\n",
              "      \n",
              "  <style>\n",
              "    .colab-df-container {\n",
              "      display:flex;\n",
              "      flex-wrap:wrap;\n",
              "      gap: 12px;\n",
              "    }\n",
              "\n",
              "    .colab-df-convert {\n",
              "      background-color: #E8F0FE;\n",
              "      border: none;\n",
              "      border-radius: 50%;\n",
              "      cursor: pointer;\n",
              "      display: none;\n",
              "      fill: #1967D2;\n",
              "      height: 32px;\n",
              "      padding: 0 0 0 0;\n",
              "      width: 32px;\n",
              "    }\n",
              "\n",
              "    .colab-df-convert:hover {\n",
              "      background-color: #E2EBFA;\n",
              "      box-shadow: 0px 1px 2px rgba(60, 64, 67, 0.3), 0px 1px 3px 1px rgba(60, 64, 67, 0.15);\n",
              "      fill: #174EA6;\n",
              "    }\n",
              "\n",
              "    [theme=dark] .colab-df-convert {\n",
              "      background-color: #3B4455;\n",
              "      fill: #D2E3FC;\n",
              "    }\n",
              "\n",
              "    [theme=dark] .colab-df-convert:hover {\n",
              "      background-color: #434B5C;\n",
              "      box-shadow: 0px 1px 3px 1px rgba(0, 0, 0, 0.15);\n",
              "      filter: drop-shadow(0px 1px 2px rgba(0, 0, 0, 0.3));\n",
              "      fill: #FFFFFF;\n",
              "    }\n",
              "  </style>\n",
              "\n",
              "      <script>\n",
              "        const buttonEl =\n",
              "          document.querySelector('#df-7c94a58d-4157-48e9-9b1c-dc89dd186f9a button.colab-df-convert');\n",
              "        buttonEl.style.display =\n",
              "          google.colab.kernel.accessAllowed ? 'block' : 'none';\n",
              "\n",
              "        async function convertToInteractive(key) {\n",
              "          const element = document.querySelector('#df-7c94a58d-4157-48e9-9b1c-dc89dd186f9a');\n",
              "          const dataTable =\n",
              "            await google.colab.kernel.invokeFunction('convertToInteractive',\n",
              "                                                     [key], {});\n",
              "          if (!dataTable) return;\n",
              "\n",
              "          const docLinkHtml = 'Like what you see? Visit the ' +\n",
              "            '<a target=\"_blank\" href=https://colab.research.google.com/notebooks/data_table.ipynb>data table notebook</a>'\n",
              "            + ' to learn more about interactive tables.';\n",
              "          element.innerHTML = '';\n",
              "          dataTable['output_type'] = 'display_data';\n",
              "          await google.colab.output.renderOutput(dataTable, element);\n",
              "          const docLink = document.createElement('div');\n",
              "          docLink.innerHTML = docLinkHtml;\n",
              "          element.appendChild(docLink);\n",
              "        }\n",
              "      </script>\n",
              "    </div>\n",
              "  </div>\n",
              "  "
            ],
            "text/plain": [
              "   Unnamed: 0  clientId  shopId  ... personalNetIncome codeApplicationBooth  BAD\n",
              "0           1         2      15  ...             300.0                    0    0\n",
              "1           2         4      12  ...             304.0                    0    0\n",
              "2           3         5      16  ...             250.0                    0    0\n",
              "3           4         6      24  ...             800.0                    0    0\n",
              "4           5         7      55  ...             410.0                    0    0\n",
              "5           6         8       6  ...             248.0                    0    0\n",
              "6           7         9       3  ...            1000.0                    0    1\n",
              "7           8        10      23  ...             856.0                    0    0\n",
              "8           9        11      25  ...             738.0                    0    1\n",
              "9          10        12      12  ...             700.0                    0    0\n",
              "\n",
              "[10 rows x 29 columns]"
            ]
          },
          "metadata": {},
          "execution_count": 333
        }
      ],
      "source": [
        "data_clients.head(10)"
      ]
    },
    {
      "cell_type": "markdown",
      "metadata": {
        "id": "OF7CGG7u0odL"
      },
      "source": [
        "**De acordo com os dados fornecidos, podemos mostrar o objetivo do trabalho: objetivo é tentar prever e minimizar a quantidade de BAD (cliente ruim = 1 e cliente bom = 0).**\n",
        "O descritivo das variáveis:\n",
        "\n",
        "**clientId**: Key para o tomador.\n",
        "\n",
        "**shopId**: Key do empréstimo.\n",
        "\n",
        "**gender**: Gênero do tomador.\n",
        "\n",
        "**maritalStatus**: Estado civil do tomador.\n",
        "\n",
        "**age**: Idade do tomador.\n",
        "\n",
        "**numberOfDependents**: Quantidade de dependentes do tomador.\n",
        "\n",
        "**education**: Nível educacional do tomador.\n",
        "\n",
        "**flagResidencialPhone**: Flag se o tomador possui telefone residencial ou não.\n",
        "\n",
        "**areaCodeResidencialPhone**: Codigo de area do telefone residencial.\n",
        "\n",
        "**bestPaymentDay**: Melhor dia para pagamento do empréstimo.\n",
        "\n",
        "**shopRank**: Ranking do empréstimo.\n",
        "\n",
        "**residenceType**: Tipo de residência.\n",
        "\n",
        "**monthsInResidence**: Tempo vivendo na mesma residência.\n",
        "\n",
        "**flagMothersName**: Tomador registrou o nome da mãe na requisição de empréstimo.\n",
        "\n",
        "**flagFathersName**: Tomador registrou o nome do pai na requisição de empréstimo.\n",
        "\n",
        "**flagResidenceTown_WorkingTown**: Flag se o tomador vive na mesma cidade em que trabalha.\n",
        "\n",
        "**flagResidenceState_WorkingState**: Flag se o tomador vive no mesmo estado que trabalha.\n",
        "\n",
        "**monthsInTheJob**: Tempo no emprego atual.\n",
        "\n",
        "**professionCode**: Código de profissão do tomador.\n",
        "\n",
        "**mateIncome**: Renda do cônjuge do tomador.\n",
        "\n",
        "**flagResidencialAddress_PostalAddress**: Flag de validação do CEP do tomador.\n",
        "\n",
        "**flagOtherCard**: Y=Yes, N=No; Se o requerente possuir outro cartão de crédito ou private label\n",
        "\n",
        "**quantityBankingAccounts**: Quantidade de contas bancárias do tomador.\n",
        "\n",
        "**flagMobilePhone**: Flag se o tomador possui telefone celular.\n",
        "\n",
        "**flagContactPhone**: Flag se o tomador possui um telefone de contato.\n",
        "\n",
        "**personalNetIncome**: Renda média líquida mensal do tomador.\n",
        "\n",
        "**codeApplicationBooth**: Código de onde a solicitação de empréstimo veio.\n",
        "\n",
        "**BAD**: Flag se o tomador veio atrasou o pagamento do empréstimo.\n",
        "\n",
        "Segue agora as classes das variáveis categóricas e binárias:\n",
        "\n",
        "**gender**: F = Feminino e M = Masculino\n",
        "\n",
        "**maritalStatus**: S = Solteiro, C = Casado, D = Divorciado, V = Viúvo e O = Outro.\n",
        "\n",
        "**residenceType**: P = Própria, A = Aluguel, C = Mora com os pais e O = Outro.\n",
        "\n",
        "**flags**: Y = Sim e N = Não\n",
        "\n",
        "**BAD**: 0 = Cliente Adimplente e 1 = Cliente Inadimplente\n"
      ]
    },
    {
      "cell_type": "markdown",
      "metadata": {
        "id": "chTa17v10odM"
      },
      "source": [
        "Verificando os tipos de dados"
      ]
    },
    {
      "cell_type": "code",
      "execution_count": null,
      "metadata": {
        "colab": {
          "base_uri": "https://localhost:8080/"
        },
        "id": "jLIHlART0odM",
        "outputId": "a0572160-3630-4c3d-a64e-d7c086365d98"
      },
      "outputs": [
        {
          "output_type": "execute_result",
          "data": {
            "text/plain": [
              "Unnamed: 0                                int64\n",
              "clientId                                  int64\n",
              "shopId                                    int64\n",
              "gender                                   object\n",
              "maritalStatus                            object\n",
              "age                                       int64\n",
              "numberOfDependents                        int64\n",
              "education                               float64\n",
              "flagResidencialPhone                     object\n",
              "areaCodeResidencialPhone                  int64\n",
              "bestPaymentDay                            int64\n",
              "shopRank                                  int64\n",
              "residenceType                            object\n",
              "monthsInResidence                         int64\n",
              "flagMothersName                          object\n",
              "flagFathersName                          object\n",
              "flagResidenceTown_WorkingTown            object\n",
              "flagResidenceState_WorkingState          object\n",
              "monthsInTheJob                            int64\n",
              "professionCode                            int64\n",
              "mateIncome                              float64\n",
              "flagResidencialAddress_PostalAddress     object\n",
              "flagOtherCard                            object\n",
              "quantityBankingAccounts                   int64\n",
              "flagMobilePhone                          object\n",
              "flagContactPhone                         object\n",
              "personalNetIncome                       float64\n",
              "codeApplicationBooth                      int64\n",
              "BAD                                       int64\n",
              "dtype: object"
            ]
          },
          "metadata": {},
          "execution_count": 334
        }
      ],
      "source": [
        "data_clients.dtypes"
      ]
    },
    {
      "cell_type": "markdown",
      "source": [
        "**verificando as informações de cada dado**"
      ],
      "metadata": {
        "id": "Cb78Kbx9FQyK"
      }
    },
    {
      "cell_type": "code",
      "source": [
        "data_clients.info()"
      ],
      "metadata": {
        "colab": {
          "base_uri": "https://localhost:8080/"
        },
        "id": "pxx0c5NvFOc9",
        "outputId": "3ac2d511-81e2-4777-dd5d-fca870c85a80"
      },
      "execution_count": null,
      "outputs": [
        {
          "output_type": "stream",
          "name": "stdout",
          "text": [
            "<class 'pandas.core.frame.DataFrame'>\n",
            "RangeIndex: 40000 entries, 0 to 39999\n",
            "Data columns (total 29 columns):\n",
            " #   Column                                Non-Null Count  Dtype  \n",
            "---  ------                                --------------  -----  \n",
            " 0   Unnamed: 0                            40000 non-null  int64  \n",
            " 1   clientId                              40000 non-null  int64  \n",
            " 2   shopId                                40000 non-null  int64  \n",
            " 3   gender                                39997 non-null  object \n",
            " 4   maritalStatus                         40000 non-null  object \n",
            " 5   age                                   40000 non-null  int64  \n",
            " 6   numberOfDependents                    40000 non-null  int64  \n",
            " 7   education                             0 non-null      float64\n",
            " 8   flagResidencialPhone                  40000 non-null  object \n",
            " 9   areaCodeResidencialPhone              40000 non-null  int64  \n",
            " 10  bestPaymentDay                        40000 non-null  int64  \n",
            " 11  shopRank                              40000 non-null  int64  \n",
            " 12  residenceType                         40000 non-null  object \n",
            " 13  monthsInResidence                     40000 non-null  int64  \n",
            " 14  flagMothersName                       40000 non-null  object \n",
            " 15  flagFathersName                       40000 non-null  object \n",
            " 16  flagResidenceTown_WorkingTown         40000 non-null  object \n",
            " 17  flagResidenceState_WorkingState       40000 non-null  object \n",
            " 18  monthsInTheJob                        40000 non-null  int64  \n",
            " 19  professionCode                        40000 non-null  int64  \n",
            " 20  mateIncome                            40000 non-null  float64\n",
            " 21  flagResidencialAddress_PostalAddress  40000 non-null  object \n",
            " 22  flagOtherCard                         40000 non-null  object \n",
            " 23  quantityBankingAccounts               40000 non-null  int64  \n",
            " 24  flagMobilePhone                       40000 non-null  object \n",
            " 25  flagContactPhone                      40000 non-null  object \n",
            " 26  personalNetIncome                     40000 non-null  float64\n",
            " 27  codeApplicationBooth                  40000 non-null  int64  \n",
            " 28  BAD                                   40000 non-null  int64  \n",
            "dtypes: float64(3), int64(14), object(12)\n",
            "memory usage: 8.9+ MB\n"
          ]
        }
      ]
    },
    {
      "cell_type": "markdown",
      "metadata": {
        "id": "2-EekWU85RhW"
      },
      "source": [
        "## **Visualização dos dados**\n",
        "**Visualizando quantas linhas e colunas há no dado**"
      ]
    },
    {
      "cell_type": "code",
      "execution_count": null,
      "metadata": {
        "colab": {
          "base_uri": "https://localhost:8080/"
        },
        "id": "ctuborPq5Fw0",
        "outputId": "d56f37dc-88b3-4fd0-bceb-078bae30712c"
      },
      "outputs": [
        {
          "output_type": "stream",
          "name": "stdout",
          "text": [
            "O numero de linhas e colunas é:\n",
            " (40000, 29)\n"
          ]
        }
      ],
      "source": [
        "print('O numero de linhas e colunas é:\\n',data_clients.shape)"
      ]
    },
    {
      "cell_type": "markdown",
      "metadata": {
        "id": "FKTMlYL_0odP"
      },
      "source": [
        "**Vizualização de dados faltantes**"
      ]
    },
    {
      "cell_type": "code",
      "execution_count": null,
      "metadata": {
        "colab": {
          "base_uri": "https://localhost:8080/"
        },
        "id": "yZ_tHaJj0odP",
        "outputId": "517f25c7-1ff5-4755-e4b8-e65377b8b8a1"
      },
      "outputs": [
        {
          "output_type": "stream",
          "name": "stdout",
          "text": [
            "O numero de dados faltantes em cada uma das colunas é:\n",
            " Unnamed: 0                                  0\n",
            "clientId                                    0\n",
            "shopId                                      0\n",
            "gender                                      3\n",
            "maritalStatus                               0\n",
            "age                                         0\n",
            "numberOfDependents                          0\n",
            "education                               40000\n",
            "flagResidencialPhone                        0\n",
            "areaCodeResidencialPhone                    0\n",
            "bestPaymentDay                              0\n",
            "shopRank                                    0\n",
            "residenceType                               0\n",
            "monthsInResidence                           0\n",
            "flagMothersName                             0\n",
            "flagFathersName                             0\n",
            "flagResidenceTown_WorkingTown               0\n",
            "flagResidenceState_WorkingState             0\n",
            "monthsInTheJob                              0\n",
            "professionCode                              0\n",
            "mateIncome                                  0\n",
            "flagResidencialAddress_PostalAddress        0\n",
            "flagOtherCard                               0\n",
            "quantityBankingAccounts                     0\n",
            "flagMobilePhone                             0\n",
            "flagContactPhone                            0\n",
            "personalNetIncome                           0\n",
            "codeApplicationBooth                        0\n",
            "BAD                                         0\n",
            "dtype: int64\n"
          ]
        }
      ],
      "source": [
        "print('O numero de dados faltantes em cada uma das colunas é:\\n',data_clients.isnull().sum())"
      ]
    },
    {
      "cell_type": "markdown",
      "metadata": {
        "id": "qk9ISTBZ0odQ"
      },
      "source": [
        "**Há 3 dados faltantes em Gender, assim verificaremos qual o dado mais se repete em Gender e assim substituí-los**"
      ]
    },
    {
      "cell_type": "code",
      "execution_count": null,
      "metadata": {
        "colab": {
          "base_uri": "https://localhost:8080/"
        },
        "id": "s_WnFS7x0odQ",
        "outputId": "2d80dcee-ad67-43dc-fd59-fd7275bf72cd"
      },
      "outputs": [
        {
          "output_type": "stream",
          "name": "stdout",
          "text": [
            "A moda em gender é:\n",
            " 0    F\n",
            "dtype: object\n"
          ]
        }
      ],
      "source": [
        "print('A moda em gender é:\\n', data_clients['gender'].mode())"
      ]
    },
    {
      "cell_type": "markdown",
      "metadata": {
        "id": "h4rLSR4T0odQ"
      },
      "source": [
        "**A moda nos dados é Female, assim podemos substituir os dados faltantes por F para que assim não percamos informações**"
      ]
    },
    {
      "cell_type": "markdown",
      "metadata": {
        "id": "v3Dy0KLz0odR"
      },
      "source": [
        "**Trocando os dados faltantes (NaN) pela moda da coluna**"
      ]
    },
    {
      "cell_type": "code",
      "execution_count": null,
      "metadata": {
        "id": "21GY2ms-0odR"
      },
      "outputs": [],
      "source": [
        "values = {'gender':data_clients.gender.mode()[0]}"
      ]
    },
    {
      "cell_type": "markdown",
      "metadata": {
        "id": "t4i5YKiv0odR"
      },
      "source": [
        "**Atribuindo os novos valores**"
      ]
    },
    {
      "cell_type": "code",
      "execution_count": null,
      "metadata": {
        "id": "_mp5LLfh0odR"
      },
      "outputs": [],
      "source": [
        "data_clients.fillna(value=values,inplace=True)"
      ]
    },
    {
      "cell_type": "markdown",
      "metadata": {
        "id": "2Ly8B7mJ0odR"
      },
      "source": [
        "**Vizualizando os dados faltantes**"
      ]
    },
    {
      "cell_type": "code",
      "execution_count": null,
      "metadata": {
        "colab": {
          "base_uri": "https://localhost:8080/"
        },
        "id": "kK1wuDGU0odS",
        "outputId": "a24492f6-ce9c-4ca2-a6a9-26e758fc7305"
      },
      "outputs": [
        {
          "output_type": "execute_result",
          "data": {
            "text/plain": [
              "0"
            ]
          },
          "metadata": {},
          "execution_count": 341
        }
      ],
      "source": [
        "data_clients['gender'].isnull().sum()"
      ]
    },
    {
      "cell_type": "code",
      "execution_count": null,
      "metadata": {
        "colab": {
          "base_uri": "https://localhost:8080/"
        },
        "id": "eF-KZ2cp0odS",
        "outputId": "64c8a598-0339-43fe-a1b7-5e8b00c9308d"
      },
      "outputs": [
        {
          "output_type": "stream",
          "name": "stdout",
          "text": [
            "Percebemos que toda a coluna de education é do tipo float e é composta de elementos nulos:\n",
            " 40000\n"
          ]
        }
      ],
      "source": [
        "print('Percebemos que toda a coluna de education é do tipo float e é composta de elementos nulos:\\n',data_clients['education'].isnull().sum())"
      ]
    },
    {
      "cell_type": "markdown",
      "metadata": {
        "id": "M__J0ZEe0odS"
      },
      "source": [
        "**Tirando a coluna de elementos nulos**"
      ]
    },
    {
      "cell_type": "code",
      "execution_count": null,
      "metadata": {
        "id": "mkR7Xvop0odS"
      },
      "outputs": [],
      "source": [
        "data_clients = data_clients.drop('education',axis=1)"
      ]
    },
    {
      "cell_type": "markdown",
      "metadata": {
        "id": "1zcfWCHw0odT"
      },
      "source": [
        "**Verificando novamente as linhas e colunas**"
      ]
    },
    {
      "cell_type": "code",
      "execution_count": null,
      "metadata": {
        "colab": {
          "base_uri": "https://localhost:8080/"
        },
        "id": "FyYf0GqG0odT",
        "outputId": "947688a5-c7e4-472d-cdd9-01ca243f7220"
      },
      "outputs": [
        {
          "output_type": "stream",
          "name": "stdout",
          "text": [
            "O novo numero de linhas e colunas é:\n",
            " (40000, 28)\n"
          ]
        }
      ],
      "source": [
        "print('O novo numero de linhas e colunas é:\\n',data_clients.shape)"
      ]
    },
    {
      "cell_type": "markdown",
      "metadata": {
        "id": "PBlJz_5l0odT"
      },
      "source": [
        "**Fazendo uma análise estatística:**"
      ]
    },
    {
      "cell_type": "code",
      "execution_count": null,
      "metadata": {
        "colab": {
          "base_uri": "https://localhost:8080/",
          "height": 381
        },
        "id": "_-Zg9NeP0odT",
        "outputId": "f4b2f6e7-727e-4013-e30c-a7ee4b86318a"
      },
      "outputs": [
        {
          "output_type": "execute_result",
          "data": {
            "text/html": [
              "\n",
              "  <div id=\"df-accf664e-da1c-4f42-805c-ebfcd6f837e3\">\n",
              "    <div class=\"colab-df-container\">\n",
              "      <div>\n",
              "<style scoped>\n",
              "    .dataframe tbody tr th:only-of-type {\n",
              "        vertical-align: middle;\n",
              "    }\n",
              "\n",
              "    .dataframe tbody tr th {\n",
              "        vertical-align: top;\n",
              "    }\n",
              "\n",
              "    .dataframe thead th {\n",
              "        text-align: right;\n",
              "    }\n",
              "</style>\n",
              "<table border=\"1\" class=\"dataframe\">\n",
              "  <thead>\n",
              "    <tr style=\"text-align: right;\">\n",
              "      <th></th>\n",
              "      <th>Unnamed: 0</th>\n",
              "      <th>clientId</th>\n",
              "      <th>shopId</th>\n",
              "      <th>age</th>\n",
              "      <th>numberOfDependents</th>\n",
              "      <th>areaCodeResidencialPhone</th>\n",
              "      <th>bestPaymentDay</th>\n",
              "      <th>shopRank</th>\n",
              "      <th>monthsInResidence</th>\n",
              "      <th>monthsInTheJob</th>\n",
              "      <th>professionCode</th>\n",
              "      <th>mateIncome</th>\n",
              "      <th>quantityBankingAccounts</th>\n",
              "      <th>personalNetIncome</th>\n",
              "      <th>codeApplicationBooth</th>\n",
              "      <th>BAD</th>\n",
              "    </tr>\n",
              "  </thead>\n",
              "  <tbody>\n",
              "    <tr>\n",
              "      <th>count</th>\n",
              "      <td>40000.00000</td>\n",
              "      <td>40000.000000</td>\n",
              "      <td>40000.000000</td>\n",
              "      <td>40000.000000</td>\n",
              "      <td>40000.0</td>\n",
              "      <td>40000.000000</td>\n",
              "      <td>40000.000000</td>\n",
              "      <td>40000.000000</td>\n",
              "      <td>40000.000000</td>\n",
              "      <td>40000.000000</td>\n",
              "      <td>40000.000000</td>\n",
              "      <td>40000.000000</td>\n",
              "      <td>40000.0</td>\n",
              "      <td>4.000000e+04</td>\n",
              "      <td>40000.0</td>\n",
              "      <td>40000.000000</td>\n",
              "    </tr>\n",
              "    <tr>\n",
              "      <th>mean</th>\n",
              "      <td>20000.50000</td>\n",
              "      <td>24982.227000</td>\n",
              "      <td>20.822950</td>\n",
              "      <td>34.649725</td>\n",
              "      <td>0.0</td>\n",
              "      <td>33.812275</td>\n",
              "      <td>15.313950</td>\n",
              "      <td>0.015950</td>\n",
              "      <td>152.921100</td>\n",
              "      <td>50.629500</td>\n",
              "      <td>484.611875</td>\n",
              "      <td>50.993333</td>\n",
              "      <td>0.0</td>\n",
              "      <td>9.752711e+03</td>\n",
              "      <td>0.0</td>\n",
              "      <td>0.197500</td>\n",
              "    </tr>\n",
              "    <tr>\n",
              "      <th>std</th>\n",
              "      <td>11547.14972</td>\n",
              "      <td>14428.531759</td>\n",
              "      <td>14.571913</td>\n",
              "      <td>13.076200</td>\n",
              "      <td>0.0</td>\n",
              "      <td>10.402941</td>\n",
              "      <td>7.159757</td>\n",
              "      <td>0.212124</td>\n",
              "      <td>136.096962</td>\n",
              "      <td>73.875139</td>\n",
              "      <td>382.102372</td>\n",
              "      <td>507.159125</td>\n",
              "      <td>0.0</td>\n",
              "      <td>4.856335e+05</td>\n",
              "      <td>0.0</td>\n",
              "      <td>0.398118</td>\n",
              "    </tr>\n",
              "    <tr>\n",
              "      <th>min</th>\n",
              "      <td>1.00000</td>\n",
              "      <td>2.000000</td>\n",
              "      <td>1.000000</td>\n",
              "      <td>15.000000</td>\n",
              "      <td>0.0</td>\n",
              "      <td>1.000000</td>\n",
              "      <td>1.000000</td>\n",
              "      <td>0.000000</td>\n",
              "      <td>0.000000</td>\n",
              "      <td>0.000000</td>\n",
              "      <td>0.000000</td>\n",
              "      <td>0.000000</td>\n",
              "      <td>0.0</td>\n",
              "      <td>0.000000e+00</td>\n",
              "      <td>0.0</td>\n",
              "      <td>0.000000</td>\n",
              "    </tr>\n",
              "    <tr>\n",
              "      <th>25%</th>\n",
              "      <td>10000.75000</td>\n",
              "      <td>12458.750000</td>\n",
              "      <td>12.000000</td>\n",
              "      <td>23.000000</td>\n",
              "      <td>0.0</td>\n",
              "      <td>31.000000</td>\n",
              "      <td>9.000000</td>\n",
              "      <td>0.000000</td>\n",
              "      <td>36.000000</td>\n",
              "      <td>12.000000</td>\n",
              "      <td>88.000000</td>\n",
              "      <td>0.000000</td>\n",
              "      <td>0.0</td>\n",
              "      <td>2.700000e+02</td>\n",
              "      <td>0.0</td>\n",
              "      <td>0.000000</td>\n",
              "    </tr>\n",
              "    <tr>\n",
              "      <th>50%</th>\n",
              "      <td>20000.50000</td>\n",
              "      <td>25058.500000</td>\n",
              "      <td>21.000000</td>\n",
              "      <td>33.000000</td>\n",
              "      <td>0.0</td>\n",
              "      <td>31.000000</td>\n",
              "      <td>12.000000</td>\n",
              "      <td>0.000000</td>\n",
              "      <td>120.000000</td>\n",
              "      <td>24.000000</td>\n",
              "      <td>514.000000</td>\n",
              "      <td>0.000000</td>\n",
              "      <td>0.0</td>\n",
              "      <td>4.000000e+02</td>\n",
              "      <td>0.0</td>\n",
              "      <td>0.000000</td>\n",
              "    </tr>\n",
              "    <tr>\n",
              "      <th>75%</th>\n",
              "      <td>30000.25000</td>\n",
              "      <td>37425.250000</td>\n",
              "      <td>24.000000</td>\n",
              "      <td>43.000000</td>\n",
              "      <td>0.0</td>\n",
              "      <td>31.000000</td>\n",
              "      <td>20.000000</td>\n",
              "      <td>0.000000</td>\n",
              "      <td>240.000000</td>\n",
              "      <td>60.000000</td>\n",
              "      <td>865.000000</td>\n",
              "      <td>0.000000</td>\n",
              "      <td>0.0</td>\n",
              "      <td>7.380000e+02</td>\n",
              "      <td>0.0</td>\n",
              "      <td>0.000000</td>\n",
              "    </tr>\n",
              "    <tr>\n",
              "      <th>max</th>\n",
              "      <td>40000.00000</td>\n",
              "      <td>50000.000000</td>\n",
              "      <td>96.000000</td>\n",
              "      <td>88.000000</td>\n",
              "      <td>0.0</td>\n",
              "      <td>70.000000</td>\n",
              "      <td>28.000000</td>\n",
              "      <td>3.000000</td>\n",
              "      <td>1188.000000</td>\n",
              "      <td>1176.000000</td>\n",
              "      <td>999.000000</td>\n",
              "      <td>70000.000000</td>\n",
              "      <td>0.0</td>\n",
              "      <td>3.852910e+07</td>\n",
              "      <td>0.0</td>\n",
              "      <td>1.000000</td>\n",
              "    </tr>\n",
              "  </tbody>\n",
              "</table>\n",
              "</div>\n",
              "      <button class=\"colab-df-convert\" onclick=\"convertToInteractive('df-accf664e-da1c-4f42-805c-ebfcd6f837e3')\"\n",
              "              title=\"Convert this dataframe to an interactive table.\"\n",
              "              style=\"display:none;\">\n",
              "        \n",
              "  <svg xmlns=\"http://www.w3.org/2000/svg\" height=\"24px\"viewBox=\"0 0 24 24\"\n",
              "       width=\"24px\">\n",
              "    <path d=\"M0 0h24v24H0V0z\" fill=\"none\"/>\n",
              "    <path d=\"M18.56 5.44l.94 2.06.94-2.06 2.06-.94-2.06-.94-.94-2.06-.94 2.06-2.06.94zm-11 1L8.5 8.5l.94-2.06 2.06-.94-2.06-.94L8.5 2.5l-.94 2.06-2.06.94zm10 10l.94 2.06.94-2.06 2.06-.94-2.06-.94-.94-2.06-.94 2.06-2.06.94z\"/><path d=\"M17.41 7.96l-1.37-1.37c-.4-.4-.92-.59-1.43-.59-.52 0-1.04.2-1.43.59L10.3 9.45l-7.72 7.72c-.78.78-.78 2.05 0 2.83L4 21.41c.39.39.9.59 1.41.59.51 0 1.02-.2 1.41-.59l7.78-7.78 2.81-2.81c.8-.78.8-2.07 0-2.86zM5.41 20L4 18.59l7.72-7.72 1.47 1.35L5.41 20z\"/>\n",
              "  </svg>\n",
              "      </button>\n",
              "      \n",
              "  <style>\n",
              "    .colab-df-container {\n",
              "      display:flex;\n",
              "      flex-wrap:wrap;\n",
              "      gap: 12px;\n",
              "    }\n",
              "\n",
              "    .colab-df-convert {\n",
              "      background-color: #E8F0FE;\n",
              "      border: none;\n",
              "      border-radius: 50%;\n",
              "      cursor: pointer;\n",
              "      display: none;\n",
              "      fill: #1967D2;\n",
              "      height: 32px;\n",
              "      padding: 0 0 0 0;\n",
              "      width: 32px;\n",
              "    }\n",
              "\n",
              "    .colab-df-convert:hover {\n",
              "      background-color: #E2EBFA;\n",
              "      box-shadow: 0px 1px 2px rgba(60, 64, 67, 0.3), 0px 1px 3px 1px rgba(60, 64, 67, 0.15);\n",
              "      fill: #174EA6;\n",
              "    }\n",
              "\n",
              "    [theme=dark] .colab-df-convert {\n",
              "      background-color: #3B4455;\n",
              "      fill: #D2E3FC;\n",
              "    }\n",
              "\n",
              "    [theme=dark] .colab-df-convert:hover {\n",
              "      background-color: #434B5C;\n",
              "      box-shadow: 0px 1px 3px 1px rgba(0, 0, 0, 0.15);\n",
              "      filter: drop-shadow(0px 1px 2px rgba(0, 0, 0, 0.3));\n",
              "      fill: #FFFFFF;\n",
              "    }\n",
              "  </style>\n",
              "\n",
              "      <script>\n",
              "        const buttonEl =\n",
              "          document.querySelector('#df-accf664e-da1c-4f42-805c-ebfcd6f837e3 button.colab-df-convert');\n",
              "        buttonEl.style.display =\n",
              "          google.colab.kernel.accessAllowed ? 'block' : 'none';\n",
              "\n",
              "        async function convertToInteractive(key) {\n",
              "          const element = document.querySelector('#df-accf664e-da1c-4f42-805c-ebfcd6f837e3');\n",
              "          const dataTable =\n",
              "            await google.colab.kernel.invokeFunction('convertToInteractive',\n",
              "                                                     [key], {});\n",
              "          if (!dataTable) return;\n",
              "\n",
              "          const docLinkHtml = 'Like what you see? Visit the ' +\n",
              "            '<a target=\"_blank\" href=https://colab.research.google.com/notebooks/data_table.ipynb>data table notebook</a>'\n",
              "            + ' to learn more about interactive tables.';\n",
              "          element.innerHTML = '';\n",
              "          dataTable['output_type'] = 'display_data';\n",
              "          await google.colab.output.renderOutput(dataTable, element);\n",
              "          const docLink = document.createElement('div');\n",
              "          docLink.innerHTML = docLinkHtml;\n",
              "          element.appendChild(docLink);\n",
              "        }\n",
              "      </script>\n",
              "    </div>\n",
              "  </div>\n",
              "  "
            ],
            "text/plain": [
              "        Unnamed: 0      clientId  ...  codeApplicationBooth           BAD\n",
              "count  40000.00000  40000.000000  ...               40000.0  40000.000000\n",
              "mean   20000.50000  24982.227000  ...                   0.0      0.197500\n",
              "std    11547.14972  14428.531759  ...                   0.0      0.398118\n",
              "min        1.00000      2.000000  ...                   0.0      0.000000\n",
              "25%    10000.75000  12458.750000  ...                   0.0      0.000000\n",
              "50%    20000.50000  25058.500000  ...                   0.0      0.000000\n",
              "75%    30000.25000  37425.250000  ...                   0.0      0.000000\n",
              "max    40000.00000  50000.000000  ...                   0.0      1.000000\n",
              "\n",
              "[8 rows x 16 columns]"
            ]
          },
          "metadata": {},
          "execution_count": 345
        }
      ],
      "source": [
        "data_clients.describe()"
      ]
    },
    {
      "cell_type": "markdown",
      "source": [
        "**Nota-se que a média de numeros de dependentes é zero, quantityBankingAccounts e codeApplication, assim veremos suas características**"
      ],
      "metadata": {
        "id": "PZJjvFGMG4fe"
      }
    },
    {
      "cell_type": "code",
      "source": [
        "print('O tipos de dados em number of dependents é: \\n',data_clients['numberOfDependents'].unique())\n",
        "print('O tipos de dados em quantity banking acounts: \\n',data_clients['quantityBankingAccounts'].unique())\n",
        "print('O tipos de dados em code application booth: \\n',data_clients['codeApplicationBooth'].unique())\t"
      ],
      "metadata": {
        "colab": {
          "base_uri": "https://localhost:8080/"
        },
        "id": "H8w_kQIAHBmQ",
        "outputId": "d1dc694f-3932-40de-c9fc-60acf6bbee56"
      },
      "execution_count": null,
      "outputs": [
        {
          "output_type": "stream",
          "name": "stdout",
          "text": [
            "O tipos de dados em number of dependents é: \n",
            " [0]\n",
            "O tipos de dados em quantity banking acounts: \n",
            " [0]\n",
            "O tipos de dados em code application booth: \n",
            " [0]\n"
          ]
        }
      ]
    },
    {
      "cell_type": "markdown",
      "source": [
        "**removendo as colunas quantityBankingAccounts, codeApplication e quantityBankingAccounts**"
      ],
      "metadata": {
        "id": "t2zfJPT9IQSM"
      }
    },
    {
      "cell_type": "code",
      "source": [
        "data_clients = data_clients.drop(columns=['numberOfDependents','quantityBankingAccounts','codeApplicationBooth'])"
      ],
      "metadata": {
        "id": "HNyskhWQIgvY"
      },
      "execution_count": null,
      "outputs": []
    },
    {
      "cell_type": "code",
      "source": [
        "data_clients.shape"
      ],
      "metadata": {
        "colab": {
          "base_uri": "https://localhost:8080/"
        },
        "id": "KIe9FAMwKBZh",
        "outputId": "0e19cdc4-9169-4cb8-f72b-c20284f5469a"
      },
      "execution_count": null,
      "outputs": [
        {
          "output_type": "execute_result",
          "data": {
            "text/plain": [
              "(40000, 25)"
            ]
          },
          "metadata": {},
          "execution_count": 348
        }
      ]
    },
    {
      "cell_type": "code",
      "source": [
        "data_clients.describe()"
      ],
      "metadata": {
        "colab": {
          "base_uri": "https://localhost:8080/",
          "height": 300
        },
        "id": "aSE9TrKdKFJs",
        "outputId": "0324de67-5a91-4cad-bcbc-a693a2793c89"
      },
      "execution_count": null,
      "outputs": [
        {
          "output_type": "execute_result",
          "data": {
            "text/html": [
              "\n",
              "  <div id=\"df-455bc72d-6f73-4d50-b40a-5f566bc4511c\">\n",
              "    <div class=\"colab-df-container\">\n",
              "      <div>\n",
              "<style scoped>\n",
              "    .dataframe tbody tr th:only-of-type {\n",
              "        vertical-align: middle;\n",
              "    }\n",
              "\n",
              "    .dataframe tbody tr th {\n",
              "        vertical-align: top;\n",
              "    }\n",
              "\n",
              "    .dataframe thead th {\n",
              "        text-align: right;\n",
              "    }\n",
              "</style>\n",
              "<table border=\"1\" class=\"dataframe\">\n",
              "  <thead>\n",
              "    <tr style=\"text-align: right;\">\n",
              "      <th></th>\n",
              "      <th>Unnamed: 0</th>\n",
              "      <th>clientId</th>\n",
              "      <th>shopId</th>\n",
              "      <th>age</th>\n",
              "      <th>areaCodeResidencialPhone</th>\n",
              "      <th>bestPaymentDay</th>\n",
              "      <th>shopRank</th>\n",
              "      <th>monthsInResidence</th>\n",
              "      <th>monthsInTheJob</th>\n",
              "      <th>professionCode</th>\n",
              "      <th>mateIncome</th>\n",
              "      <th>personalNetIncome</th>\n",
              "      <th>BAD</th>\n",
              "    </tr>\n",
              "  </thead>\n",
              "  <tbody>\n",
              "    <tr>\n",
              "      <th>count</th>\n",
              "      <td>40000.00000</td>\n",
              "      <td>40000.000000</td>\n",
              "      <td>40000.000000</td>\n",
              "      <td>40000.000000</td>\n",
              "      <td>40000.000000</td>\n",
              "      <td>40000.000000</td>\n",
              "      <td>40000.000000</td>\n",
              "      <td>40000.000000</td>\n",
              "      <td>40000.000000</td>\n",
              "      <td>40000.000000</td>\n",
              "      <td>40000.000000</td>\n",
              "      <td>4.000000e+04</td>\n",
              "      <td>40000.000000</td>\n",
              "    </tr>\n",
              "    <tr>\n",
              "      <th>mean</th>\n",
              "      <td>20000.50000</td>\n",
              "      <td>24982.227000</td>\n",
              "      <td>20.822950</td>\n",
              "      <td>34.649725</td>\n",
              "      <td>33.812275</td>\n",
              "      <td>15.313950</td>\n",
              "      <td>0.015950</td>\n",
              "      <td>152.921100</td>\n",
              "      <td>50.629500</td>\n",
              "      <td>484.611875</td>\n",
              "      <td>50.993333</td>\n",
              "      <td>9.752711e+03</td>\n",
              "      <td>0.197500</td>\n",
              "    </tr>\n",
              "    <tr>\n",
              "      <th>std</th>\n",
              "      <td>11547.14972</td>\n",
              "      <td>14428.531759</td>\n",
              "      <td>14.571913</td>\n",
              "      <td>13.076200</td>\n",
              "      <td>10.402941</td>\n",
              "      <td>7.159757</td>\n",
              "      <td>0.212124</td>\n",
              "      <td>136.096962</td>\n",
              "      <td>73.875139</td>\n",
              "      <td>382.102372</td>\n",
              "      <td>507.159125</td>\n",
              "      <td>4.856335e+05</td>\n",
              "      <td>0.398118</td>\n",
              "    </tr>\n",
              "    <tr>\n",
              "      <th>min</th>\n",
              "      <td>1.00000</td>\n",
              "      <td>2.000000</td>\n",
              "      <td>1.000000</td>\n",
              "      <td>15.000000</td>\n",
              "      <td>1.000000</td>\n",
              "      <td>1.000000</td>\n",
              "      <td>0.000000</td>\n",
              "      <td>0.000000</td>\n",
              "      <td>0.000000</td>\n",
              "      <td>0.000000</td>\n",
              "      <td>0.000000</td>\n",
              "      <td>0.000000e+00</td>\n",
              "      <td>0.000000</td>\n",
              "    </tr>\n",
              "    <tr>\n",
              "      <th>25%</th>\n",
              "      <td>10000.75000</td>\n",
              "      <td>12458.750000</td>\n",
              "      <td>12.000000</td>\n",
              "      <td>23.000000</td>\n",
              "      <td>31.000000</td>\n",
              "      <td>9.000000</td>\n",
              "      <td>0.000000</td>\n",
              "      <td>36.000000</td>\n",
              "      <td>12.000000</td>\n",
              "      <td>88.000000</td>\n",
              "      <td>0.000000</td>\n",
              "      <td>2.700000e+02</td>\n",
              "      <td>0.000000</td>\n",
              "    </tr>\n",
              "    <tr>\n",
              "      <th>50%</th>\n",
              "      <td>20000.50000</td>\n",
              "      <td>25058.500000</td>\n",
              "      <td>21.000000</td>\n",
              "      <td>33.000000</td>\n",
              "      <td>31.000000</td>\n",
              "      <td>12.000000</td>\n",
              "      <td>0.000000</td>\n",
              "      <td>120.000000</td>\n",
              "      <td>24.000000</td>\n",
              "      <td>514.000000</td>\n",
              "      <td>0.000000</td>\n",
              "      <td>4.000000e+02</td>\n",
              "      <td>0.000000</td>\n",
              "    </tr>\n",
              "    <tr>\n",
              "      <th>75%</th>\n",
              "      <td>30000.25000</td>\n",
              "      <td>37425.250000</td>\n",
              "      <td>24.000000</td>\n",
              "      <td>43.000000</td>\n",
              "      <td>31.000000</td>\n",
              "      <td>20.000000</td>\n",
              "      <td>0.000000</td>\n",
              "      <td>240.000000</td>\n",
              "      <td>60.000000</td>\n",
              "      <td>865.000000</td>\n",
              "      <td>0.000000</td>\n",
              "      <td>7.380000e+02</td>\n",
              "      <td>0.000000</td>\n",
              "    </tr>\n",
              "    <tr>\n",
              "      <th>max</th>\n",
              "      <td>40000.00000</td>\n",
              "      <td>50000.000000</td>\n",
              "      <td>96.000000</td>\n",
              "      <td>88.000000</td>\n",
              "      <td>70.000000</td>\n",
              "      <td>28.000000</td>\n",
              "      <td>3.000000</td>\n",
              "      <td>1188.000000</td>\n",
              "      <td>1176.000000</td>\n",
              "      <td>999.000000</td>\n",
              "      <td>70000.000000</td>\n",
              "      <td>3.852910e+07</td>\n",
              "      <td>1.000000</td>\n",
              "    </tr>\n",
              "  </tbody>\n",
              "</table>\n",
              "</div>\n",
              "      <button class=\"colab-df-convert\" onclick=\"convertToInteractive('df-455bc72d-6f73-4d50-b40a-5f566bc4511c')\"\n",
              "              title=\"Convert this dataframe to an interactive table.\"\n",
              "              style=\"display:none;\">\n",
              "        \n",
              "  <svg xmlns=\"http://www.w3.org/2000/svg\" height=\"24px\"viewBox=\"0 0 24 24\"\n",
              "       width=\"24px\">\n",
              "    <path d=\"M0 0h24v24H0V0z\" fill=\"none\"/>\n",
              "    <path d=\"M18.56 5.44l.94 2.06.94-2.06 2.06-.94-2.06-.94-.94-2.06-.94 2.06-2.06.94zm-11 1L8.5 8.5l.94-2.06 2.06-.94-2.06-.94L8.5 2.5l-.94 2.06-2.06.94zm10 10l.94 2.06.94-2.06 2.06-.94-2.06-.94-.94-2.06-.94 2.06-2.06.94z\"/><path d=\"M17.41 7.96l-1.37-1.37c-.4-.4-.92-.59-1.43-.59-.52 0-1.04.2-1.43.59L10.3 9.45l-7.72 7.72c-.78.78-.78 2.05 0 2.83L4 21.41c.39.39.9.59 1.41.59.51 0 1.02-.2 1.41-.59l7.78-7.78 2.81-2.81c.8-.78.8-2.07 0-2.86zM5.41 20L4 18.59l7.72-7.72 1.47 1.35L5.41 20z\"/>\n",
              "  </svg>\n",
              "      </button>\n",
              "      \n",
              "  <style>\n",
              "    .colab-df-container {\n",
              "      display:flex;\n",
              "      flex-wrap:wrap;\n",
              "      gap: 12px;\n",
              "    }\n",
              "\n",
              "    .colab-df-convert {\n",
              "      background-color: #E8F0FE;\n",
              "      border: none;\n",
              "      border-radius: 50%;\n",
              "      cursor: pointer;\n",
              "      display: none;\n",
              "      fill: #1967D2;\n",
              "      height: 32px;\n",
              "      padding: 0 0 0 0;\n",
              "      width: 32px;\n",
              "    }\n",
              "\n",
              "    .colab-df-convert:hover {\n",
              "      background-color: #E2EBFA;\n",
              "      box-shadow: 0px 1px 2px rgba(60, 64, 67, 0.3), 0px 1px 3px 1px rgba(60, 64, 67, 0.15);\n",
              "      fill: #174EA6;\n",
              "    }\n",
              "\n",
              "    [theme=dark] .colab-df-convert {\n",
              "      background-color: #3B4455;\n",
              "      fill: #D2E3FC;\n",
              "    }\n",
              "\n",
              "    [theme=dark] .colab-df-convert:hover {\n",
              "      background-color: #434B5C;\n",
              "      box-shadow: 0px 1px 3px 1px rgba(0, 0, 0, 0.15);\n",
              "      filter: drop-shadow(0px 1px 2px rgba(0, 0, 0, 0.3));\n",
              "      fill: #FFFFFF;\n",
              "    }\n",
              "  </style>\n",
              "\n",
              "      <script>\n",
              "        const buttonEl =\n",
              "          document.querySelector('#df-455bc72d-6f73-4d50-b40a-5f566bc4511c button.colab-df-convert');\n",
              "        buttonEl.style.display =\n",
              "          google.colab.kernel.accessAllowed ? 'block' : 'none';\n",
              "\n",
              "        async function convertToInteractive(key) {\n",
              "          const element = document.querySelector('#df-455bc72d-6f73-4d50-b40a-5f566bc4511c');\n",
              "          const dataTable =\n",
              "            await google.colab.kernel.invokeFunction('convertToInteractive',\n",
              "                                                     [key], {});\n",
              "          if (!dataTable) return;\n",
              "\n",
              "          const docLinkHtml = 'Like what you see? Visit the ' +\n",
              "            '<a target=\"_blank\" href=https://colab.research.google.com/notebooks/data_table.ipynb>data table notebook</a>'\n",
              "            + ' to learn more about interactive tables.';\n",
              "          element.innerHTML = '';\n",
              "          dataTable['output_type'] = 'display_data';\n",
              "          await google.colab.output.renderOutput(dataTable, element);\n",
              "          const docLink = document.createElement('div');\n",
              "          docLink.innerHTML = docLinkHtml;\n",
              "          element.appendChild(docLink);\n",
              "        }\n",
              "      </script>\n",
              "    </div>\n",
              "  </div>\n",
              "  "
            ],
            "text/plain": [
              "        Unnamed: 0      clientId  ...  personalNetIncome           BAD\n",
              "count  40000.00000  40000.000000  ...       4.000000e+04  40000.000000\n",
              "mean   20000.50000  24982.227000  ...       9.752711e+03      0.197500\n",
              "std    11547.14972  14428.531759  ...       4.856335e+05      0.398118\n",
              "min        1.00000      2.000000  ...       0.000000e+00      0.000000\n",
              "25%    10000.75000  12458.750000  ...       2.700000e+02      0.000000\n",
              "50%    20000.50000  25058.500000  ...       4.000000e+02      0.000000\n",
              "75%    30000.25000  37425.250000  ...       7.380000e+02      0.000000\n",
              "max    40000.00000  50000.000000  ...       3.852910e+07      1.000000\n",
              "\n",
              "[8 rows x 13 columns]"
            ]
          },
          "metadata": {},
          "execution_count": 349
        }
      ]
    },
    {
      "cell_type": "code",
      "source": [
        "data_clients.head(10)"
      ],
      "metadata": {
        "colab": {
          "base_uri": "https://localhost:8080/",
          "height": 444
        },
        "id": "lGEBtWKzKJJy",
        "outputId": "53d34678-54da-40ae-a29b-3060e1a0d8f1"
      },
      "execution_count": null,
      "outputs": [
        {
          "output_type": "execute_result",
          "data": {
            "text/html": [
              "\n",
              "  <div id=\"df-f4c1bd92-ea53-42b8-b25b-aee117d92299\">\n",
              "    <div class=\"colab-df-container\">\n",
              "      <div>\n",
              "<style scoped>\n",
              "    .dataframe tbody tr th:only-of-type {\n",
              "        vertical-align: middle;\n",
              "    }\n",
              "\n",
              "    .dataframe tbody tr th {\n",
              "        vertical-align: top;\n",
              "    }\n",
              "\n",
              "    .dataframe thead th {\n",
              "        text-align: right;\n",
              "    }\n",
              "</style>\n",
              "<table border=\"1\" class=\"dataframe\">\n",
              "  <thead>\n",
              "    <tr style=\"text-align: right;\">\n",
              "      <th></th>\n",
              "      <th>Unnamed: 0</th>\n",
              "      <th>clientId</th>\n",
              "      <th>shopId</th>\n",
              "      <th>gender</th>\n",
              "      <th>maritalStatus</th>\n",
              "      <th>age</th>\n",
              "      <th>flagResidencialPhone</th>\n",
              "      <th>areaCodeResidencialPhone</th>\n",
              "      <th>bestPaymentDay</th>\n",
              "      <th>shopRank</th>\n",
              "      <th>residenceType</th>\n",
              "      <th>monthsInResidence</th>\n",
              "      <th>flagMothersName</th>\n",
              "      <th>flagFathersName</th>\n",
              "      <th>flagResidenceTown_WorkingTown</th>\n",
              "      <th>flagResidenceState_WorkingState</th>\n",
              "      <th>monthsInTheJob</th>\n",
              "      <th>professionCode</th>\n",
              "      <th>mateIncome</th>\n",
              "      <th>flagResidencialAddress_PostalAddress</th>\n",
              "      <th>flagOtherCard</th>\n",
              "      <th>flagMobilePhone</th>\n",
              "      <th>flagContactPhone</th>\n",
              "      <th>personalNetIncome</th>\n",
              "      <th>BAD</th>\n",
              "    </tr>\n",
              "  </thead>\n",
              "  <tbody>\n",
              "    <tr>\n",
              "      <th>0</th>\n",
              "      <td>1</td>\n",
              "      <td>2</td>\n",
              "      <td>15</td>\n",
              "      <td>F</td>\n",
              "      <td>S</td>\n",
              "      <td>18</td>\n",
              "      <td>Y</td>\n",
              "      <td>31</td>\n",
              "      <td>20</td>\n",
              "      <td>0</td>\n",
              "      <td>P</td>\n",
              "      <td>216</td>\n",
              "      <td>Y</td>\n",
              "      <td>Y</td>\n",
              "      <td>Y</td>\n",
              "      <td>Y</td>\n",
              "      <td>12</td>\n",
              "      <td>853</td>\n",
              "      <td>0.0</td>\n",
              "      <td>Y</td>\n",
              "      <td>N</td>\n",
              "      <td>N</td>\n",
              "      <td>N</td>\n",
              "      <td>300.0</td>\n",
              "      <td>0</td>\n",
              "    </tr>\n",
              "    <tr>\n",
              "      <th>1</th>\n",
              "      <td>2</td>\n",
              "      <td>4</td>\n",
              "      <td>12</td>\n",
              "      <td>F</td>\n",
              "      <td>C</td>\n",
              "      <td>47</td>\n",
              "      <td>N</td>\n",
              "      <td>31</td>\n",
              "      <td>25</td>\n",
              "      <td>0</td>\n",
              "      <td>P</td>\n",
              "      <td>180</td>\n",
              "      <td>Y</td>\n",
              "      <td>Y</td>\n",
              "      <td>N</td>\n",
              "      <td>Y</td>\n",
              "      <td>24</td>\n",
              "      <td>35</td>\n",
              "      <td>0.0</td>\n",
              "      <td>Y</td>\n",
              "      <td>N</td>\n",
              "      <td>N</td>\n",
              "      <td>N</td>\n",
              "      <td>304.0</td>\n",
              "      <td>0</td>\n",
              "    </tr>\n",
              "    <tr>\n",
              "      <th>2</th>\n",
              "      <td>3</td>\n",
              "      <td>5</td>\n",
              "      <td>16</td>\n",
              "      <td>F</td>\n",
              "      <td>S</td>\n",
              "      <td>28</td>\n",
              "      <td>Y</td>\n",
              "      <td>31</td>\n",
              "      <td>25</td>\n",
              "      <td>0</td>\n",
              "      <td>O</td>\n",
              "      <td>12</td>\n",
              "      <td>Y</td>\n",
              "      <td>Y</td>\n",
              "      <td>Y</td>\n",
              "      <td>Y</td>\n",
              "      <td>12</td>\n",
              "      <td>24</td>\n",
              "      <td>0.0</td>\n",
              "      <td>Y</td>\n",
              "      <td>N</td>\n",
              "      <td>N</td>\n",
              "      <td>N</td>\n",
              "      <td>250.0</td>\n",
              "      <td>0</td>\n",
              "    </tr>\n",
              "    <tr>\n",
              "      <th>3</th>\n",
              "      <td>4</td>\n",
              "      <td>6</td>\n",
              "      <td>24</td>\n",
              "      <td>M</td>\n",
              "      <td>S</td>\n",
              "      <td>26</td>\n",
              "      <td>N</td>\n",
              "      <td>31</td>\n",
              "      <td>28</td>\n",
              "      <td>0</td>\n",
              "      <td>P</td>\n",
              "      <td>180</td>\n",
              "      <td>Y</td>\n",
              "      <td>Y</td>\n",
              "      <td>N</td>\n",
              "      <td>Y</td>\n",
              "      <td>0</td>\n",
              "      <td>999</td>\n",
              "      <td>0.0</td>\n",
              "      <td>Y</td>\n",
              "      <td>N</td>\n",
              "      <td>N</td>\n",
              "      <td>N</td>\n",
              "      <td>800.0</td>\n",
              "      <td>0</td>\n",
              "    </tr>\n",
              "    <tr>\n",
              "      <th>4</th>\n",
              "      <td>5</td>\n",
              "      <td>7</td>\n",
              "      <td>55</td>\n",
              "      <td>F</td>\n",
              "      <td>S</td>\n",
              "      <td>22</td>\n",
              "      <td>Y</td>\n",
              "      <td>31</td>\n",
              "      <td>12</td>\n",
              "      <td>0</td>\n",
              "      <td>A</td>\n",
              "      <td>0</td>\n",
              "      <td>Y</td>\n",
              "      <td>Y</td>\n",
              "      <td>Y</td>\n",
              "      <td>Y</td>\n",
              "      <td>48</td>\n",
              "      <td>999</td>\n",
              "      <td>0.0</td>\n",
              "      <td>Y</td>\n",
              "      <td>N</td>\n",
              "      <td>N</td>\n",
              "      <td>N</td>\n",
              "      <td>410.0</td>\n",
              "      <td>0</td>\n",
              "    </tr>\n",
              "    <tr>\n",
              "      <th>5</th>\n",
              "      <td>6</td>\n",
              "      <td>8</td>\n",
              "      <td>6</td>\n",
              "      <td>F</td>\n",
              "      <td>C</td>\n",
              "      <td>21</td>\n",
              "      <td>Y</td>\n",
              "      <td>23</td>\n",
              "      <td>28</td>\n",
              "      <td>0</td>\n",
              "      <td>A</td>\n",
              "      <td>24</td>\n",
              "      <td>Y</td>\n",
              "      <td>Y</td>\n",
              "      <td>Y</td>\n",
              "      <td>Y</td>\n",
              "      <td>12</td>\n",
              "      <td>40</td>\n",
              "      <td>800.0</td>\n",
              "      <td>Y</td>\n",
              "      <td>N</td>\n",
              "      <td>N</td>\n",
              "      <td>N</td>\n",
              "      <td>248.0</td>\n",
              "      <td>0</td>\n",
              "    </tr>\n",
              "    <tr>\n",
              "      <th>6</th>\n",
              "      <td>7</td>\n",
              "      <td>9</td>\n",
              "      <td>3</td>\n",
              "      <td>F</td>\n",
              "      <td>S</td>\n",
              "      <td>27</td>\n",
              "      <td>Y</td>\n",
              "      <td>31</td>\n",
              "      <td>20</td>\n",
              "      <td>0</td>\n",
              "      <td>A</td>\n",
              "      <td>0</td>\n",
              "      <td>Y</td>\n",
              "      <td>Y</td>\n",
              "      <td>Y</td>\n",
              "      <td>Y</td>\n",
              "      <td>0</td>\n",
              "      <td>950</td>\n",
              "      <td>0.0</td>\n",
              "      <td>Y</td>\n",
              "      <td>N</td>\n",
              "      <td>N</td>\n",
              "      <td>N</td>\n",
              "      <td>1000.0</td>\n",
              "      <td>1</td>\n",
              "    </tr>\n",
              "    <tr>\n",
              "      <th>7</th>\n",
              "      <td>8</td>\n",
              "      <td>10</td>\n",
              "      <td>23</td>\n",
              "      <td>F</td>\n",
              "      <td>C</td>\n",
              "      <td>57</td>\n",
              "      <td>Y</td>\n",
              "      <td>31</td>\n",
              "      <td>12</td>\n",
              "      <td>0</td>\n",
              "      <td>P</td>\n",
              "      <td>24</td>\n",
              "      <td>Y</td>\n",
              "      <td>Y</td>\n",
              "      <td>N</td>\n",
              "      <td>Y</td>\n",
              "      <td>96</td>\n",
              "      <td>13</td>\n",
              "      <td>0.0</td>\n",
              "      <td>Y</td>\n",
              "      <td>N</td>\n",
              "      <td>N</td>\n",
              "      <td>N</td>\n",
              "      <td>856.0</td>\n",
              "      <td>0</td>\n",
              "    </tr>\n",
              "    <tr>\n",
              "      <th>8</th>\n",
              "      <td>9</td>\n",
              "      <td>11</td>\n",
              "      <td>25</td>\n",
              "      <td>F</td>\n",
              "      <td>S</td>\n",
              "      <td>53</td>\n",
              "      <td>Y</td>\n",
              "      <td>31</td>\n",
              "      <td>18</td>\n",
              "      <td>0</td>\n",
              "      <td>P</td>\n",
              "      <td>60</td>\n",
              "      <td>Y</td>\n",
              "      <td>Y</td>\n",
              "      <td>N</td>\n",
              "      <td>Y</td>\n",
              "      <td>24</td>\n",
              "      <td>13</td>\n",
              "      <td>0.0</td>\n",
              "      <td>Y</td>\n",
              "      <td>N</td>\n",
              "      <td>N</td>\n",
              "      <td>N</td>\n",
              "      <td>738.0</td>\n",
              "      <td>1</td>\n",
              "    </tr>\n",
              "    <tr>\n",
              "      <th>9</th>\n",
              "      <td>10</td>\n",
              "      <td>12</td>\n",
              "      <td>12</td>\n",
              "      <td>F</td>\n",
              "      <td>C</td>\n",
              "      <td>32</td>\n",
              "      <td>Y</td>\n",
              "      <td>31</td>\n",
              "      <td>12</td>\n",
              "      <td>0</td>\n",
              "      <td>P</td>\n",
              "      <td>24</td>\n",
              "      <td>Y</td>\n",
              "      <td>Y</td>\n",
              "      <td>N</td>\n",
              "      <td>Y</td>\n",
              "      <td>0</td>\n",
              "      <td>165</td>\n",
              "      <td>0.0</td>\n",
              "      <td>Y</td>\n",
              "      <td>N</td>\n",
              "      <td>N</td>\n",
              "      <td>N</td>\n",
              "      <td>700.0</td>\n",
              "      <td>0</td>\n",
              "    </tr>\n",
              "  </tbody>\n",
              "</table>\n",
              "</div>\n",
              "      <button class=\"colab-df-convert\" onclick=\"convertToInteractive('df-f4c1bd92-ea53-42b8-b25b-aee117d92299')\"\n",
              "              title=\"Convert this dataframe to an interactive table.\"\n",
              "              style=\"display:none;\">\n",
              "        \n",
              "  <svg xmlns=\"http://www.w3.org/2000/svg\" height=\"24px\"viewBox=\"0 0 24 24\"\n",
              "       width=\"24px\">\n",
              "    <path d=\"M0 0h24v24H0V0z\" fill=\"none\"/>\n",
              "    <path d=\"M18.56 5.44l.94 2.06.94-2.06 2.06-.94-2.06-.94-.94-2.06-.94 2.06-2.06.94zm-11 1L8.5 8.5l.94-2.06 2.06-.94-2.06-.94L8.5 2.5l-.94 2.06-2.06.94zm10 10l.94 2.06.94-2.06 2.06-.94-2.06-.94-.94-2.06-.94 2.06-2.06.94z\"/><path d=\"M17.41 7.96l-1.37-1.37c-.4-.4-.92-.59-1.43-.59-.52 0-1.04.2-1.43.59L10.3 9.45l-7.72 7.72c-.78.78-.78 2.05 0 2.83L4 21.41c.39.39.9.59 1.41.59.51 0 1.02-.2 1.41-.59l7.78-7.78 2.81-2.81c.8-.78.8-2.07 0-2.86zM5.41 20L4 18.59l7.72-7.72 1.47 1.35L5.41 20z\"/>\n",
              "  </svg>\n",
              "      </button>\n",
              "      \n",
              "  <style>\n",
              "    .colab-df-container {\n",
              "      display:flex;\n",
              "      flex-wrap:wrap;\n",
              "      gap: 12px;\n",
              "    }\n",
              "\n",
              "    .colab-df-convert {\n",
              "      background-color: #E8F0FE;\n",
              "      border: none;\n",
              "      border-radius: 50%;\n",
              "      cursor: pointer;\n",
              "      display: none;\n",
              "      fill: #1967D2;\n",
              "      height: 32px;\n",
              "      padding: 0 0 0 0;\n",
              "      width: 32px;\n",
              "    }\n",
              "\n",
              "    .colab-df-convert:hover {\n",
              "      background-color: #E2EBFA;\n",
              "      box-shadow: 0px 1px 2px rgba(60, 64, 67, 0.3), 0px 1px 3px 1px rgba(60, 64, 67, 0.15);\n",
              "      fill: #174EA6;\n",
              "    }\n",
              "\n",
              "    [theme=dark] .colab-df-convert {\n",
              "      background-color: #3B4455;\n",
              "      fill: #D2E3FC;\n",
              "    }\n",
              "\n",
              "    [theme=dark] .colab-df-convert:hover {\n",
              "      background-color: #434B5C;\n",
              "      box-shadow: 0px 1px 3px 1px rgba(0, 0, 0, 0.15);\n",
              "      filter: drop-shadow(0px 1px 2px rgba(0, 0, 0, 0.3));\n",
              "      fill: #FFFFFF;\n",
              "    }\n",
              "  </style>\n",
              "\n",
              "      <script>\n",
              "        const buttonEl =\n",
              "          document.querySelector('#df-f4c1bd92-ea53-42b8-b25b-aee117d92299 button.colab-df-convert');\n",
              "        buttonEl.style.display =\n",
              "          google.colab.kernel.accessAllowed ? 'block' : 'none';\n",
              "\n",
              "        async function convertToInteractive(key) {\n",
              "          const element = document.querySelector('#df-f4c1bd92-ea53-42b8-b25b-aee117d92299');\n",
              "          const dataTable =\n",
              "            await google.colab.kernel.invokeFunction('convertToInteractive',\n",
              "                                                     [key], {});\n",
              "          if (!dataTable) return;\n",
              "\n",
              "          const docLinkHtml = 'Like what you see? Visit the ' +\n",
              "            '<a target=\"_blank\" href=https://colab.research.google.com/notebooks/data_table.ipynb>data table notebook</a>'\n",
              "            + ' to learn more about interactive tables.';\n",
              "          element.innerHTML = '';\n",
              "          dataTable['output_type'] = 'display_data';\n",
              "          await google.colab.output.renderOutput(dataTable, element);\n",
              "          const docLink = document.createElement('div');\n",
              "          docLink.innerHTML = docLinkHtml;\n",
              "          element.appendChild(docLink);\n",
              "        }\n",
              "      </script>\n",
              "    </div>\n",
              "  </div>\n",
              "  "
            ],
            "text/plain": [
              "   Unnamed: 0  clientId  shopId  ... flagContactPhone personalNetIncome  BAD\n",
              "0           1         2      15  ...                N             300.0    0\n",
              "1           2         4      12  ...                N             304.0    0\n",
              "2           3         5      16  ...                N             250.0    0\n",
              "3           4         6      24  ...                N             800.0    0\n",
              "4           5         7      55  ...                N             410.0    0\n",
              "5           6         8       6  ...                N             248.0    0\n",
              "6           7         9       3  ...                N            1000.0    1\n",
              "7           8        10      23  ...                N             856.0    0\n",
              "8           9        11      25  ...                N             738.0    1\n",
              "9          10        12      12  ...                N             700.0    0\n",
              "\n",
              "[10 rows x 25 columns]"
            ]
          },
          "metadata": {},
          "execution_count": 350
        }
      ]
    },
    {
      "cell_type": "code",
      "execution_count": null,
      "metadata": {
        "colab": {
          "base_uri": "https://localhost:8080/"
        },
        "id": "k-LCJezc0odT",
        "outputId": "3dbd4ed4-a011-4abd-bdb2-46a62cc483d9"
      },
      "outputs": [
        {
          "output_type": "execute_result",
          "data": {
            "text/plain": [
              "Index(['Unnamed: 0', 'clientId', 'shopId', 'gender', 'maritalStatus', 'age',\n",
              "       'flagResidencialPhone', 'areaCodeResidencialPhone', 'bestPaymentDay',\n",
              "       'shopRank', 'residenceType', 'monthsInResidence', 'flagMothersName',\n",
              "       'flagFathersName', 'flagResidenceTown_WorkingTown',\n",
              "       'flagResidenceState_WorkingState', 'monthsInTheJob', 'professionCode',\n",
              "       'mateIncome', 'flagResidencialAddress_PostalAddress', 'flagOtherCard',\n",
              "       'flagMobilePhone', 'flagContactPhone', 'personalNetIncome', 'BAD'],\n",
              "      dtype='object')"
            ]
          },
          "metadata": {},
          "execution_count": 351
        }
      ],
      "source": [
        "data_clients.columns"
      ]
    },
    {
      "cell_type": "code",
      "execution_count": null,
      "metadata": {
        "colab": {
          "base_uri": "https://localhost:8080/"
        },
        "id": "N_li27hd0odU",
        "outputId": "657e4350-1b6d-48d9-d346-997e9c8a61df"
      },
      "outputs": [
        {
          "output_type": "execute_result",
          "data": {
            "text/plain": [
              "array(['F', 'M'], dtype=object)"
            ]
          },
          "metadata": {},
          "execution_count": 352
        }
      ],
      "source": [
        "data_clients['gender'].unique()"
      ]
    },
    {
      "cell_type": "markdown",
      "metadata": {
        "id": "oYxrv8On0odU"
      },
      "source": [
        "## **Plotando o histograma de algumas variáveis**"
      ]
    },
    {
      "cell_type": "code",
      "execution_count": null,
      "metadata": {
        "colab": {
          "base_uri": "https://localhost:8080/",
          "height": 282
        },
        "id": "KDOlrYDY0odU",
        "outputId": "22c36c68-b4ff-4644-805d-48be4de3545a"
      },
      "outputs": [
        {
          "output_type": "execute_result",
          "data": {
            "text/plain": [
              "<matplotlib.axes._subplots.AxesSubplot at 0x7f122038b110>"
            ]
          },
          "metadata": {},
          "execution_count": 353
        },
        {
          "output_type": "display_data",
          "data": {
            "image/png": "[encoded data removed]",
            "text/plain": [
              "<Figure size 432x288 with 1 Axes>"
            ]
          },
          "metadata": {
            "needs_background": "light"
          }
        }
      ],
      "source": [
        "data_clients['gender'].hist(bins=len(data_clients['gender'].unique()),linewidth=0.5,edgecolor='white')\n"
      ]
    },
    {
      "cell_type": "code",
      "execution_count": null,
      "metadata": {
        "colab": {
          "base_uri": "https://localhost:8080/"
        },
        "id": "-_X4zjhV0odV",
        "outputId": "0436ff1c-058f-44d7-e61e-8f10a1f421f0"
      },
      "outputs": [
        {
          "output_type": "execute_result",
          "data": {
            "text/plain": [
              "array([0, 1])"
            ]
          },
          "metadata": {},
          "execution_count": 354
        }
      ],
      "source": [
        "data_clients['BAD'].unique()"
      ]
    },
    {
      "cell_type": "code",
      "execution_count": null,
      "metadata": {
        "colab": {
          "base_uri": "https://localhost:8080/",
          "height": 312
        },
        "id": "cisNnqiA0odW",
        "outputId": "8d8d0d5c-08a6-4f90-8112-6d2d05509448"
      },
      "outputs": [
        {
          "output_type": "execute_result",
          "data": {
            "text/plain": [
              "Text(0, 0.5, 'Frequência')"
            ]
          },
          "metadata": {},
          "execution_count": 355
        },
        {
          "output_type": "display_data",
          "data": {
            "image/png": "[encoded data removed]",
            "text/plain": [
              "<Figure size 432x288 with 1 Axes>"
            ]
          },
          "metadata": {
            "needs_background": "light"
          }
        }
      ],
      "source": [
        "adiplentes = data_clients.groupby(['gender','BAD'])['BAD'].count().unstack('BAD').fillna(0)\n",
        "adiplentes[[0, 1]].plot(kind='bar', stacked=True) \n",
        "plt.title('Análise do Número de Inadiplentes e Adiplentes Conforme o Gênero') \n",
        "plt.xlabel('Gênero') \n",
        "plt.ylabel('Frequência')"
      ]
    },
    {
      "cell_type": "code",
      "execution_count": null,
      "metadata": {
        "colab": {
          "base_uri": "https://localhost:8080/",
          "height": 196
        },
        "id": "53EzXSXw0odW",
        "outputId": "1bde0cb1-9c0a-438c-ee90-9b736126e311"
      },
      "outputs": [
        {
          "output_type": "stream",
          "name": "stdout",
          "text": [
            "A quantidade de inadiplentes conforme o Gênero é:\n",
            " F = Feminino e M = Masculino\n",
            "\n"
          ]
        },
        {
          "output_type": "execute_result",
          "data": {
            "text/html": [
              "\n",
              "  <div id=\"df-ba6e52bc-7925-4d7a-ba4c-b45e3ce5b1dc\">\n",
              "    <div class=\"colab-df-container\">\n",
              "      <div>\n",
              "<style scoped>\n",
              "    .dataframe tbody tr th:only-of-type {\n",
              "        vertical-align: middle;\n",
              "    }\n",
              "\n",
              "    .dataframe tbody tr th {\n",
              "        vertical-align: top;\n",
              "    }\n",
              "\n",
              "    .dataframe thead th {\n",
              "        text-align: right;\n",
              "    }\n",
              "</style>\n",
              "<table border=\"1\" class=\"dataframe\">\n",
              "  <thead>\n",
              "    <tr style=\"text-align: right;\">\n",
              "      <th>BAD</th>\n",
              "      <th>0</th>\n",
              "      <th>1</th>\n",
              "    </tr>\n",
              "    <tr>\n",
              "      <th>gender</th>\n",
              "      <th></th>\n",
              "      <th></th>\n",
              "    </tr>\n",
              "  </thead>\n",
              "  <tbody>\n",
              "    <tr>\n",
              "      <th>F</th>\n",
              "      <td>22885</td>\n",
              "      <td>5021</td>\n",
              "    </tr>\n",
              "    <tr>\n",
              "      <th>M</th>\n",
              "      <td>9215</td>\n",
              "      <td>2879</td>\n",
              "    </tr>\n",
              "  </tbody>\n",
              "</table>\n",
              "</div>\n",
              "      <button class=\"colab-df-convert\" onclick=\"convertToInteractive('df-ba6e52bc-7925-4d7a-ba4c-b45e3ce5b1dc')\"\n",
              "              title=\"Convert this dataframe to an interactive table.\"\n",
              "              style=\"display:none;\">\n",
              "        \n",
              "  <svg xmlns=\"http://www.w3.org/2000/svg\" height=\"24px\"viewBox=\"0 0 24 24\"\n",
              "       width=\"24px\">\n",
              "    <path d=\"M0 0h24v24H0V0z\" fill=\"none\"/>\n",
              "    <path d=\"M18.56 5.44l.94 2.06.94-2.06 2.06-.94-2.06-.94-.94-2.06-.94 2.06-2.06.94zm-11 1L8.5 8.5l.94-2.06 2.06-.94-2.06-.94L8.5 2.5l-.94 2.06-2.06.94zm10 10l.94 2.06.94-2.06 2.06-.94-2.06-.94-.94-2.06-.94 2.06-2.06.94z\"/><path d=\"M17.41 7.96l-1.37-1.37c-.4-.4-.92-.59-1.43-.59-.52 0-1.04.2-1.43.59L10.3 9.45l-7.72 7.72c-.78.78-.78 2.05 0 2.83L4 21.41c.39.39.9.59 1.41.59.51 0 1.02-.2 1.41-.59l7.78-7.78 2.81-2.81c.8-.78.8-2.07 0-2.86zM5.41 20L4 18.59l7.72-7.72 1.47 1.35L5.41 20z\"/>\n",
              "  </svg>\n",
              "      </button>\n",
              "      \n",
              "  <style>\n",
              "    .colab-df-container {\n",
              "      display:flex;\n",
              "      flex-wrap:wrap;\n",
              "      gap: 12px;\n",
              "    }\n",
              "\n",
              "    .colab-df-convert {\n",
              "      background-color: #E8F0FE;\n",
              "      border: none;\n",
              "      border-radius: 50%;\n",
              "      cursor: pointer;\n",
              "      display: none;\n",
              "      fill: #1967D2;\n",
              "      height: 32px;\n",
              "      padding: 0 0 0 0;\n",
              "      width: 32px;\n",
              "    }\n",
              "\n",
              "    .colab-df-convert:hover {\n",
              "      background-color: #E2EBFA;\n",
              "      box-shadow: 0px 1px 2px rgba(60, 64, 67, 0.3), 0px 1px 3px 1px rgba(60, 64, 67, 0.15);\n",
              "      fill: #174EA6;\n",
              "    }\n",
              "\n",
              "    [theme=dark] .colab-df-convert {\n",
              "      background-color: #3B4455;\n",
              "      fill: #D2E3FC;\n",
              "    }\n",
              "\n",
              "    [theme=dark] .colab-df-convert:hover {\n",
              "      background-color: #434B5C;\n",
              "      box-shadow: 0px 1px 3px 1px rgba(0, 0, 0, 0.15);\n",
              "      filter: drop-shadow(0px 1px 2px rgba(0, 0, 0, 0.3));\n",
              "      fill: #FFFFFF;\n",
              "    }\n",
              "  </style>\n",
              "\n",
              "      <script>\n",
              "        const buttonEl =\n",
              "          document.querySelector('#df-ba6e52bc-7925-4d7a-ba4c-b45e3ce5b1dc button.colab-df-convert');\n",
              "        buttonEl.style.display =\n",
              "          google.colab.kernel.accessAllowed ? 'block' : 'none';\n",
              "\n",
              "        async function convertToInteractive(key) {\n",
              "          const element = document.querySelector('#df-ba6e52bc-7925-4d7a-ba4c-b45e3ce5b1dc');\n",
              "          const dataTable =\n",
              "            await google.colab.kernel.invokeFunction('convertToInteractive',\n",
              "                                                     [key], {});\n",
              "          if (!dataTable) return;\n",
              "\n",
              "          const docLinkHtml = 'Like what you see? Visit the ' +\n",
              "            '<a target=\"_blank\" href=https://colab.research.google.com/notebooks/data_table.ipynb>data table notebook</a>'\n",
              "            + ' to learn more about interactive tables.';\n",
              "          element.innerHTML = '';\n",
              "          dataTable['output_type'] = 'display_data';\n",
              "          await google.colab.output.renderOutput(dataTable, element);\n",
              "          const docLink = document.createElement('div');\n",
              "          docLink.innerHTML = docLinkHtml;\n",
              "          element.appendChild(docLink);\n",
              "        }\n",
              "      </script>\n",
              "    </div>\n",
              "  </div>\n",
              "  "
            ],
            "text/plain": [
              "BAD         0     1\n",
              "gender             \n",
              "F       22885  5021\n",
              "M        9215  2879"
            ]
          },
          "metadata": {},
          "execution_count": 356
        }
      ],
      "source": [
        "print('A quantidade de inadiplentes conforme o Gênero é:\\n',\n",
        "      'F = Feminino e M = Masculino\\n')\n",
        "adiplentes"
      ]
    },
    {
      "cell_type": "markdown",
      "metadata": {
        "id": "pqUA8Nd00odX"
      },
      "source": [
        "**Transformando os dados 'objetos' em 'categoricos'**"
      ]
    },
    {
      "cell_type": "code",
      "execution_count": null,
      "metadata": {
        "id": "oDhGIx3w0odX"
      },
      "outputs": [],
      "source": [
        "categoricas=['gender', 'flagResidencialPhone','flagMothersName',\n",
        "       'flagFathersName', 'flagResidenceTown_WorkingTown',\n",
        "       'flagResidenceState_WorkingState', 'flagResidencialAddress_PostalAddress', 'flagOtherCard',\n",
        "        'flagMobilePhone', 'flagContactPhone']\n",
        "for coluna in categoricas:\n",
        "  data_clients[coluna]=pd.Categorical(data_clients[coluna]).codes"
      ]
    },
    {
      "cell_type": "code",
      "source": [
        "data_clients.isnull().sum()"
      ],
      "metadata": {
        "colab": {
          "base_uri": "https://localhost:8080/"
        },
        "id": "eNJqzeIpRspu",
        "outputId": "05236fd4-5795-49dc-ed4e-b9a0f746a52d"
      },
      "execution_count": null,
      "outputs": [
        {
          "output_type": "execute_result",
          "data": {
            "text/plain": [
              "Unnamed: 0                              0\n",
              "clientId                                0\n",
              "shopId                                  0\n",
              "gender                                  0\n",
              "maritalStatus                           0\n",
              "age                                     0\n",
              "flagResidencialPhone                    0\n",
              "areaCodeResidencialPhone                0\n",
              "bestPaymentDay                          0\n",
              "shopRank                                0\n",
              "residenceType                           0\n",
              "monthsInResidence                       0\n",
              "flagMothersName                         0\n",
              "flagFathersName                         0\n",
              "flagResidenceTown_WorkingTown           0\n",
              "flagResidenceState_WorkingState         0\n",
              "monthsInTheJob                          0\n",
              "professionCode                          0\n",
              "mateIncome                              0\n",
              "flagResidencialAddress_PostalAddress    0\n",
              "flagOtherCard                           0\n",
              "flagMobilePhone                         0\n",
              "flagContactPhone                        0\n",
              "personalNetIncome                       0\n",
              "BAD                                     0\n",
              "dtype: int64"
            ]
          },
          "metadata": {},
          "execution_count": 358
        }
      ]
    },
    {
      "cell_type": "code",
      "source": [
        "data_clients.head()"
      ],
      "metadata": {
        "colab": {
          "base_uri": "https://localhost:8080/",
          "height": 287
        },
        "id": "oLD5Hre7R8TI",
        "outputId": "25ec9b60-582b-4fb6-cb62-d7e4f498b72c"
      },
      "execution_count": null,
      "outputs": [
        {
          "output_type": "execute_result",
          "data": {
            "text/html": [
              "\n",
              "  <div id=\"df-503ef6a2-dfdb-4e74-b4bd-e254e7bbc832\">\n",
              "    <div class=\"colab-df-container\">\n",
              "      <div>\n",
              "<style scoped>\n",
              "    .dataframe tbody tr th:only-of-type {\n",
              "        vertical-align: middle;\n",
              "    }\n",
              "\n",
              "    .dataframe tbody tr th {\n",
              "        vertical-align: top;\n",
              "    }\n",
              "\n",
              "    .dataframe thead th {\n",
              "        text-align: right;\n",
              "    }\n",
              "</style>\n",
              "<table border=\"1\" class=\"dataframe\">\n",
              "  <thead>\n",
              "    <tr style=\"text-align: right;\">\n",
              "      <th></th>\n",
              "      <th>Unnamed: 0</th>\n",
              "      <th>clientId</th>\n",
              "      <th>shopId</th>\n",
              "      <th>gender</th>\n",
              "      <th>maritalStatus</th>\n",
              "      <th>age</th>\n",
              "      <th>flagResidencialPhone</th>\n",
              "      <th>areaCodeResidencialPhone</th>\n",
              "      <th>bestPaymentDay</th>\n",
              "      <th>shopRank</th>\n",
              "      <th>residenceType</th>\n",
              "      <th>monthsInResidence</th>\n",
              "      <th>flagMothersName</th>\n",
              "      <th>flagFathersName</th>\n",
              "      <th>flagResidenceTown_WorkingTown</th>\n",
              "      <th>flagResidenceState_WorkingState</th>\n",
              "      <th>monthsInTheJob</th>\n",
              "      <th>professionCode</th>\n",
              "      <th>mateIncome</th>\n",
              "      <th>flagResidencialAddress_PostalAddress</th>\n",
              "      <th>flagOtherCard</th>\n",
              "      <th>flagMobilePhone</th>\n",
              "      <th>flagContactPhone</th>\n",
              "      <th>personalNetIncome</th>\n",
              "      <th>BAD</th>\n",
              "    </tr>\n",
              "  </thead>\n",
              "  <tbody>\n",
              "    <tr>\n",
              "      <th>0</th>\n",
              "      <td>1</td>\n",
              "      <td>2</td>\n",
              "      <td>15</td>\n",
              "      <td>0</td>\n",
              "      <td>S</td>\n",
              "      <td>18</td>\n",
              "      <td>1</td>\n",
              "      <td>31</td>\n",
              "      <td>20</td>\n",
              "      <td>0</td>\n",
              "      <td>P</td>\n",
              "      <td>216</td>\n",
              "      <td>1</td>\n",
              "      <td>1</td>\n",
              "      <td>1</td>\n",
              "      <td>1</td>\n",
              "      <td>12</td>\n",
              "      <td>853</td>\n",
              "      <td>0.0</td>\n",
              "      <td>1</td>\n",
              "      <td>0</td>\n",
              "      <td>0</td>\n",
              "      <td>0</td>\n",
              "      <td>300.0</td>\n",
              "      <td>0</td>\n",
              "    </tr>\n",
              "    <tr>\n",
              "      <th>1</th>\n",
              "      <td>2</td>\n",
              "      <td>4</td>\n",
              "      <td>12</td>\n",
              "      <td>0</td>\n",
              "      <td>C</td>\n",
              "      <td>47</td>\n",
              "      <td>0</td>\n",
              "      <td>31</td>\n",
              "      <td>25</td>\n",
              "      <td>0</td>\n",
              "      <td>P</td>\n",
              "      <td>180</td>\n",
              "      <td>1</td>\n",
              "      <td>1</td>\n",
              "      <td>0</td>\n",
              "      <td>1</td>\n",
              "      <td>24</td>\n",
              "      <td>35</td>\n",
              "      <td>0.0</td>\n",
              "      <td>1</td>\n",
              "      <td>0</td>\n",
              "      <td>0</td>\n",
              "      <td>0</td>\n",
              "      <td>304.0</td>\n",
              "      <td>0</td>\n",
              "    </tr>\n",
              "    <tr>\n",
              "      <th>2</th>\n",
              "      <td>3</td>\n",
              "      <td>5</td>\n",
              "      <td>16</td>\n",
              "      <td>0</td>\n",
              "      <td>S</td>\n",
              "      <td>28</td>\n",
              "      <td>1</td>\n",
              "      <td>31</td>\n",
              "      <td>25</td>\n",
              "      <td>0</td>\n",
              "      <td>O</td>\n",
              "      <td>12</td>\n",
              "      <td>1</td>\n",
              "      <td>1</td>\n",
              "      <td>1</td>\n",
              "      <td>1</td>\n",
              "      <td>12</td>\n",
              "      <td>24</td>\n",
              "      <td>0.0</td>\n",
              "      <td>1</td>\n",
              "      <td>0</td>\n",
              "      <td>0</td>\n",
              "      <td>0</td>\n",
              "      <td>250.0</td>\n",
              "      <td>0</td>\n",
              "    </tr>\n",
              "    <tr>\n",
              "      <th>3</th>\n",
              "      <td>4</td>\n",
              "      <td>6</td>\n",
              "      <td>24</td>\n",
              "      <td>1</td>\n",
              "      <td>S</td>\n",
              "      <td>26</td>\n",
              "      <td>0</td>\n",
              "      <td>31</td>\n",
              "      <td>28</td>\n",
              "      <td>0</td>\n",
              "      <td>P</td>\n",
              "      <td>180</td>\n",
              "      <td>1</td>\n",
              "      <td>1</td>\n",
              "      <td>0</td>\n",
              "      <td>1</td>\n",
              "      <td>0</td>\n",
              "      <td>999</td>\n",
              "      <td>0.0</td>\n",
              "      <td>1</td>\n",
              "      <td>0</td>\n",
              "      <td>0</td>\n",
              "      <td>0</td>\n",
              "      <td>800.0</td>\n",
              "      <td>0</td>\n",
              "    </tr>\n",
              "    <tr>\n",
              "      <th>4</th>\n",
              "      <td>5</td>\n",
              "      <td>7</td>\n",
              "      <td>55</td>\n",
              "      <td>0</td>\n",
              "      <td>S</td>\n",
              "      <td>22</td>\n",
              "      <td>1</td>\n",
              "      <td>31</td>\n",
              "      <td>12</td>\n",
              "      <td>0</td>\n",
              "      <td>A</td>\n",
              "      <td>0</td>\n",
              "      <td>1</td>\n",
              "      <td>1</td>\n",
              "      <td>1</td>\n",
              "      <td>1</td>\n",
              "      <td>48</td>\n",
              "      <td>999</td>\n",
              "      <td>0.0</td>\n",
              "      <td>1</td>\n",
              "      <td>0</td>\n",
              "      <td>0</td>\n",
              "      <td>0</td>\n",
              "      <td>410.0</td>\n",
              "      <td>0</td>\n",
              "    </tr>\n",
              "  </tbody>\n",
              "</table>\n",
              "</div>\n",
              "      <button class=\"colab-df-convert\" onclick=\"convertToInteractive('df-503ef6a2-dfdb-4e74-b4bd-e254e7bbc832')\"\n",
              "              title=\"Convert this dataframe to an interactive table.\"\n",
              "              style=\"display:none;\">\n",
              "        \n",
              "  <svg xmlns=\"http://www.w3.org/2000/svg\" height=\"24px\"viewBox=\"0 0 24 24\"\n",
              "       width=\"24px\">\n",
              "    <path d=\"M0 0h24v24H0V0z\" fill=\"none\"/>\n",
              "    <path d=\"M18.56 5.44l.94 2.06.94-2.06 2.06-.94-2.06-.94-.94-2.06-.94 2.06-2.06.94zm-11 1L8.5 8.5l.94-2.06 2.06-.94-2.06-.94L8.5 2.5l-.94 2.06-2.06.94zm10 10l.94 2.06.94-2.06 2.06-.94-2.06-.94-.94-2.06-.94 2.06-2.06.94z\"/><path d=\"M17.41 7.96l-1.37-1.37c-.4-.4-.92-.59-1.43-.59-.52 0-1.04.2-1.43.59L10.3 9.45l-7.72 7.72c-.78.78-.78 2.05 0 2.83L4 21.41c.39.39.9.59 1.41.59.51 0 1.02-.2 1.41-.59l7.78-7.78 2.81-2.81c.8-.78.8-2.07 0-2.86zM5.41 20L4 18.59l7.72-7.72 1.47 1.35L5.41 20z\"/>\n",
              "  </svg>\n",
              "      </button>\n",
              "      \n",
              "  <style>\n",
              "    .colab-df-container {\n",
              "      display:flex;\n",
              "      flex-wrap:wrap;\n",
              "      gap: 12px;\n",
              "    }\n",
              "\n",
              "    .colab-df-convert {\n",
              "      background-color: #E8F0FE;\n",
              "      border: none;\n",
              "      border-radius: 50%;\n",
              "      cursor: pointer;\n",
              "      display: none;\n",
              "      fill: #1967D2;\n",
              "      height: 32px;\n",
              "      padding: 0 0 0 0;\n",
              "      width: 32px;\n",
              "    }\n",
              "\n",
              "    .colab-df-convert:hover {\n",
              "      background-color: #E2EBFA;\n",
              "      box-shadow: 0px 1px 2px rgba(60, 64, 67, 0.3), 0px 1px 3px 1px rgba(60, 64, 67, 0.15);\n",
              "      fill: #174EA6;\n",
              "    }\n",
              "\n",
              "    [theme=dark] .colab-df-convert {\n",
              "      background-color: #3B4455;\n",
              "      fill: #D2E3FC;\n",
              "    }\n",
              "\n",
              "    [theme=dark] .colab-df-convert:hover {\n",
              "      background-color: #434B5C;\n",
              "      box-shadow: 0px 1px 3px 1px rgba(0, 0, 0, 0.15);\n",
              "      filter: drop-shadow(0px 1px 2px rgba(0, 0, 0, 0.3));\n",
              "      fill: #FFFFFF;\n",
              "    }\n",
              "  </style>\n",
              "\n",
              "      <script>\n",
              "        const buttonEl =\n",
              "          document.querySelector('#df-503ef6a2-dfdb-4e74-b4bd-e254e7bbc832 button.colab-df-convert');\n",
              "        buttonEl.style.display =\n",
              "          google.colab.kernel.accessAllowed ? 'block' : 'none';\n",
              "\n",
              "        async function convertToInteractive(key) {\n",
              "          const element = document.querySelector('#df-503ef6a2-dfdb-4e74-b4bd-e254e7bbc832');\n",
              "          const dataTable =\n",
              "            await google.colab.kernel.invokeFunction('convertToInteractive',\n",
              "                                                     [key], {});\n",
              "          if (!dataTable) return;\n",
              "\n",
              "          const docLinkHtml = 'Like what you see? Visit the ' +\n",
              "            '<a target=\"_blank\" href=https://colab.research.google.com/notebooks/data_table.ipynb>data table notebook</a>'\n",
              "            + ' to learn more about interactive tables.';\n",
              "          element.innerHTML = '';\n",
              "          dataTable['output_type'] = 'display_data';\n",
              "          await google.colab.output.renderOutput(dataTable, element);\n",
              "          const docLink = document.createElement('div');\n",
              "          docLink.innerHTML = docLinkHtml;\n",
              "          element.appendChild(docLink);\n",
              "        }\n",
              "      </script>\n",
              "    </div>\n",
              "  </div>\n",
              "  "
            ],
            "text/plain": [
              "   Unnamed: 0  clientId  shopId  ...  flagContactPhone personalNetIncome  BAD\n",
              "0           1         2      15  ...                 0             300.0    0\n",
              "1           2         4      12  ...                 0             304.0    0\n",
              "2           3         5      16  ...                 0             250.0    0\n",
              "3           4         6      24  ...                 0             800.0    0\n",
              "4           5         7      55  ...                 0             410.0    0\n",
              "\n",
              "[5 rows x 25 columns]"
            ]
          },
          "metadata": {},
          "execution_count": 359
        }
      ]
    },
    {
      "cell_type": "code",
      "execution_count": null,
      "metadata": {
        "colab": {
          "base_uri": "https://localhost:8080/",
          "height": 1000
        },
        "id": "XmECqxty0odY",
        "outputId": "8bb21d48-6993-4aa4-c759-995031116713"
      },
      "outputs": [
        {
          "output_type": "execute_result",
          "data": {
            "text/plain": [
              "Text(0, 0.5, 'Frequência')"
            ]
          },
          "metadata": {},
          "execution_count": 360
        },
        {
          "output_type": "display_data",
          "data": {
            "image/png": "[encoded data removed]",
            "text/plain": [
              "<Figure size 1584x1440 with 1 Axes>"
            ]
          },
          "metadata": {
            "needs_background": "light"
          }
        }
      ],
      "source": [
        "adiplentes = data_clients.groupby(['age','BAD'])['BAD'].count().unstack('BAD').fillna(0)\n",
        "adiplentes[[0, 1]].plot(kind='bar',figsize=(22,20), stacked=True) \n",
        "plt.title('Análise do Número de Inadiplentes e Adiplentes Conforme o Idade') \n",
        "plt.xlabel('idade') \n",
        "plt.ylabel('Frequência')"
      ]
    },
    {
      "cell_type": "code",
      "execution_count": null,
      "metadata": {
        "colab": {
          "base_uri": "https://localhost:8080/"
        },
        "id": "yl5stpCL0odY",
        "outputId": "878ac32a-5880-4965-cbc4-47b645971816"
      },
      "outputs": [
        {
          "output_type": "execute_result",
          "data": {
            "text/plain": [
              "array([18, 47, 28, 26, 22, 21, 27, 57, 53, 32, 36, 49, 44, 46, 20, 17, 41,\n",
              "       64, 71, 24, 23, 40, 31, 30, 39, 55, 66, 35, 19, 42, 62, 38, 75, 58,\n",
              "       34, 50, 61, 56, 45, 51, 37, 48, 52, 25, 43, 74, 29, 54, 33, 60, 59,\n",
              "       72, 65, 69, 73, 67, 76, 82, 68, 63, 77, 70, 16, 79, 80, 86, 15, 78,\n",
              "       83, 88, 81, 84])"
            ]
          },
          "metadata": {},
          "execution_count": 361
        }
      ],
      "source": [
        "data_clients['age'].unique()"
      ]
    },
    {
      "cell_type": "code",
      "source": [
        "print('A quantidade de inadiplentes conforme o Idade é:\\n')\n",
        "adiplentes"
      ],
      "metadata": {
        "colab": {
          "base_uri": "https://localhost:8080/",
          "height": 489
        },
        "id": "UYWS_w3_15MZ",
        "outputId": "ce953f93-2b1a-416e-8c99-63359771bef6"
      },
      "execution_count": null,
      "outputs": [
        {
          "output_type": "stream",
          "name": "stdout",
          "text": [
            "A quantidade de inadiplentes conforme o Idade é:\n",
            "\n"
          ]
        },
        {
          "output_type": "execute_result",
          "data": {
            "text/html": [
              "\n",
              "  <div id=\"df-47ca8365-8cbc-4e89-9d2c-dafdd902d803\">\n",
              "    <div class=\"colab-df-container\">\n",
              "      <div>\n",
              "<style scoped>\n",
              "    .dataframe tbody tr th:only-of-type {\n",
              "        vertical-align: middle;\n",
              "    }\n",
              "\n",
              "    .dataframe tbody tr th {\n",
              "        vertical-align: top;\n",
              "    }\n",
              "\n",
              "    .dataframe thead th {\n",
              "        text-align: right;\n",
              "    }\n",
              "</style>\n",
              "<table border=\"1\" class=\"dataframe\">\n",
              "  <thead>\n",
              "    <tr style=\"text-align: right;\">\n",
              "      <th>BAD</th>\n",
              "      <th>0</th>\n",
              "      <th>1</th>\n",
              "    </tr>\n",
              "    <tr>\n",
              "      <th>age</th>\n",
              "      <th></th>\n",
              "      <th></th>\n",
              "    </tr>\n",
              "  </thead>\n",
              "  <tbody>\n",
              "    <tr>\n",
              "      <th>15</th>\n",
              "      <td>4.0</td>\n",
              "      <td>1.0</td>\n",
              "    </tr>\n",
              "    <tr>\n",
              "      <th>16</th>\n",
              "      <td>9.0</td>\n",
              "      <td>3.0</td>\n",
              "    </tr>\n",
              "    <tr>\n",
              "      <th>17</th>\n",
              "      <td>52.0</td>\n",
              "      <td>20.0</td>\n",
              "    </tr>\n",
              "    <tr>\n",
              "      <th>18</th>\n",
              "      <td>957.0</td>\n",
              "      <td>529.0</td>\n",
              "    </tr>\n",
              "    <tr>\n",
              "      <th>19</th>\n",
              "      <td>1372.0</td>\n",
              "      <td>635.0</td>\n",
              "    </tr>\n",
              "    <tr>\n",
              "      <th>...</th>\n",
              "      <td>...</td>\n",
              "      <td>...</td>\n",
              "    </tr>\n",
              "    <tr>\n",
              "      <th>82</th>\n",
              "      <td>6.0</td>\n",
              "      <td>0.0</td>\n",
              "    </tr>\n",
              "    <tr>\n",
              "      <th>83</th>\n",
              "      <td>4.0</td>\n",
              "      <td>2.0</td>\n",
              "    </tr>\n",
              "    <tr>\n",
              "      <th>84</th>\n",
              "      <td>1.0</td>\n",
              "      <td>0.0</td>\n",
              "    </tr>\n",
              "    <tr>\n",
              "      <th>86</th>\n",
              "      <td>1.0</td>\n",
              "      <td>0.0</td>\n",
              "    </tr>\n",
              "    <tr>\n",
              "      <th>88</th>\n",
              "      <td>2.0</td>\n",
              "      <td>0.0</td>\n",
              "    </tr>\n",
              "  </tbody>\n",
              "</table>\n",
              "<p>72 rows × 2 columns</p>\n",
              "</div>\n",
              "      <button class=\"colab-df-convert\" onclick=\"convertToInteractive('df-47ca8365-8cbc-4e89-9d2c-dafdd902d803')\"\n",
              "              title=\"Convert this dataframe to an interactive table.\"\n",
              "              style=\"display:none;\">\n",
              "        \n",
              "  <svg xmlns=\"http://www.w3.org/2000/svg\" height=\"24px\"viewBox=\"0 0 24 24\"\n",
              "       width=\"24px\">\n",
              "    <path d=\"M0 0h24v24H0V0z\" fill=\"none\"/>\n",
              "    <path d=\"M18.56 5.44l.94 2.06.94-2.06 2.06-.94-2.06-.94-.94-2.06-.94 2.06-2.06.94zm-11 1L8.5 8.5l.94-2.06 2.06-.94-2.06-.94L8.5 2.5l-.94 2.06-2.06.94zm10 10l.94 2.06.94-2.06 2.06-.94-2.06-.94-.94-2.06-.94 2.06-2.06.94z\"/><path d=\"M17.41 7.96l-1.37-1.37c-.4-.4-.92-.59-1.43-.59-.52 0-1.04.2-1.43.59L10.3 9.45l-7.72 7.72c-.78.78-.78 2.05 0 2.83L4 21.41c.39.39.9.59 1.41.59.51 0 1.02-.2 1.41-.59l7.78-7.78 2.81-2.81c.8-.78.8-2.07 0-2.86zM5.41 20L4 18.59l7.72-7.72 1.47 1.35L5.41 20z\"/>\n",
              "  </svg>\n",
              "      </button>\n",
              "      \n",
              "  <style>\n",
              "    .colab-df-container {\n",
              "      display:flex;\n",
              "      flex-wrap:wrap;\n",
              "      gap: 12px;\n",
              "    }\n",
              "\n",
              "    .colab-df-convert {\n",
              "      background-color: #E8F0FE;\n",
              "      border: none;\n",
              "      border-radius: 50%;\n",
              "      cursor: pointer;\n",
              "      display: none;\n",
              "      fill: #1967D2;\n",
              "      height: 32px;\n",
              "      padding: 0 0 0 0;\n",
              "      width: 32px;\n",
              "    }\n",
              "\n",
              "    .colab-df-convert:hover {\n",
              "      background-color: #E2EBFA;\n",
              "      box-shadow: 0px 1px 2px rgba(60, 64, 67, 0.3), 0px 1px 3px 1px rgba(60, 64, 67, 0.15);\n",
              "      fill: #174EA6;\n",
              "    }\n",
              "\n",
              "    [theme=dark] .colab-df-convert {\n",
              "      background-color: #3B4455;\n",
              "      fill: #D2E3FC;\n",
              "    }\n",
              "\n",
              "    [theme=dark] .colab-df-convert:hover {\n",
              "      background-color: #434B5C;\n",
              "      box-shadow: 0px 1px 3px 1px rgba(0, 0, 0, 0.15);\n",
              "      filter: drop-shadow(0px 1px 2px rgba(0, 0, 0, 0.3));\n",
              "      fill: #FFFFFF;\n",
              "    }\n",
              "  </style>\n",
              "\n",
              "      <script>\n",
              "        const buttonEl =\n",
              "          document.querySelector('#df-47ca8365-8cbc-4e89-9d2c-dafdd902d803 button.colab-df-convert');\n",
              "        buttonEl.style.display =\n",
              "          google.colab.kernel.accessAllowed ? 'block' : 'none';\n",
              "\n",
              "        async function convertToInteractive(key) {\n",
              "          const element = document.querySelector('#df-47ca8365-8cbc-4e89-9d2c-dafdd902d803');\n",
              "          const dataTable =\n",
              "            await google.colab.kernel.invokeFunction('convertToInteractive',\n",
              "                                                     [key], {});\n",
              "          if (!dataTable) return;\n",
              "\n",
              "          const docLinkHtml = 'Like what you see? Visit the ' +\n",
              "            '<a target=\"_blank\" href=https://colab.research.google.com/notebooks/data_table.ipynb>data table notebook</a>'\n",
              "            + ' to learn more about interactive tables.';\n",
              "          element.innerHTML = '';\n",
              "          dataTable['output_type'] = 'display_data';\n",
              "          await google.colab.output.renderOutput(dataTable, element);\n",
              "          const docLink = document.createElement('div');\n",
              "          docLink.innerHTML = docLinkHtml;\n",
              "          element.appendChild(docLink);\n",
              "        }\n",
              "      </script>\n",
              "    </div>\n",
              "  </div>\n",
              "  "
            ],
            "text/plain": [
              "BAD       0      1\n",
              "age               \n",
              "15      4.0    1.0\n",
              "16      9.0    3.0\n",
              "17     52.0   20.0\n",
              "18    957.0  529.0\n",
              "19   1372.0  635.0\n",
              "..      ...    ...\n",
              "82      6.0    0.0\n",
              "83      4.0    2.0\n",
              "84      1.0    0.0\n",
              "86      1.0    0.0\n",
              "88      2.0    0.0\n",
              "\n",
              "[72 rows x 2 columns]"
            ]
          },
          "metadata": {},
          "execution_count": 362
        }
      ]
    },
    {
      "cell_type": "code",
      "source": [
        "adiplentes = data_clients.groupby(['maritalStatus','BAD'])['BAD'].count().unstack('BAD').fillna(0)\n",
        "adiplentes[[0, 1]].plot(kind='bar',figsize=(10,10), stacked=True) \n",
        "plt.title('Análise do Número de Inadiplentes e Adiplentes Conforme o Estado Civil ') \n",
        "plt.xlabel('Estado Civil') \n",
        "plt.ylabel('Frequência')\n",
        "#plt.legend(data_clients['maritalStatus'])"
      ],
      "metadata": {
        "colab": {
          "base_uri": "https://localhost:8080/",
          "height": 636
        },
        "id": "JFOnufDW2JmG",
        "outputId": "7d02ebf6-5c91-42f9-e8cb-a0656a2ce300"
      },
      "execution_count": null,
      "outputs": [
        {
          "output_type": "execute_result",
          "data": {
            "text/plain": [
              "Text(0, 0.5, 'Frequência')"
            ]
          },
          "metadata": {},
          "execution_count": 363
        },
        {
          "output_type": "display_data",
          "data": {
            "image/png": "[encoded data removed]",
            "text/plain": [
              "<Figure size 720x720 with 1 Axes>"
            ]
          },
          "metadata": {
            "needs_background": "light"
          }
        }
      ]
    },
    {
      "cell_type": "code",
      "source": [
        "print('maritalStatus: S = Solteiro, C = Casado, D = Divorciado, V = Viúvo e O = Outro.\\n')\n",
        "adiplentes"
      ],
      "metadata": {
        "colab": {
          "base_uri": "https://localhost:8080/",
          "height": 273
        },
        "id": "FWYmDF2Z30pw",
        "outputId": "285bd9e2-0494-4f25-8c73-def53ad33b25"
      },
      "execution_count": null,
      "outputs": [
        {
          "output_type": "stream",
          "name": "stdout",
          "text": [
            "maritalStatus: S = Solteiro, C = Casado, D = Divorciado, V = Viúvo e O = Outro.\n",
            "\n"
          ]
        },
        {
          "output_type": "execute_result",
          "data": {
            "text/html": [
              "\n",
              "  <div id=\"df-6a063fac-a75b-4b61-9be8-3f21051d49b5\">\n",
              "    <div class=\"colab-df-container\">\n",
              "      <div>\n",
              "<style scoped>\n",
              "    .dataframe tbody tr th:only-of-type {\n",
              "        vertical-align: middle;\n",
              "    }\n",
              "\n",
              "    .dataframe tbody tr th {\n",
              "        vertical-align: top;\n",
              "    }\n",
              "\n",
              "    .dataframe thead th {\n",
              "        text-align: right;\n",
              "    }\n",
              "</style>\n",
              "<table border=\"1\" class=\"dataframe\">\n",
              "  <thead>\n",
              "    <tr style=\"text-align: right;\">\n",
              "      <th>BAD</th>\n",
              "      <th>0</th>\n",
              "      <th>1</th>\n",
              "    </tr>\n",
              "    <tr>\n",
              "      <th>maritalStatus</th>\n",
              "      <th></th>\n",
              "      <th></th>\n",
              "    </tr>\n",
              "  </thead>\n",
              "  <tbody>\n",
              "    <tr>\n",
              "      <th>C</th>\n",
              "      <td>11725</td>\n",
              "      <td>1996</td>\n",
              "    </tr>\n",
              "    <tr>\n",
              "      <th>D</th>\n",
              "      <td>1464</td>\n",
              "      <td>259</td>\n",
              "    </tr>\n",
              "    <tr>\n",
              "      <th>O</th>\n",
              "      <td>1703</td>\n",
              "      <td>517</td>\n",
              "    </tr>\n",
              "    <tr>\n",
              "      <th>S</th>\n",
              "      <td>15481</td>\n",
              "      <td>4894</td>\n",
              "    </tr>\n",
              "    <tr>\n",
              "      <th>V</th>\n",
              "      <td>1727</td>\n",
              "      <td>234</td>\n",
              "    </tr>\n",
              "  </tbody>\n",
              "</table>\n",
              "</div>\n",
              "      <button class=\"colab-df-convert\" onclick=\"convertToInteractive('df-6a063fac-a75b-4b61-9be8-3f21051d49b5')\"\n",
              "              title=\"Convert this dataframe to an interactive table.\"\n",
              "              style=\"display:none;\">\n",
              "        \n",
              "  <svg xmlns=\"http://www.w3.org/2000/svg\" height=\"24px\"viewBox=\"0 0 24 24\"\n",
              "       width=\"24px\">\n",
              "    <path d=\"M0 0h24v24H0V0z\" fill=\"none\"/>\n",
              "    <path d=\"M18.56 5.44l.94 2.06.94-2.06 2.06-.94-2.06-.94-.94-2.06-.94 2.06-2.06.94zm-11 1L8.5 8.5l.94-2.06 2.06-.94-2.06-.94L8.5 2.5l-.94 2.06-2.06.94zm10 10l.94 2.06.94-2.06 2.06-.94-2.06-.94-.94-2.06-.94 2.06-2.06.94z\"/><path d=\"M17.41 7.96l-1.37-1.37c-.4-.4-.92-.59-1.43-.59-.52 0-1.04.2-1.43.59L10.3 9.45l-7.72 7.72c-.78.78-.78 2.05 0 2.83L4 21.41c.39.39.9.59 1.41.59.51 0 1.02-.2 1.41-.59l7.78-7.78 2.81-2.81c.8-.78.8-2.07 0-2.86zM5.41 20L4 18.59l7.72-7.72 1.47 1.35L5.41 20z\"/>\n",
              "  </svg>\n",
              "      </button>\n",
              "      \n",
              "  <style>\n",
              "    .colab-df-container {\n",
              "      display:flex;\n",
              "      flex-wrap:wrap;\n",
              "      gap: 12px;\n",
              "    }\n",
              "\n",
              "    .colab-df-convert {\n",
              "      background-color: #E8F0FE;\n",
              "      border: none;\n",
              "      border-radius: 50%;\n",
              "      cursor: pointer;\n",
              "      display: none;\n",
              "      fill: #1967D2;\n",
              "      height: 32px;\n",
              "      padding: 0 0 0 0;\n",
              "      width: 32px;\n",
              "    }\n",
              "\n",
              "    .colab-df-convert:hover {\n",
              "      background-color: #E2EBFA;\n",
              "      box-shadow: 0px 1px 2px rgba(60, 64, 67, 0.3), 0px 1px 3px 1px rgba(60, 64, 67, 0.15);\n",
              "      fill: #174EA6;\n",
              "    }\n",
              "\n",
              "    [theme=dark] .colab-df-convert {\n",
              "      background-color: #3B4455;\n",
              "      fill: #D2E3FC;\n",
              "    }\n",
              "\n",
              "    [theme=dark] .colab-df-convert:hover {\n",
              "      background-color: #434B5C;\n",
              "      box-shadow: 0px 1px 3px 1px rgba(0, 0, 0, 0.15);\n",
              "      filter: drop-shadow(0px 1px 2px rgba(0, 0, 0, 0.3));\n",
              "      fill: #FFFFFF;\n",
              "    }\n",
              "  </style>\n",
              "\n",
              "      <script>\n",
              "        const buttonEl =\n",
              "          document.querySelector('#df-6a063fac-a75b-4b61-9be8-3f21051d49b5 button.colab-df-convert');\n",
              "        buttonEl.style.display =\n",
              "          google.colab.kernel.accessAllowed ? 'block' : 'none';\n",
              "\n",
              "        async function convertToInteractive(key) {\n",
              "          const element = document.querySelector('#df-6a063fac-a75b-4b61-9be8-3f21051d49b5');\n",
              "          const dataTable =\n",
              "            await google.colab.kernel.invokeFunction('convertToInteractive',\n",
              "                                                     [key], {});\n",
              "          if (!dataTable) return;\n",
              "\n",
              "          const docLinkHtml = 'Like what you see? Visit the ' +\n",
              "            '<a target=\"_blank\" href=https://colab.research.google.com/notebooks/data_table.ipynb>data table notebook</a>'\n",
              "            + ' to learn more about interactive tables.';\n",
              "          element.innerHTML = '';\n",
              "          dataTable['output_type'] = 'display_data';\n",
              "          await google.colab.output.renderOutput(dataTable, element);\n",
              "          const docLink = document.createElement('div');\n",
              "          docLink.innerHTML = docLinkHtml;\n",
              "          element.appendChild(docLink);\n",
              "        }\n",
              "      </script>\n",
              "    </div>\n",
              "  </div>\n",
              "  "
            ],
            "text/plain": [
              "BAD                0     1\n",
              "maritalStatus             \n",
              "C              11725  1996\n",
              "D               1464   259\n",
              "O               1703   517\n",
              "S              15481  4894\n",
              "V               1727   234"
            ]
          },
          "metadata": {},
          "execution_count": 364
        }
      ]
    },
    {
      "cell_type": "code",
      "source": [
        "print('residenceType: P = Própria, A = Aluguel, C = Mora com os pais e O = Outro\\n')\n",
        "adiplentes = data_clients.groupby(['residenceType','BAD'])['BAD'].count().unstack('BAD').fillna(0)\n",
        "adiplentes[[0, 1]].plot(kind='bar',figsize=(10,10), stacked=True) \n",
        "plt.title('Análise do Número de Inadiplentes e Adiplentes Conforme o Tipo de Residência') \n",
        "plt.xlabel('Tipos de Residência') \n",
        "plt.ylabel('Frequência')"
      ],
      "metadata": {
        "colab": {
          "base_uri": "https://localhost:8080/",
          "height": 672
        },
        "id": "OsgqVKmp4G7e",
        "outputId": "9618fabc-22eb-4968-b37a-540b0bd38810"
      },
      "execution_count": null,
      "outputs": [
        {
          "output_type": "stream",
          "name": "stdout",
          "text": [
            "residenceType: P = Própria, A = Aluguel, C = Mora com os pais e O = Outro\n",
            "\n"
          ]
        },
        {
          "output_type": "execute_result",
          "data": {
            "text/plain": [
              "Text(0, 0.5, 'Frequência')"
            ]
          },
          "metadata": {},
          "execution_count": 365
        },
        {
          "output_type": "display_data",
          "data": {
            "image/png": "[encoded data removed]",
            "text/plain": [
              "<Figure size 720x720 with 1 Axes>"
            ]
          },
          "metadata": {
            "needs_background": "light"
          }
        }
      ]
    },
    {
      "cell_type": "code",
      "source": [
        "adiplentes = data_clients.groupby(['maritalStatus','residenceType','BAD'])['BAD'].count().unstack('BAD').fillna(0)\n",
        "adiplentes[[0, 1]].plot(kind='bar',figsize=(10,10), stacked=True) \n",
        "plt.title('Análise do Número de Inadiplentes e Adiplentes Conforme o Tipo de Residência') \n",
        "plt.xlabel('Tipos de Residência') \n",
        "plt.ylabel('Frequência')"
      ],
      "metadata": {
        "colab": {
          "base_uri": "https://localhost:8080/",
          "height": 660
        },
        "id": "QZzSF1mc98YH",
        "outputId": "66d73aa3-bf48-4b94-f93e-838ec9fc27d2"
      },
      "execution_count": null,
      "outputs": [
        {
          "output_type": "execute_result",
          "data": {
            "text/plain": [
              "Text(0, 0.5, 'Frequência')"
            ]
          },
          "metadata": {},
          "execution_count": 366
        },
        {
          "output_type": "display_data",
          "data": {
            "image/png": "[encoded data removed]",
            "text/plain": [
              "<Figure size 720x720 with 1 Axes>"
            ]
          },
          "metadata": {
            "needs_background": "light"
          }
        }
      ]
    },
    {
      "cell_type": "code",
      "source": [
        "print('Onde: maritalStatus: S = Solteiro, C = Casado, D = Divorciado, V = Viúvo e O = Outro.\\n'\n",
        " 'residenceType: P = Própria, A = Aluguel, C = Mora com os pais e O = Outro.')\n",
        "adiplentes"
      ],
      "metadata": {
        "colab": {
          "base_uri": "https://localhost:8080/",
          "height": 742
        },
        "id": "3bee85_Z-Qa6",
        "outputId": "e491aab8-ccf9-4cba-8ecf-e503e2d0813d"
      },
      "execution_count": null,
      "outputs": [
        {
          "output_type": "stream",
          "name": "stdout",
          "text": [
            "Onde: maritalStatus: S = Solteiro, C = Casado, D = Divorciado, V = Viúvo e O = Outro.\n",
            "residenceType: P = Própria, A = Aluguel, C = Mora com os pais e O = Outro.\n"
          ]
        },
        {
          "output_type": "execute_result",
          "data": {
            "text/html": [
              "\n",
              "  <div id=\"df-532aee87-8bf3-4ed7-b74d-30b1db0ca2e5\">\n",
              "    <div class=\"colab-df-container\">\n",
              "      <div>\n",
              "<style scoped>\n",
              "    .dataframe tbody tr th:only-of-type {\n",
              "        vertical-align: middle;\n",
              "    }\n",
              "\n",
              "    .dataframe tbody tr th {\n",
              "        vertical-align: top;\n",
              "    }\n",
              "\n",
              "    .dataframe thead th {\n",
              "        text-align: right;\n",
              "    }\n",
              "</style>\n",
              "<table border=\"1\" class=\"dataframe\">\n",
              "  <thead>\n",
              "    <tr style=\"text-align: right;\">\n",
              "      <th></th>\n",
              "      <th>BAD</th>\n",
              "      <th>0</th>\n",
              "      <th>1</th>\n",
              "    </tr>\n",
              "    <tr>\n",
              "      <th>maritalStatus</th>\n",
              "      <th>residenceType</th>\n",
              "      <th></th>\n",
              "      <th></th>\n",
              "    </tr>\n",
              "  </thead>\n",
              "  <tbody>\n",
              "    <tr>\n",
              "      <th rowspan=\"4\" valign=\"top\">C</th>\n",
              "      <th>A</th>\n",
              "      <td>1267</td>\n",
              "      <td>314</td>\n",
              "    </tr>\n",
              "    <tr>\n",
              "      <th>C</th>\n",
              "      <td>167</td>\n",
              "      <td>40</td>\n",
              "    </tr>\n",
              "    <tr>\n",
              "      <th>O</th>\n",
              "      <td>378</td>\n",
              "      <td>64</td>\n",
              "    </tr>\n",
              "    <tr>\n",
              "      <th>P</th>\n",
              "      <td>9913</td>\n",
              "      <td>1578</td>\n",
              "    </tr>\n",
              "    <tr>\n",
              "      <th rowspan=\"4\" valign=\"top\">D</th>\n",
              "      <th>A</th>\n",
              "      <td>209</td>\n",
              "      <td>51</td>\n",
              "    </tr>\n",
              "    <tr>\n",
              "      <th>C</th>\n",
              "      <td>53</td>\n",
              "      <td>10</td>\n",
              "    </tr>\n",
              "    <tr>\n",
              "      <th>O</th>\n",
              "      <td>67</td>\n",
              "      <td>13</td>\n",
              "    </tr>\n",
              "    <tr>\n",
              "      <th>P</th>\n",
              "      <td>1135</td>\n",
              "      <td>185</td>\n",
              "    </tr>\n",
              "    <tr>\n",
              "      <th rowspan=\"4\" valign=\"top\">O</th>\n",
              "      <th>A</th>\n",
              "      <td>263</td>\n",
              "      <td>84</td>\n",
              "    </tr>\n",
              "    <tr>\n",
              "      <th>C</th>\n",
              "      <td>61</td>\n",
              "      <td>25</td>\n",
              "    </tr>\n",
              "    <tr>\n",
              "      <th>O</th>\n",
              "      <td>86</td>\n",
              "      <td>37</td>\n",
              "    </tr>\n",
              "    <tr>\n",
              "      <th>P</th>\n",
              "      <td>1293</td>\n",
              "      <td>371</td>\n",
              "    </tr>\n",
              "    <tr>\n",
              "      <th rowspan=\"4\" valign=\"top\">S</th>\n",
              "      <th>A</th>\n",
              "      <td>2050</td>\n",
              "      <td>681</td>\n",
              "    </tr>\n",
              "    <tr>\n",
              "      <th>C</th>\n",
              "      <td>2417</td>\n",
              "      <td>686</td>\n",
              "    </tr>\n",
              "    <tr>\n",
              "      <th>O</th>\n",
              "      <td>740</td>\n",
              "      <td>198</td>\n",
              "    </tr>\n",
              "    <tr>\n",
              "      <th>P</th>\n",
              "      <td>10274</td>\n",
              "      <td>3329</td>\n",
              "    </tr>\n",
              "    <tr>\n",
              "      <th rowspan=\"4\" valign=\"top\">V</th>\n",
              "      <th>A</th>\n",
              "      <td>189</td>\n",
              "      <td>22</td>\n",
              "    </tr>\n",
              "    <tr>\n",
              "      <th>C</th>\n",
              "      <td>10</td>\n",
              "      <td>2</td>\n",
              "    </tr>\n",
              "    <tr>\n",
              "      <th>O</th>\n",
              "      <td>57</td>\n",
              "      <td>7</td>\n",
              "    </tr>\n",
              "    <tr>\n",
              "      <th>P</th>\n",
              "      <td>1471</td>\n",
              "      <td>203</td>\n",
              "    </tr>\n",
              "  </tbody>\n",
              "</table>\n",
              "</div>\n",
              "      <button class=\"colab-df-convert\" onclick=\"convertToInteractive('df-532aee87-8bf3-4ed7-b74d-30b1db0ca2e5')\"\n",
              "              title=\"Convert this dataframe to an interactive table.\"\n",
              "              style=\"display:none;\">\n",
              "        \n",
              "  <svg xmlns=\"http://www.w3.org/2000/svg\" height=\"24px\"viewBox=\"0 0 24 24\"\n",
              "       width=\"24px\">\n",
              "    <path d=\"M0 0h24v24H0V0z\" fill=\"none\"/>\n",
              "    <path d=\"M18.56 5.44l.94 2.06.94-2.06 2.06-.94-2.06-.94-.94-2.06-.94 2.06-2.06.94zm-11 1L8.5 8.5l.94-2.06 2.06-.94-2.06-.94L8.5 2.5l-.94 2.06-2.06.94zm10 10l.94 2.06.94-2.06 2.06-.94-2.06-.94-.94-2.06-.94 2.06-2.06.94z\"/><path d=\"M17.41 7.96l-1.37-1.37c-.4-.4-.92-.59-1.43-.59-.52 0-1.04.2-1.43.59L10.3 9.45l-7.72 7.72c-.78.78-.78 2.05 0 2.83L4 21.41c.39.39.9.59 1.41.59.51 0 1.02-.2 1.41-.59l7.78-7.78 2.81-2.81c.8-.78.8-2.07 0-2.86zM5.41 20L4 18.59l7.72-7.72 1.47 1.35L5.41 20z\"/>\n",
              "  </svg>\n",
              "      </button>\n",
              "      \n",
              "  <style>\n",
              "    .colab-df-container {\n",
              "      display:flex;\n",
              "      flex-wrap:wrap;\n",
              "      gap: 12px;\n",
              "    }\n",
              "\n",
              "    .colab-df-convert {\n",
              "      background-color: #E8F0FE;\n",
              "      border: none;\n",
              "      border-radius: 50%;\n",
              "      cursor: pointer;\n",
              "      display: none;\n",
              "      fill: #1967D2;\n",
              "      height: 32px;\n",
              "      padding: 0 0 0 0;\n",
              "      width: 32px;\n",
              "    }\n",
              "\n",
              "    .colab-df-convert:hover {\n",
              "      background-color: #E2EBFA;\n",
              "      box-shadow: 0px 1px 2px rgba(60, 64, 67, 0.3), 0px 1px 3px 1px rgba(60, 64, 67, 0.15);\n",
              "      fill: #174EA6;\n",
              "    }\n",
              "\n",
              "    [theme=dark] .colab-df-convert {\n",
              "      background-color: #3B4455;\n",
              "      fill: #D2E3FC;\n",
              "    }\n",
              "\n",
              "    [theme=dark] .colab-df-convert:hover {\n",
              "      background-color: #434B5C;\n",
              "      box-shadow: 0px 1px 3px 1px rgba(0, 0, 0, 0.15);\n",
              "      filter: drop-shadow(0px 1px 2px rgba(0, 0, 0, 0.3));\n",
              "      fill: #FFFFFF;\n",
              "    }\n",
              "  </style>\n",
              "\n",
              "      <script>\n",
              "        const buttonEl =\n",
              "          document.querySelector('#df-532aee87-8bf3-4ed7-b74d-30b1db0ca2e5 button.colab-df-convert');\n",
              "        buttonEl.style.display =\n",
              "          google.colab.kernel.accessAllowed ? 'block' : 'none';\n",
              "\n",
              "        async function convertToInteractive(key) {\n",
              "          const element = document.querySelector('#df-532aee87-8bf3-4ed7-b74d-30b1db0ca2e5');\n",
              "          const dataTable =\n",
              "            await google.colab.kernel.invokeFunction('convertToInteractive',\n",
              "                                                     [key], {});\n",
              "          if (!dataTable) return;\n",
              "\n",
              "          const docLinkHtml = 'Like what you see? Visit the ' +\n",
              "            '<a target=\"_blank\" href=https://colab.research.google.com/notebooks/data_table.ipynb>data table notebook</a>'\n",
              "            + ' to learn more about interactive tables.';\n",
              "          element.innerHTML = '';\n",
              "          dataTable['output_type'] = 'display_data';\n",
              "          await google.colab.output.renderOutput(dataTable, element);\n",
              "          const docLink = document.createElement('div');\n",
              "          docLink.innerHTML = docLinkHtml;\n",
              "          element.appendChild(docLink);\n",
              "        }\n",
              "      </script>\n",
              "    </div>\n",
              "  </div>\n",
              "  "
            ],
            "text/plain": [
              "BAD                              0     1\n",
              "maritalStatus residenceType             \n",
              "C             A               1267   314\n",
              "              C                167    40\n",
              "              O                378    64\n",
              "              P               9913  1578\n",
              "D             A                209    51\n",
              "              C                 53    10\n",
              "              O                 67    13\n",
              "              P               1135   185\n",
              "O             A                263    84\n",
              "              C                 61    25\n",
              "              O                 86    37\n",
              "              P               1293   371\n",
              "S             A               2050   681\n",
              "              C               2417   686\n",
              "              O                740   198\n",
              "              P              10274  3329\n",
              "V             A                189    22\n",
              "              C                 10     2\n",
              "              O                 57     7\n",
              "              P               1471   203"
            ]
          },
          "metadata": {},
          "execution_count": 367
        }
      ]
    },
    {
      "cell_type": "code",
      "source": [
        "data_clients = data_clients.drop(columns=['flagOtherCard',\t'flagMobilePhone',\t'flagContactPhone'])"
      ],
      "metadata": {
        "id": "MQNGdDOrSBMq"
      },
      "execution_count": null,
      "outputs": []
    },
    {
      "cell_type": "markdown",
      "source": [
        "**transformando as colunas maritalStatus e residenceType em objetos**"
      ],
      "metadata": {
        "id": "FeJWraYcTOg-"
      }
    },
    {
      "cell_type": "code",
      "source": [
        "data_clients = pd.get_dummies(data_clients,columns=['maritalStatus','residenceType'])\n",
        "data_clients.head(10)"
      ],
      "metadata": {
        "colab": {
          "base_uri": "https://localhost:8080/",
          "height": 444
        },
        "id": "uhMnETpLTF2B",
        "outputId": "3679065f-e599-4cfc-c1b6-29d99c3d78e4"
      },
      "execution_count": null,
      "outputs": [
        {
          "output_type": "execute_result",
          "data": {
            "text/html": [
              "\n",
              "  <div id=\"df-dea03cf7-a0ab-408a-82db-d2bc322ec8be\">\n",
              "    <div class=\"colab-df-container\">\n",
              "      <div>\n",
              "<style scoped>\n",
              "    .dataframe tbody tr th:only-of-type {\n",
              "        vertical-align: middle;\n",
              "    }\n",
              "\n",
              "    .dataframe tbody tr th {\n",
              "        vertical-align: top;\n",
              "    }\n",
              "\n",
              "    .dataframe thead th {\n",
              "        text-align: right;\n",
              "    }\n",
              "</style>\n",
              "<table border=\"1\" class=\"dataframe\">\n",
              "  <thead>\n",
              "    <tr style=\"text-align: right;\">\n",
              "      <th></th>\n",
              "      <th>Unnamed: 0</th>\n",
              "      <th>clientId</th>\n",
              "      <th>shopId</th>\n",
              "      <th>gender</th>\n",
              "      <th>age</th>\n",
              "      <th>flagResidencialPhone</th>\n",
              "      <th>areaCodeResidencialPhone</th>\n",
              "      <th>bestPaymentDay</th>\n",
              "      <th>shopRank</th>\n",
              "      <th>monthsInResidence</th>\n",
              "      <th>flagMothersName</th>\n",
              "      <th>flagFathersName</th>\n",
              "      <th>flagResidenceTown_WorkingTown</th>\n",
              "      <th>flagResidenceState_WorkingState</th>\n",
              "      <th>monthsInTheJob</th>\n",
              "      <th>professionCode</th>\n",
              "      <th>mateIncome</th>\n",
              "      <th>flagResidencialAddress_PostalAddress</th>\n",
              "      <th>personalNetIncome</th>\n",
              "      <th>BAD</th>\n",
              "      <th>maritalStatus_C</th>\n",
              "      <th>maritalStatus_D</th>\n",
              "      <th>maritalStatus_O</th>\n",
              "      <th>maritalStatus_S</th>\n",
              "      <th>maritalStatus_V</th>\n",
              "      <th>residenceType_A</th>\n",
              "      <th>residenceType_C</th>\n",
              "      <th>residenceType_O</th>\n",
              "      <th>residenceType_P</th>\n",
              "    </tr>\n",
              "  </thead>\n",
              "  <tbody>\n",
              "    <tr>\n",
              "      <th>0</th>\n",
              "      <td>1</td>\n",
              "      <td>2</td>\n",
              "      <td>15</td>\n",
              "      <td>0</td>\n",
              "      <td>18</td>\n",
              "      <td>1</td>\n",
              "      <td>31</td>\n",
              "      <td>20</td>\n",
              "      <td>0</td>\n",
              "      <td>216</td>\n",
              "      <td>1</td>\n",
              "      <td>1</td>\n",
              "      <td>1</td>\n",
              "      <td>1</td>\n",
              "      <td>12</td>\n",
              "      <td>853</td>\n",
              "      <td>0.0</td>\n",
              "      <td>1</td>\n",
              "      <td>300.0</td>\n",
              "      <td>0</td>\n",
              "      <td>0</td>\n",
              "      <td>0</td>\n",
              "      <td>0</td>\n",
              "      <td>1</td>\n",
              "      <td>0</td>\n",
              "      <td>0</td>\n",
              "      <td>0</td>\n",
              "      <td>0</td>\n",
              "      <td>1</td>\n",
              "    </tr>\n",
              "    <tr>\n",
              "      <th>1</th>\n",
              "      <td>2</td>\n",
              "      <td>4</td>\n",
              "      <td>12</td>\n",
              "      <td>0</td>\n",
              "      <td>47</td>\n",
              "      <td>0</td>\n",
              "      <td>31</td>\n",
              "      <td>25</td>\n",
              "      <td>0</td>\n",
              "      <td>180</td>\n",
              "      <td>1</td>\n",
              "      <td>1</td>\n",
              "      <td>0</td>\n",
              "      <td>1</td>\n",
              "      <td>24</td>\n",
              "      <td>35</td>\n",
              "      <td>0.0</td>\n",
              "      <td>1</td>\n",
              "      <td>304.0</td>\n",
              "      <td>0</td>\n",
              "      <td>1</td>\n",
              "      <td>0</td>\n",
              "      <td>0</td>\n",
              "      <td>0</td>\n",
              "      <td>0</td>\n",
              "      <td>0</td>\n",
              "      <td>0</td>\n",
              "      <td>0</td>\n",
              "      <td>1</td>\n",
              "    </tr>\n",
              "    <tr>\n",
              "      <th>2</th>\n",
              "      <td>3</td>\n",
              "      <td>5</td>\n",
              "      <td>16</td>\n",
              "      <td>0</td>\n",
              "      <td>28</td>\n",
              "      <td>1</td>\n",
              "      <td>31</td>\n",
              "      <td>25</td>\n",
              "      <td>0</td>\n",
              "      <td>12</td>\n",
              "      <td>1</td>\n",
              "      <td>1</td>\n",
              "      <td>1</td>\n",
              "      <td>1</td>\n",
              "      <td>12</td>\n",
              "      <td>24</td>\n",
              "      <td>0.0</td>\n",
              "      <td>1</td>\n",
              "      <td>250.0</td>\n",
              "      <td>0</td>\n",
              "      <td>0</td>\n",
              "      <td>0</td>\n",
              "      <td>0</td>\n",
              "      <td>1</td>\n",
              "      <td>0</td>\n",
              "      <td>0</td>\n",
              "      <td>0</td>\n",
              "      <td>1</td>\n",
              "      <td>0</td>\n",
              "    </tr>\n",
              "    <tr>\n",
              "      <th>3</th>\n",
              "      <td>4</td>\n",
              "      <td>6</td>\n",
              "      <td>24</td>\n",
              "      <td>1</td>\n",
              "      <td>26</td>\n",
              "      <td>0</td>\n",
              "      <td>31</td>\n",
              "      <td>28</td>\n",
              "      <td>0</td>\n",
              "      <td>180</td>\n",
              "      <td>1</td>\n",
              "      <td>1</td>\n",
              "      <td>0</td>\n",
              "      <td>1</td>\n",
              "      <td>0</td>\n",
              "      <td>999</td>\n",
              "      <td>0.0</td>\n",
              "      <td>1</td>\n",
              "      <td>800.0</td>\n",
              "      <td>0</td>\n",
              "      <td>0</td>\n",
              "      <td>0</td>\n",
              "      <td>0</td>\n",
              "      <td>1</td>\n",
              "      <td>0</td>\n",
              "      <td>0</td>\n",
              "      <td>0</td>\n",
              "      <td>0</td>\n",
              "      <td>1</td>\n",
              "    </tr>\n",
              "    <tr>\n",
              "      <th>4</th>\n",
              "      <td>5</td>\n",
              "      <td>7</td>\n",
              "      <td>55</td>\n",
              "      <td>0</td>\n",
              "      <td>22</td>\n",
              "      <td>1</td>\n",
              "      <td>31</td>\n",
              "      <td>12</td>\n",
              "      <td>0</td>\n",
              "      <td>0</td>\n",
              "      <td>1</td>\n",
              "      <td>1</td>\n",
              "      <td>1</td>\n",
              "      <td>1</td>\n",
              "      <td>48</td>\n",
              "      <td>999</td>\n",
              "      <td>0.0</td>\n",
              "      <td>1</td>\n",
              "      <td>410.0</td>\n",
              "      <td>0</td>\n",
              "      <td>0</td>\n",
              "      <td>0</td>\n",
              "      <td>0</td>\n",
              "      <td>1</td>\n",
              "      <td>0</td>\n",
              "      <td>1</td>\n",
              "      <td>0</td>\n",
              "      <td>0</td>\n",
              "      <td>0</td>\n",
              "    </tr>\n",
              "    <tr>\n",
              "      <th>5</th>\n",
              "      <td>6</td>\n",
              "      <td>8</td>\n",
              "      <td>6</td>\n",
              "      <td>0</td>\n",
              "      <td>21</td>\n",
              "      <td>1</td>\n",
              "      <td>23</td>\n",
              "      <td>28</td>\n",
              "      <td>0</td>\n",
              "      <td>24</td>\n",
              "      <td>1</td>\n",
              "      <td>1</td>\n",
              "      <td>1</td>\n",
              "      <td>1</td>\n",
              "      <td>12</td>\n",
              "      <td>40</td>\n",
              "      <td>800.0</td>\n",
              "      <td>1</td>\n",
              "      <td>248.0</td>\n",
              "      <td>0</td>\n",
              "      <td>1</td>\n",
              "      <td>0</td>\n",
              "      <td>0</td>\n",
              "      <td>0</td>\n",
              "      <td>0</td>\n",
              "      <td>1</td>\n",
              "      <td>0</td>\n",
              "      <td>0</td>\n",
              "      <td>0</td>\n",
              "    </tr>\n",
              "    <tr>\n",
              "      <th>6</th>\n",
              "      <td>7</td>\n",
              "      <td>9</td>\n",
              "      <td>3</td>\n",
              "      <td>0</td>\n",
              "      <td>27</td>\n",
              "      <td>1</td>\n",
              "      <td>31</td>\n",
              "      <td>20</td>\n",
              "      <td>0</td>\n",
              "      <td>0</td>\n",
              "      <td>1</td>\n",
              "      <td>1</td>\n",
              "      <td>1</td>\n",
              "      <td>1</td>\n",
              "      <td>0</td>\n",
              "      <td>950</td>\n",
              "      <td>0.0</td>\n",
              "      <td>1</td>\n",
              "      <td>1000.0</td>\n",
              "      <td>1</td>\n",
              "      <td>0</td>\n",
              "      <td>0</td>\n",
              "      <td>0</td>\n",
              "      <td>1</td>\n",
              "      <td>0</td>\n",
              "      <td>1</td>\n",
              "      <td>0</td>\n",
              "      <td>0</td>\n",
              "      <td>0</td>\n",
              "    </tr>\n",
              "    <tr>\n",
              "      <th>7</th>\n",
              "      <td>8</td>\n",
              "      <td>10</td>\n",
              "      <td>23</td>\n",
              "      <td>0</td>\n",
              "      <td>57</td>\n",
              "      <td>1</td>\n",
              "      <td>31</td>\n",
              "      <td>12</td>\n",
              "      <td>0</td>\n",
              "      <td>24</td>\n",
              "      <td>1</td>\n",
              "      <td>1</td>\n",
              "      <td>0</td>\n",
              "      <td>1</td>\n",
              "      <td>96</td>\n",
              "      <td>13</td>\n",
              "      <td>0.0</td>\n",
              "      <td>1</td>\n",
              "      <td>856.0</td>\n",
              "      <td>0</td>\n",
              "      <td>1</td>\n",
              "      <td>0</td>\n",
              "      <td>0</td>\n",
              "      <td>0</td>\n",
              "      <td>0</td>\n",
              "      <td>0</td>\n",
              "      <td>0</td>\n",
              "      <td>0</td>\n",
              "      <td>1</td>\n",
              "    </tr>\n",
              "    <tr>\n",
              "      <th>8</th>\n",
              "      <td>9</td>\n",
              "      <td>11</td>\n",
              "      <td>25</td>\n",
              "      <td>0</td>\n",
              "      <td>53</td>\n",
              "      <td>1</td>\n",
              "      <td>31</td>\n",
              "      <td>18</td>\n",
              "      <td>0</td>\n",
              "      <td>60</td>\n",
              "      <td>1</td>\n",
              "      <td>1</td>\n",
              "      <td>0</td>\n",
              "      <td>1</td>\n",
              "      <td>24</td>\n",
              "      <td>13</td>\n",
              "      <td>0.0</td>\n",
              "      <td>1</td>\n",
              "      <td>738.0</td>\n",
              "      <td>1</td>\n",
              "      <td>0</td>\n",
              "      <td>0</td>\n",
              "      <td>0</td>\n",
              "      <td>1</td>\n",
              "      <td>0</td>\n",
              "      <td>0</td>\n",
              "      <td>0</td>\n",
              "      <td>0</td>\n",
              "      <td>1</td>\n",
              "    </tr>\n",
              "    <tr>\n",
              "      <th>9</th>\n",
              "      <td>10</td>\n",
              "      <td>12</td>\n",
              "      <td>12</td>\n",
              "      <td>0</td>\n",
              "      <td>32</td>\n",
              "      <td>1</td>\n",
              "      <td>31</td>\n",
              "      <td>12</td>\n",
              "      <td>0</td>\n",
              "      <td>24</td>\n",
              "      <td>1</td>\n",
              "      <td>1</td>\n",
              "      <td>0</td>\n",
              "      <td>1</td>\n",
              "      <td>0</td>\n",
              "      <td>165</td>\n",
              "      <td>0.0</td>\n",
              "      <td>1</td>\n",
              "      <td>700.0</td>\n",
              "      <td>0</td>\n",
              "      <td>1</td>\n",
              "      <td>0</td>\n",
              "      <td>0</td>\n",
              "      <td>0</td>\n",
              "      <td>0</td>\n",
              "      <td>0</td>\n",
              "      <td>0</td>\n",
              "      <td>0</td>\n",
              "      <td>1</td>\n",
              "    </tr>\n",
              "  </tbody>\n",
              "</table>\n",
              "</div>\n",
              "      <button class=\"colab-df-convert\" onclick=\"convertToInteractive('df-dea03cf7-a0ab-408a-82db-d2bc322ec8be')\"\n",
              "              title=\"Convert this dataframe to an interactive table.\"\n",
              "              style=\"display:none;\">\n",
              "        \n",
              "  <svg xmlns=\"http://www.w3.org/2000/svg\" height=\"24px\"viewBox=\"0 0 24 24\"\n",
              "       width=\"24px\">\n",
              "    <path d=\"M0 0h24v24H0V0z\" fill=\"none\"/>\n",
              "    <path d=\"M18.56 5.44l.94 2.06.94-2.06 2.06-.94-2.06-.94-.94-2.06-.94 2.06-2.06.94zm-11 1L8.5 8.5l.94-2.06 2.06-.94-2.06-.94L8.5 2.5l-.94 2.06-2.06.94zm10 10l.94 2.06.94-2.06 2.06-.94-2.06-.94-.94-2.06-.94 2.06-2.06.94z\"/><path d=\"M17.41 7.96l-1.37-1.37c-.4-.4-.92-.59-1.43-.59-.52 0-1.04.2-1.43.59L10.3 9.45l-7.72 7.72c-.78.78-.78 2.05 0 2.83L4 21.41c.39.39.9.59 1.41.59.51 0 1.02-.2 1.41-.59l7.78-7.78 2.81-2.81c.8-.78.8-2.07 0-2.86zM5.41 20L4 18.59l7.72-7.72 1.47 1.35L5.41 20z\"/>\n",
              "  </svg>\n",
              "      </button>\n",
              "      \n",
              "  <style>\n",
              "    .colab-df-container {\n",
              "      display:flex;\n",
              "      flex-wrap:wrap;\n",
              "      gap: 12px;\n",
              "    }\n",
              "\n",
              "    .colab-df-convert {\n",
              "      background-color: #E8F0FE;\n",
              "      border: none;\n",
              "      border-radius: 50%;\n",
              "      cursor: pointer;\n",
              "      display: none;\n",
              "      fill: #1967D2;\n",
              "      height: 32px;\n",
              "      padding: 0 0 0 0;\n",
              "      width: 32px;\n",
              "    }\n",
              "\n",
              "    .colab-df-convert:hover {\n",
              "      background-color: #E2EBFA;\n",
              "      box-shadow: 0px 1px 2px rgba(60, 64, 67, 0.3), 0px 1px 3px 1px rgba(60, 64, 67, 0.15);\n",
              "      fill: #174EA6;\n",
              "    }\n",
              "\n",
              "    [theme=dark] .colab-df-convert {\n",
              "      background-color: #3B4455;\n",
              "      fill: #D2E3FC;\n",
              "    }\n",
              "\n",
              "    [theme=dark] .colab-df-convert:hover {\n",
              "      background-color: #434B5C;\n",
              "      box-shadow: 0px 1px 3px 1px rgba(0, 0, 0, 0.15);\n",
              "      filter: drop-shadow(0px 1px 2px rgba(0, 0, 0, 0.3));\n",
              "      fill: #FFFFFF;\n",
              "    }\n",
              "  </style>\n",
              "\n",
              "      <script>\n",
              "        const buttonEl =\n",
              "          document.querySelector('#df-dea03cf7-a0ab-408a-82db-d2bc322ec8be button.colab-df-convert');\n",
              "        buttonEl.style.display =\n",
              "          google.colab.kernel.accessAllowed ? 'block' : 'none';\n",
              "\n",
              "        async function convertToInteractive(key) {\n",
              "          const element = document.querySelector('#df-dea03cf7-a0ab-408a-82db-d2bc322ec8be');\n",
              "          const dataTable =\n",
              "            await google.colab.kernel.invokeFunction('convertToInteractive',\n",
              "                                                     [key], {});\n",
              "          if (!dataTable) return;\n",
              "\n",
              "          const docLinkHtml = 'Like what you see? Visit the ' +\n",
              "            '<a target=\"_blank\" href=https://colab.research.google.com/notebooks/data_table.ipynb>data table notebook</a>'\n",
              "            + ' to learn more about interactive tables.';\n",
              "          element.innerHTML = '';\n",
              "          dataTable['output_type'] = 'display_data';\n",
              "          await google.colab.output.renderOutput(dataTable, element);\n",
              "          const docLink = document.createElement('div');\n",
              "          docLink.innerHTML = docLinkHtml;\n",
              "          element.appendChild(docLink);\n",
              "        }\n",
              "      </script>\n",
              "    </div>\n",
              "  </div>\n",
              "  "
            ],
            "text/plain": [
              "   Unnamed: 0  clientId  ...  residenceType_O  residenceType_P\n",
              "0           1         2  ...                0                1\n",
              "1           2         4  ...                0                1\n",
              "2           3         5  ...                1                0\n",
              "3           4         6  ...                0                1\n",
              "4           5         7  ...                0                0\n",
              "5           6         8  ...                0                0\n",
              "6           7         9  ...                0                0\n",
              "7           8        10  ...                0                1\n",
              "8           9        11  ...                0                1\n",
              "9          10        12  ...                0                1\n",
              "\n",
              "[10 rows x 29 columns]"
            ]
          },
          "metadata": {},
          "execution_count": 369
        }
      ]
    },
    {
      "cell_type": "markdown",
      "source": [
        "## processamento"
      ],
      "metadata": {
        "id": "WN2v04tJZtSm"
      }
    },
    {
      "cell_type": "code",
      "execution_count": null,
      "metadata": {
        "id": "KEhdKDLZ0oda"
      },
      "outputs": [],
      "source": [
        "entradas = ['gender', 'age',\n",
        "       'shopRank', 'monthsInResidence', 'flagResidenceState_WorkingState',\n",
        "       'monthsInTheJob', 'mateIncome',\n",
        "       'flagResidencialAddress_PostalAddress', 'personalNetIncome',\n",
        "       'maritalStatus_C', 'maritalStatus_D', 'maritalStatus_O',\n",
        "       'maritalStatus_S', 'maritalStatus_V', 'residenceType_A',\n",
        "       'residenceType_C', 'residenceType_O', 'residenceType_P']\n",
        "saida = ['BAD']"
      ]
    },
    {
      "cell_type": "code",
      "source": [
        "x = data_clients[entradas]\n",
        "y = data_clients[saida]"
      ],
      "metadata": {
        "id": "SwSVTFBmZavc"
      },
      "execution_count": null,
      "outputs": []
    },
    {
      "cell_type": "code",
      "source": [
        "from sklearn import neighbors, datasets\n",
        "from sklearn.model_selection import train_test_split\n",
        "x_train, x_test, y_train, y_test = train_test_split(x, y, test_size=0.20,random_state=1)"
      ],
      "metadata": {
        "id": "mgbmpBy1ZoUm"
      },
      "execution_count": null,
      "outputs": []
    },
    {
      "cell_type": "code",
      "source": [
        "# realiza o processo de normalização dos dados\n",
        "from sklearn.preprocessing import StandardScaler\n",
        "scaler = StandardScaler()  \n",
        "scaler.fit(x_train)  \n",
        "\n",
        "x_train = scaler.transform(x_train)\n",
        "x_test = scaler.transform(x_test)"
      ],
      "metadata": {
        "id": "qOoDh_LjeShB"
      },
      "execution_count": null,
      "outputs": []
    },
    {
      "cell_type": "markdown",
      "source": [
        "**treinamento do modelo**"
      ],
      "metadata": {
        "id": "W2M_u2a4eKjL"
      }
    },
    {
      "cell_type": "markdown",
      "source": [
        "### knn"
      ],
      "metadata": {
        "id": "J7QgLaYSqoJE"
      }
    },
    {
      "cell_type": "code",
      "source": [
        "from sklearn.neighbors import KNeighborsClassifier\n",
        "classifier = KNeighborsClassifier(n_neighbors=7) #utiliza a construção por meio de 5 vizinhos\n",
        "classifier.fit(x_train, y_train) # aplica a classificação"
      ],
      "metadata": {
        "colab": {
          "base_uri": "https://localhost:8080/"
        },
        "id": "Q6K9ETkDbgVr",
        "outputId": "2040cb03-0a71-4434-f747-cdf212c57fac"
      },
      "execution_count": null,
      "outputs": [
        {
          "output_type": "stream",
          "name": "stderr",
          "text": [
            "/usr/local/lib/python3.7/dist-packages/sklearn/neighbors/_classification.py:198: DataConversionWarning: A column-vector y was passed when a 1d array was expected. Please change the shape of y to (n_samples,), for example using ravel().\n",
            "  return self._fit(X, y)\n"
          ]
        },
        {
          "output_type": "execute_result",
          "data": {
            "text/plain": [
              "KNeighborsClassifier(n_neighbors=7)"
            ]
          },
          "metadata": {},
          "execution_count": 374
        }
      ]
    },
    {
      "cell_type": "code",
      "source": [
        "y_pred = classifier.predict(x_test)"
      ],
      "metadata": {
        "id": "IuxKgz32ffXK"
      },
      "execution_count": null,
      "outputs": []
    },
    {
      "cell_type": "code",
      "source": [
        "#constroi a matriz de confusão para comparar o modelo criado\n",
        "from sklearn.metrics import classification_report, confusion_matrix\n",
        "print(confusion_matrix(y_test, y_pred))\n",
        "print(classification_report(y_test, y_pred))\n"
      ],
      "metadata": {
        "colab": {
          "base_uri": "https://localhost:8080/"
        },
        "id": "CTah91VNfp5r",
        "outputId": "4b7f96cc-1139-4521-f427-0db1f165de93"
      },
      "execution_count": null,
      "outputs": [
        {
          "output_type": "stream",
          "name": "stdout",
          "text": [
            "[[6064  355]\n",
            " [1451  130]]\n",
            "              precision    recall  f1-score   support\n",
            "\n",
            "           0       0.81      0.94      0.87      6419\n",
            "           1       0.27      0.08      0.13      1581\n",
            "\n",
            "    accuracy                           0.77      8000\n",
            "   macro avg       0.54      0.51      0.50      8000\n",
            "weighted avg       0.70      0.77      0.72      8000\n",
            "\n"
          ]
        }
      ]
    },
    {
      "cell_type": "code",
      "source": [
        "from sklearn.metrics import classification_report, plot_confusion_matrix\n",
        "plot_confusion_matrix(classifier, x_test, y_test);"
      ],
      "metadata": {
        "colab": {
          "base_uri": "https://localhost:8080/",
          "height": 335
        },
        "id": "1A0nbZmxiEef",
        "outputId": "0b48a873-88b3-4b0f-f1f9-f7a26692ced5"
      },
      "execution_count": null,
      "outputs": [
        {
          "output_type": "stream",
          "name": "stderr",
          "text": [
            "/usr/local/lib/python3.7/dist-packages/sklearn/utils/deprecation.py:87: FutureWarning: Function plot_confusion_matrix is deprecated; Function `plot_confusion_matrix` is deprecated in 1.0 and will be removed in 1.2. Use one of the class methods: ConfusionMatrixDisplay.from_predictions or ConfusionMatrixDisplay.from_estimator.\n",
            "  warnings.warn(msg, category=FutureWarning)\n"
          ]
        },
        {
          "output_type": "display_data",
          "data": {
            "image/png": "[encoded data removed]",
            "text/plain": [
              "<Figure size 432x288 with 2 Axes>"
            ]
          },
          "metadata": {
            "needs_background": "light"
          }
        }
      ]
    },
    {
      "cell_type": "markdown",
      "source": [
        "**tendo como parâmetros de entrada:** 'gender', 'age', 'shopRank', 'monthsInResidence', 'flagResidenceState_WorkingState', 'monthsInTheJob', 'mateIncome','flagResidencialAddress_PostalAddress', 'personalNetIncome',      'maritalStatus_C', 'maritalStatus_D', 'maritalStatus_O','maritalStatus_S', 'maritalStatus_V', 'residenceType_A',residenceType_C', 'residenceType_O', 'residenceType_P':\n"
      ],
      "metadata": {
        "id": "FFFPpd0rlVHi"
      }
    },
    {
      "cell_type": "code",
      "source": [
        "print('Temos que a precisão é:\\n', 6064/(6064+355))\n",
        "print('A acurácia é:\\n', 0.77)"
      ],
      "metadata": {
        "colab": {
          "base_uri": "https://localhost:8080/"
        },
        "id": "sLva2o8gmPcS",
        "outputId": "0868efc7-c9ab-4ab8-97c2-a4edf61e9609"
      },
      "execution_count": null,
      "outputs": [
        {
          "output_type": "stream",
          "name": "stdout",
          "text": [
            "Temos que a precisão é:\n",
            " 0.9446954354260788\n",
            "A acurácia é:\n",
            " 0.77\n"
          ]
        }
      ]
    },
    {
      "cell_type": "markdown",
      "source": [
        "**Fazendo uma analise para o estado Civil, tipo de residencia, idade e genero**"
      ],
      "metadata": {
        "id": "fB_OIeZ4nAwa"
      }
    },
    {
      "cell_type": "code",
      "source": [
        "entradas = ['gender', 'age','maritalStatus_C', 'maritalStatus_D', 'maritalStatus_O',\n",
        "       'maritalStatus_S', 'maritalStatus_V', 'residenceType_A',\n",
        "       'residenceType_C', 'residenceType_O', 'residenceType_P']\n",
        "saida = ['BAD']"
      ],
      "metadata": {
        "id": "TfhJD3rim8Ws"
      },
      "execution_count": null,
      "outputs": []
    },
    {
      "cell_type": "code",
      "source": [
        "x = data_clients[entradas]\n",
        "y = data_clients[saida]"
      ],
      "metadata": {
        "id": "3ZxfG1hkoVPr"
      },
      "execution_count": null,
      "outputs": []
    },
    {
      "cell_type": "code",
      "source": [
        "x_train, x_test, y_train, y_test = train_test_split(x, y, test_size=0.20,random_state=1)\n"
      ],
      "metadata": {
        "id": "a1zmDrAqoX9-"
      },
      "execution_count": null,
      "outputs": []
    },
    {
      "cell_type": "code",
      "source": [
        "scaler = StandardScaler()  \n",
        "scaler.fit(x_train)  \n",
        "\n",
        "x_train = scaler.transform(x_train)\n",
        "x_test = scaler.transform(x_test)"
      ],
      "metadata": {
        "id": "LWXf35exojpz"
      },
      "execution_count": null,
      "outputs": []
    },
    {
      "cell_type": "code",
      "source": [
        "classifier = KNeighborsClassifier(n_neighbors=10) #utiliza a construção por meio de 10 vizinhos\n",
        "classifier.fit(x_train, y_train) # aplica a classificação"
      ],
      "metadata": {
        "colab": {
          "base_uri": "https://localhost:8080/"
        },
        "id": "yMVDGtbPoo0G",
        "outputId": "ed67b290-f24a-43cf-bdaa-3a8e37e2345f"
      },
      "execution_count": null,
      "outputs": [
        {
          "output_type": "stream",
          "name": "stderr",
          "text": [
            "/usr/local/lib/python3.7/dist-packages/sklearn/neighbors/_classification.py:198: DataConversionWarning: A column-vector y was passed when a 1d array was expected. Please change the shape of y to (n_samples,), for example using ravel().\n",
            "  return self._fit(X, y)\n"
          ]
        },
        {
          "output_type": "execute_result",
          "data": {
            "text/plain": [
              "KNeighborsClassifier(n_neighbors=10)"
            ]
          },
          "metadata": {},
          "execution_count": 383
        }
      ]
    },
    {
      "cell_type": "code",
      "source": [
        "y_pred = classifier.predict(x_test)"
      ],
      "metadata": {
        "id": "sXgKN4hXoveP"
      },
      "execution_count": null,
      "outputs": []
    },
    {
      "cell_type": "code",
      "source": [
        "print(confusion_matrix(y_test, y_pred))\n",
        "print(classification_report(y_test, y_pred))"
      ],
      "metadata": {
        "colab": {
          "base_uri": "https://localhost:8080/"
        },
        "id": "oquPe0fgoyv5",
        "outputId": "c6f823b5-e6a3-49cf-cbbb-bf526b1e8a23"
      },
      "execution_count": null,
      "outputs": [
        {
          "output_type": "stream",
          "name": "stdout",
          "text": [
            "[[6304  115]\n",
            " [1534   47]]\n",
            "              precision    recall  f1-score   support\n",
            "\n",
            "           0       0.80      0.98      0.88      6419\n",
            "           1       0.29      0.03      0.05      1581\n",
            "\n",
            "    accuracy                           0.79      8000\n",
            "   macro avg       0.55      0.51      0.47      8000\n",
            "weighted avg       0.70      0.79      0.72      8000\n",
            "\n"
          ]
        }
      ]
    },
    {
      "cell_type": "code",
      "source": [
        "from sklearn.metrics import classification_report, plot_confusion_matrix,accuracy_score\n",
        "plot_confusion_matrix(classifier, x_test, y_test);"
      ],
      "metadata": {
        "colab": {
          "base_uri": "https://localhost:8080/",
          "height": 333
        },
        "id": "vYnROD5io1ZG",
        "outputId": "dd5931ad-a4a0-4e65-9e5d-9975b24191e8"
      },
      "execution_count": null,
      "outputs": [
        {
          "output_type": "stream",
          "name": "stderr",
          "text": [
            "/usr/local/lib/python3.7/dist-packages/sklearn/utils/deprecation.py:87: FutureWarning: Function plot_confusion_matrix is deprecated; Function `plot_confusion_matrix` is deprecated in 1.0 and will be removed in 1.2. Use one of the class methods: ConfusionMatrixDisplay.from_predictions or ConfusionMatrixDisplay.from_estimator.\n",
            "  warnings.warn(msg, category=FutureWarning)\n"
          ]
        },
        {
          "output_type": "display_data",
          "data": {
            "image/png": "[encoded data removed]",
            "text/plain": [
              "<Figure size 432x288 with 2 Axes>"
            ]
          },
          "metadata": {
            "needs_background": "light"
          }
        }
      ]
    },
    {
      "cell_type": "code",
      "source": [
        "print('A precisão é de:\\n',6304/(6304+47))\n",
        "print('A acuracia do modelo é:\\n', 0.79)"
      ],
      "metadata": {
        "colab": {
          "base_uri": "https://localhost:8080/"
        },
        "id": "hb_POeEApU3T",
        "outputId": "65312779-049c-43fb-d3ae-4a92a4414e49"
      },
      "execution_count": null,
      "outputs": [
        {
          "output_type": "stream",
          "name": "stdout",
          "text": [
            "A precisão é de:\n",
            " 0.9925995906156511\n",
            "A acuracia do modelo é:\n",
            " 0.79\n"
          ]
        }
      ]
    },
    {
      "cell_type": "markdown",
      "source": [
        "### regressão logística"
      ],
      "metadata": {
        "id": "hl0ScaLhrMwR"
      }
    },
    {
      "cell_type": "markdown",
      "source": [
        "**Usaremos os mesmo parâmetros de entrada usados no KNN**"
      ],
      "metadata": {
        "id": "yIYDc9bhwRLN"
      }
    },
    {
      "cell_type": "code",
      "source": [
        "from sklearn.linear_model import LogisticRegression"
      ],
      "metadata": {
        "id": "w73I7nwdzEHi"
      },
      "execution_count": null,
      "outputs": []
    },
    {
      "cell_type": "code",
      "source": [
        "entradas = ['gender', 'age',\n",
        "       'shopRank', 'monthsInResidence', 'flagResidenceState_WorkingState',\n",
        "       'monthsInTheJob', 'mateIncome',\n",
        "       'flagResidencialAddress_PostalAddress', 'personalNetIncome',\n",
        "       'maritalStatus_C', 'maritalStatus_D', 'maritalStatus_O',\n",
        "       'maritalStatus_S', 'maritalStatus_V', 'residenceType_A',\n",
        "       'residenceType_C', 'residenceType_O', 'residenceType_P']\n",
        "saida = ['BAD']"
      ],
      "metadata": {
        "id": "uFAl5k3prJ_R"
      },
      "execution_count": null,
      "outputs": []
    },
    {
      "cell_type": "code",
      "source": [
        "x = data_clients[entradas]\n",
        "y = data_clients[saida]"
      ],
      "metadata": {
        "id": "89ti_3rGEPXV"
      },
      "execution_count": null,
      "outputs": []
    },
    {
      "cell_type": "code",
      "source": [
        "x_train, x_test, y_train, y_test = train_test_split(x, y, test_size=0.20,random_state=1)"
      ],
      "metadata": {
        "id": "uHuFwGse1l1y"
      },
      "execution_count": null,
      "outputs": []
    },
    {
      "cell_type": "code",
      "source": [
        "scaler = StandardScaler()  \n",
        "scaler.fit(x_train)  \n",
        "\n",
        "x_train = scaler.transform(x_train)\n",
        "x_test = scaler.transform(x_test)"
      ],
      "metadata": {
        "id": "w7UrzHKB1vbb"
      },
      "execution_count": null,
      "outputs": []
    },
    {
      "cell_type": "code",
      "source": [
        "regression_logs = LogisticRegression()\n",
        "regression_logs.fit(x_train, y_train)"
      ],
      "metadata": {
        "colab": {
          "base_uri": "https://localhost:8080/"
        },
        "id": "-TV9GXsA19AB",
        "outputId": "b21ed9f6-4186-4202-936e-7aac6cc26707"
      },
      "execution_count": null,
      "outputs": [
        {
          "output_type": "stream",
          "name": "stderr",
          "text": [
            "/usr/local/lib/python3.7/dist-packages/sklearn/utils/validation.py:985: DataConversionWarning: A column-vector y was passed when a 1d array was expected. Please change the shape of y to (n_samples, ), for example using ravel().\n",
            "  y = column_or_1d(y, warn=True)\n"
          ]
        },
        {
          "output_type": "execute_result",
          "data": {
            "text/plain": [
              "LogisticRegression()"
            ]
          },
          "metadata": {},
          "execution_count": 393
        }
      ]
    },
    {
      "cell_type": "code",
      "source": [
        "y_pred = regression_logs.predict(x_test)"
      ],
      "metadata": {
        "id": "eydFx6bS2IFw"
      },
      "execution_count": null,
      "outputs": []
    },
    {
      "cell_type": "code",
      "source": [
        "print(confusion_matrix(y_test, y_pred))\n",
        "print(classification_report(y_test, y_pred))"
      ],
      "metadata": {
        "colab": {
          "base_uri": "https://localhost:8080/"
        },
        "id": "MBzkLm5u4Mu-",
        "outputId": "244f5651-fed6-4033-82a5-f08506608786"
      },
      "execution_count": null,
      "outputs": [
        {
          "output_type": "stream",
          "name": "stdout",
          "text": [
            "[[6419    0]\n",
            " [1581    0]]\n",
            "              precision    recall  f1-score   support\n",
            "\n",
            "           0       0.80      1.00      0.89      6419\n",
            "           1       0.00      0.00      0.00      1581\n",
            "\n",
            "    accuracy                           0.80      8000\n",
            "   macro avg       0.40      0.50      0.45      8000\n",
            "weighted avg       0.64      0.80      0.71      8000\n",
            "\n"
          ]
        },
        {
          "output_type": "stream",
          "name": "stderr",
          "text": [
            "/usr/local/lib/python3.7/dist-packages/sklearn/metrics/_classification.py:1308: UndefinedMetricWarning: Precision and F-score are ill-defined and being set to 0.0 in labels with no predicted samples. Use `zero_division` parameter to control this behavior.\n",
            "  _warn_prf(average, modifier, msg_start, len(result))\n",
            "/usr/local/lib/python3.7/dist-packages/sklearn/metrics/_classification.py:1308: UndefinedMetricWarning: Precision and F-score are ill-defined and being set to 0.0 in labels with no predicted samples. Use `zero_division` parameter to control this behavior.\n",
            "  _warn_prf(average, modifier, msg_start, len(result))\n",
            "/usr/local/lib/python3.7/dist-packages/sklearn/metrics/_classification.py:1308: UndefinedMetricWarning: Precision and F-score are ill-defined and being set to 0.0 in labels with no predicted samples. Use `zero_division` parameter to control this behavior.\n",
            "  _warn_prf(average, modifier, msg_start, len(result))\n"
          ]
        }
      ]
    },
    {
      "cell_type": "code",
      "source": [
        "plot_confusion_matrix(regression_logs,x_test,y_test);"
      ],
      "metadata": {
        "colab": {
          "base_uri": "https://localhost:8080/",
          "height": 333
        },
        "id": "M_nIWMXw2tm0",
        "outputId": "a4130ad2-8edb-4624-f2d7-c824958f6f5d"
      },
      "execution_count": null,
      "outputs": [
        {
          "output_type": "stream",
          "name": "stderr",
          "text": [
            "/usr/local/lib/python3.7/dist-packages/sklearn/utils/deprecation.py:87: FutureWarning: Function plot_confusion_matrix is deprecated; Function `plot_confusion_matrix` is deprecated in 1.0 and will be removed in 1.2. Use one of the class methods: ConfusionMatrixDisplay.from_predictions or ConfusionMatrixDisplay.from_estimator.\n",
            "  warnings.warn(msg, category=FutureWarning)\n"
          ]
        },
        {
          "output_type": "display_data",
          "data": {
            "image/png": "[encoded data removed]",
            "text/plain": [
              "<Figure size 432x288 with 2 Axes>"
            ]
          },
          "metadata": {
            "needs_background": "light"
          }
        }
      ]
    },
    {
      "cell_type": "markdown",
      "source": [
        "**A regressão logística para os parâmetros de entrada:**'gender', 'age' 'shopRank', 'monthsInResidence', 'flagResidenceState_WorkingState','monthsInTheJob', 'mateIncome', 'flagResidencialAddress_PostalAddress', 'personalNetIncome','maritalStatus_C', 'maritalStatus_D', 'maritalStatus_O' 'maritalStatus_S', 'maritalStatus_V', 'residenceType_A', 'residenceType_C', 'residenceType_O', 'residenceType_P';**saida** = 'BAD'."
      ],
      "metadata": {
        "id": "NtYV_I4F6k2s"
      }
    },
    {
      "cell_type": "code",
      "source": [
        "print('tem uma precisão de:\\n',6419/6419)\n",
        "print('acuracia é:\\n',0.80)"
      ],
      "metadata": {
        "colab": {
          "base_uri": "https://localhost:8080/"
        },
        "id": "pMIJiVFT5yXv",
        "outputId": "6eb1ccca-8db3-468b-b17e-30fb1cd49216"
      },
      "execution_count": null,
      "outputs": [
        {
          "output_type": "stream",
          "name": "stdout",
          "text": [
            "tem uma precisão de:\n",
            " 1.0\n",
            "acuracia é:\n",
            " 0.8\n"
          ]
        }
      ]
    },
    {
      "cell_type": "markdown",
      "source": [
        "**Usando o primeiro parâmetro de entrada no knn, ou seja, analisando estado Civil, tipo de residencia, idade e genero**\n",
        "\n"
      ],
      "metadata": {
        "id": "YDoG_WYW8SmO"
      }
    },
    {
      "cell_type": "code",
      "source": [
        "entradas = [ 'age','maritalStatus_C', 'maritalStatus_D', 'maritalStatus_O',\n",
        "       'maritalStatus_S', 'maritalStatus_V', 'residenceType_A',\n",
        "       'residenceType_C', 'residenceType_O', 'residenceType_P']\n",
        "saida = ['BAD']"
      ],
      "metadata": {
        "id": "3G1gNXPZ8bHR"
      },
      "execution_count": null,
      "outputs": []
    },
    {
      "cell_type": "code",
      "source": [
        "x = data_clients[entradas]\n",
        "y = data_clients[saida]"
      ],
      "metadata": {
        "id": "YA0krj-yERy7"
      },
      "execution_count": null,
      "outputs": []
    },
    {
      "cell_type": "code",
      "source": [
        "x_train, x_test, y_train, y_test = train_test_split(x, y, test_size=0.20,random_state=1)"
      ],
      "metadata": {
        "id": "lJqGtKks8_KH"
      },
      "execution_count": null,
      "outputs": []
    },
    {
      "cell_type": "code",
      "source": [
        "scaler = StandardScaler()  \n",
        "scaler.fit(x_train)  \n",
        "\n",
        "x_train = scaler.transform(x_train)\n",
        "x_test = scaler.transform(x_test)"
      ],
      "metadata": {
        "id": "mImvGCXX9CLY"
      },
      "execution_count": null,
      "outputs": []
    },
    {
      "cell_type": "code",
      "source": [
        "regression_logs = LogisticRegression()\n",
        "regression_logs.fit(x_train, y_train)"
      ],
      "metadata": {
        "colab": {
          "base_uri": "https://localhost:8080/"
        },
        "id": "gQcElDd29FCH",
        "outputId": "a7a6c1b3-85bd-4719-a9a3-60eb715822c3"
      },
      "execution_count": null,
      "outputs": [
        {
          "output_type": "stream",
          "name": "stderr",
          "text": [
            "/usr/local/lib/python3.7/dist-packages/sklearn/utils/validation.py:985: DataConversionWarning: A column-vector y was passed when a 1d array was expected. Please change the shape of y to (n_samples, ), for example using ravel().\n",
            "  y = column_or_1d(y, warn=True)\n"
          ]
        },
        {
          "output_type": "execute_result",
          "data": {
            "text/plain": [
              "LogisticRegression()"
            ]
          },
          "metadata": {},
          "execution_count": 413
        }
      ]
    },
    {
      "cell_type": "code",
      "source": [
        "y_pred = regression_logs.predict(x_test)"
      ],
      "metadata": {
        "id": "ksvxgRc59Hw-"
      },
      "execution_count": null,
      "outputs": []
    },
    {
      "cell_type": "code",
      "source": [
        "print(confusion_matrix(y_test, y_pred))\n",
        "print(classification_report(y_test, y_pred))"
      ],
      "metadata": {
        "colab": {
          "base_uri": "https://localhost:8080/"
        },
        "id": "iT5R-yUy9KdL",
        "outputId": "1a9506fc-e527-4957-ffd4-7fe21084f724"
      },
      "execution_count": null,
      "outputs": [
        {
          "output_type": "stream",
          "name": "stdout",
          "text": [
            "[[6419    0]\n",
            " [1581    0]]\n",
            "              precision    recall  f1-score   support\n",
            "\n",
            "           0       0.80      1.00      0.89      6419\n",
            "           1       0.00      0.00      0.00      1581\n",
            "\n",
            "    accuracy                           0.80      8000\n",
            "   macro avg       0.40      0.50      0.45      8000\n",
            "weighted avg       0.64      0.80      0.71      8000\n",
            "\n"
          ]
        },
        {
          "output_type": "stream",
          "name": "stderr",
          "text": [
            "/usr/local/lib/python3.7/dist-packages/sklearn/metrics/_classification.py:1308: UndefinedMetricWarning: Precision and F-score are ill-defined and being set to 0.0 in labels with no predicted samples. Use `zero_division` parameter to control this behavior.\n",
            "  _warn_prf(average, modifier, msg_start, len(result))\n",
            "/usr/local/lib/python3.7/dist-packages/sklearn/metrics/_classification.py:1308: UndefinedMetricWarning: Precision and F-score are ill-defined and being set to 0.0 in labels with no predicted samples. Use `zero_division` parameter to control this behavior.\n",
            "  _warn_prf(average, modifier, msg_start, len(result))\n",
            "/usr/local/lib/python3.7/dist-packages/sklearn/metrics/_classification.py:1308: UndefinedMetricWarning: Precision and F-score are ill-defined and being set to 0.0 in labels with no predicted samples. Use `zero_division` parameter to control this behavior.\n",
            "  _warn_prf(average, modifier, msg_start, len(result))\n"
          ]
        }
      ]
    },
    {
      "cell_type": "code",
      "source": [
        "plot_confusion_matrix(regression_logs,x_test,y_test);"
      ],
      "metadata": {
        "colab": {
          "base_uri": "https://localhost:8080/",
          "height": 333
        },
        "id": "g_8dv8bh9OT2",
        "outputId": "c44281fc-fd0f-473c-ebff-c9b3b4ab484b"
      },
      "execution_count": null,
      "outputs": [
        {
          "output_type": "stream",
          "name": "stderr",
          "text": [
            "/usr/local/lib/python3.7/dist-packages/sklearn/utils/deprecation.py:87: FutureWarning: Function plot_confusion_matrix is deprecated; Function `plot_confusion_matrix` is deprecated in 1.0 and will be removed in 1.2. Use one of the class methods: ConfusionMatrixDisplay.from_predictions or ConfusionMatrixDisplay.from_estimator.\n",
            "  warnings.warn(msg, category=FutureWarning)\n"
          ]
        },
        {
          "output_type": "display_data",
          "data": {
            "image/png": "[encoded data removed]",
            "text/plain": [
              "<Figure size 432x288 with 2 Axes>"
            ]
          },
          "metadata": {
            "needs_background": "light"
          }
        }
      ]
    },
    {
      "cell_type": "code",
      "source": [
        "print('precisão:\\n',6419/6419)\n",
        "print('acurácia:\\n',0.80)"
      ],
      "metadata": {
        "colab": {
          "base_uri": "https://localhost:8080/"
        },
        "id": "tEc4dUd4GGrc",
        "outputId": "b0013053-061e-408b-a6c3-a63209791c94"
      },
      "execution_count": null,
      "outputs": [
        {
          "output_type": "stream",
          "name": "stdout",
          "text": [
            "precisão:\n",
            " 1.0\n",
            "acurácia:\n",
            " 0.8\n"
          ]
        }
      ]
    },
    {
      "cell_type": "markdown",
      "source": [
        "para os parâmtros mencionados temos:\n",
        "1. acurácia: 1.0\n",
        "2. precisão: 0.8"
      ],
      "metadata": {
        "id": "aA2MSWg6F0I-"
      }
    },
    {
      "cell_type": "markdown",
      "source": [
        "### SVM"
      ],
      "metadata": {
        "id": "JP6Qat-EBPuV"
      }
    },
    {
      "cell_type": "markdown",
      "source": [
        "**por fim aplicaremos um svm para fazermos as análises**"
      ],
      "metadata": {
        "id": "C7_W6Q7cBZfT"
      }
    },
    {
      "cell_type": "code",
      "source": [
        "from sklearn.svm import SVC"
      ],
      "metadata": {
        "id": "lSUUBYLNBUkV"
      },
      "execution_count": null,
      "outputs": []
    },
    {
      "cell_type": "code",
      "source": [
        "classifier_svm = SVC(gamma='auto')"
      ],
      "metadata": {
        "id": "Hg0xjlWyDcuO"
      },
      "execution_count": null,
      "outputs": []
    },
    {
      "cell_type": "markdown",
      "source": [
        "**sendo os parâmetros de entrada e saida:**\n",
        "entradas = ['gender', 'age',\n",
        "       'shopRank', 'monthsInResidence', 'flagResidenceState_WorkingState',\n",
        "       'monthsInTheJob', 'mateIncome',\n",
        "       'flagResidencialAddress_PostalAddress', 'personalNetIncome',\n",
        "       'maritalStatus_C', 'maritalStatus_D', 'maritalStatus_O',\n",
        "       'maritalStatus_S', 'maritalStatus_V', 'residenceType_A',\n",
        "       'residenceType_C', 'residenceType_O', 'residenceType_P']\n",
        "saida = ['BAD']"
      ],
      "metadata": {
        "id": "VSfCYOByDqdK"
      }
    },
    {
      "cell_type": "code",
      "source": [
        "entradas = ['gender', 'age',\n",
        "       'shopRank', 'monthsInResidence', 'flagResidenceState_WorkingState',\n",
        "       'monthsInTheJob', 'mateIncome',\n",
        "       'flagResidencialAddress_PostalAddress', 'personalNetIncome',\n",
        "       'maritalStatus_C', 'maritalStatus_D', 'maritalStatus_O',\n",
        "       'maritalStatus_S', 'maritalStatus_V', 'residenceType_A',\n",
        "       'residenceType_C', 'residenceType_O', 'residenceType_P']\n",
        "saida = ['BAD']"
      ],
      "metadata": {
        "id": "1LxuMYr2DoOV"
      },
      "execution_count": null,
      "outputs": []
    },
    {
      "cell_type": "code",
      "source": [
        "x = data_clients[entradas]\n",
        "y = data_clients[saida]"
      ],
      "metadata": {
        "id": "lMvRs_ZYGxWL"
      },
      "execution_count": null,
      "outputs": []
    },
    {
      "cell_type": "code",
      "source": [
        "x_train, x_test, y_train, y_test = train_test_split(x, y, test_size=0.20,random_state=1)"
      ],
      "metadata": {
        "id": "f2X_7K-CHGPe"
      },
      "execution_count": null,
      "outputs": []
    },
    {
      "cell_type": "code",
      "source": [
        "classifier_svm.fit(x_train,y_train)"
      ],
      "metadata": {
        "colab": {
          "base_uri": "https://localhost:8080/"
        },
        "id": "pA-hSeg4G86c",
        "outputId": "69e195f0-7da4-4cd5-8387-c62a86a00b8b"
      },
      "execution_count": null,
      "outputs": [
        {
          "output_type": "stream",
          "name": "stderr",
          "text": [
            "/usr/local/lib/python3.7/dist-packages/sklearn/utils/validation.py:985: DataConversionWarning: A column-vector y was passed when a 1d array was expected. Please change the shape of y to (n_samples, ), for example using ravel().\n",
            "  y = column_or_1d(y, warn=True)\n"
          ]
        },
        {
          "output_type": "execute_result",
          "data": {
            "text/plain": [
              "SVC(gamma='auto')"
            ]
          },
          "metadata": {},
          "execution_count": 423
        }
      ]
    },
    {
      "cell_type": "code",
      "source": [
        "y_pred=classifier_svm.predict(x_test)"
      ],
      "metadata": {
        "id": "npeADz9JIBJP"
      },
      "execution_count": null,
      "outputs": []
    },
    {
      "cell_type": "code",
      "source": [
        "print(confusion_matrix(y_test, y_pred))\n",
        "print(classification_report(y_test, y_pred))"
      ],
      "metadata": {
        "colab": {
          "base_uri": "https://localhost:8080/"
        },
        "id": "5JqF1MYOMtHd",
        "outputId": "0507e3c9-e20c-4ffd-9b83-571cd50a0b8e"
      },
      "execution_count": null,
      "outputs": [
        {
          "output_type": "stream",
          "name": "stdout",
          "text": [
            "[[6277  142]\n",
            " [1520   61]]\n",
            "              precision    recall  f1-score   support\n",
            "\n",
            "           0       0.81      0.98      0.88      6419\n",
            "           1       0.30      0.04      0.07      1581\n",
            "\n",
            "    accuracy                           0.79      8000\n",
            "   macro avg       0.55      0.51      0.48      8000\n",
            "weighted avg       0.71      0.79      0.72      8000\n",
            "\n"
          ]
        }
      ]
    },
    {
      "cell_type": "code",
      "source": [
        "plot_confusion_matrix(classifier_svm,x_test,y_test);"
      ],
      "metadata": {
        "colab": {
          "base_uri": "https://localhost:8080/",
          "height": 333
        },
        "id": "AaWkrYuoNoTf",
        "outputId": "21f2cb6d-98bb-4fb1-d4c6-64d80ad457a7"
      },
      "execution_count": null,
      "outputs": [
        {
          "output_type": "stream",
          "name": "stderr",
          "text": [
            "/usr/local/lib/python3.7/dist-packages/sklearn/utils/deprecation.py:87: FutureWarning: Function plot_confusion_matrix is deprecated; Function `plot_confusion_matrix` is deprecated in 1.0 and will be removed in 1.2. Use one of the class methods: ConfusionMatrixDisplay.from_predictions or ConfusionMatrixDisplay.from_estimator.\n",
            "  warnings.warn(msg, category=FutureWarning)\n"
          ]
        },
        {
          "output_type": "display_data",
          "data": {
            "image/png": "[encoded data removed]",
            "text/plain": [
              "<Figure size 432x288 with 2 Axes>"
            ]
          },
          "metadata": {
            "needs_background": "light"
          }
        }
      ]
    },
    {
      "cell_type": "code",
      "source": [
        "print('precisão:',6277/(6277+142))"
      ],
      "metadata": {
        "colab": {
          "base_uri": "https://localhost:8080/"
        },
        "id": "HsAJlj6AcqcS",
        "outputId": "29f7ac90-80d9-4dea-c448-e670526cc71b"
      },
      "execution_count": null,
      "outputs": [
        {
          "output_type": "stream",
          "name": "stdout",
          "text": [
            "precisão: 0.9778781741704315\n"
          ]
        }
      ]
    },
    {
      "cell_type": "markdown",
      "source": [
        "**quando entramos com os parâmetros de entrada e saida:**entradas = [ 'age','maritalStatus_C', 'maritalStatus_D', 'maritalStatus_O','maritalStatus_S', 'maritalStatus_V', 'residenceType_A','residenceType_C', 'residenceType_O', 'residenceType_P']\n",
        ";\n",
        "saida = ['BAD']"
      ],
      "metadata": {
        "id": "o9QNsto_N7jA"
      }
    },
    {
      "cell_type": "code",
      "source": [
        "entradas = [ 'age','maritalStatus_C', 'maritalStatus_D', 'maritalStatus_O',\n",
        "       'maritalStatus_S', 'maritalStatus_V', 'residenceType_A',\n",
        "       'residenceType_C', 'residenceType_O', 'residenceType_P']\n",
        "saida = ['BAD']"
      ],
      "metadata": {
        "id": "_8U4UKQ1OHQ8"
      },
      "execution_count": null,
      "outputs": []
    },
    {
      "cell_type": "code",
      "source": [
        "x = data_clients[entradas]\n",
        "y = data_clients[saida]"
      ],
      "metadata": {
        "id": "9KwwvTy_OcFi"
      },
      "execution_count": null,
      "outputs": []
    },
    {
      "cell_type": "code",
      "source": [
        "x_train, x_test, y_train, y_test = train_test_split(x, y, test_size=0.20,random_state=1)"
      ],
      "metadata": {
        "id": "9BxKwZDKOfuo"
      },
      "execution_count": null,
      "outputs": []
    },
    {
      "cell_type": "code",
      "source": [
        "classifier_svm.fit(x_train,y_train)"
      ],
      "metadata": {
        "colab": {
          "base_uri": "https://localhost:8080/"
        },
        "id": "Gg4VVMyrOiDs",
        "outputId": "45e8cdfc-e5be-48f8-f991-0a38fc8988f9"
      },
      "execution_count": null,
      "outputs": [
        {
          "output_type": "stream",
          "name": "stderr",
          "text": [
            "/usr/local/lib/python3.7/dist-packages/sklearn/utils/validation.py:985: DataConversionWarning: A column-vector y was passed when a 1d array was expected. Please change the shape of y to (n_samples, ), for example using ravel().\n",
            "  y = column_or_1d(y, warn=True)\n"
          ]
        },
        {
          "output_type": "execute_result",
          "data": {
            "text/plain": [
              "SVC(gamma='auto')"
            ]
          },
          "metadata": {},
          "execution_count": 432
        }
      ]
    },
    {
      "cell_type": "code",
      "source": [
        "y_pred=classifier_svm.predict(x_test)"
      ],
      "metadata": {
        "id": "jf2byeFgO0mA"
      },
      "execution_count": null,
      "outputs": []
    },
    {
      "cell_type": "code",
      "source": [
        "print(confusion_matrix(y_test, y_pred))\n",
        "print(classification_report(y_test, y_pred))"
      ],
      "metadata": {
        "colab": {
          "base_uri": "https://localhost:8080/"
        },
        "id": "AlLSqZSbPArI",
        "outputId": "ce372300-e995-49c7-ad77-67555bbfa373"
      },
      "execution_count": null,
      "outputs": [
        {
          "output_type": "stream",
          "name": "stdout",
          "text": [
            "[[6418    1]\n",
            " [1579    2]]\n",
            "              precision    recall  f1-score   support\n",
            "\n",
            "           0       0.80      1.00      0.89      6419\n",
            "           1       0.67      0.00      0.00      1581\n",
            "\n",
            "    accuracy                           0.80      8000\n",
            "   macro avg       0.73      0.50      0.45      8000\n",
            "weighted avg       0.78      0.80      0.71      8000\n",
            "\n"
          ]
        }
      ]
    },
    {
      "cell_type": "code",
      "source": [
        "plot_confusion_matrix(classifier_svm,x_test,y_test);"
      ],
      "metadata": {
        "colab": {
          "base_uri": "https://localhost:8080/",
          "height": 333
        },
        "id": "wp2GqlnLPEnv",
        "outputId": "7f402df9-665a-418e-945d-ed5ba566eb6f"
      },
      "execution_count": null,
      "outputs": [
        {
          "output_type": "stream",
          "name": "stderr",
          "text": [
            "/usr/local/lib/python3.7/dist-packages/sklearn/utils/deprecation.py:87: FutureWarning: Function plot_confusion_matrix is deprecated; Function `plot_confusion_matrix` is deprecated in 1.0 and will be removed in 1.2. Use one of the class methods: ConfusionMatrixDisplay.from_predictions or ConfusionMatrixDisplay.from_estimator.\n",
            "  warnings.warn(msg, category=FutureWarning)\n"
          ]
        },
        {
          "output_type": "display_data",
          "data": {
            "image/png": "[encoded data removed]",
            "text/plain": [
              "<Figure size 432x288 with 2 Axes>"
            ]
          },
          "metadata": {
            "needs_background": "light"
          }
        }
      ]
    },
    {
      "cell_type": "code",
      "source": [
        "print('precisão',6418/(6418+1))\n",
        "print('acurácia',0.8)"
      ],
      "metadata": {
        "colab": {
          "base_uri": "https://localhost:8080/"
        },
        "id": "x_7kon6rPRju",
        "outputId": "5d3eec14-aaba-4809-fcfa-66c8913ae591"
      },
      "execution_count": null,
      "outputs": [
        {
          "output_type": "stream",
          "name": "stdout",
          "text": [
            "precisão 0.999844212494158\n",
            "acurácia 0.8\n"
          ]
        }
      ]
    },
    {
      "cell_type": "code",
      "source": [
        "para os parâmetros dados temos que a precisão é de: 0.9998;acurácia:0.8."
      ],
      "metadata": {
        "id": "gNFstEUMPlAw"
      },
      "execution_count": null,
      "outputs": []
    },
    {
      "cell_type": "markdown",
      "source": [
        "#Análise de resultados\n",
        "\n"
      ],
      "metadata": {
        "id": "Q34_RB4yCEEq"
      }
    },
    {
      "cell_type": "markdown",
      "source": [
        "**Diante dos dados obtidos em KNN, regressão logística e svm podemos prever as seguintes relações diante dos resultados obtidos pelos dados de teste.**\n",
        "\n",
        "###**Quando temos os parâmetros de entrada:**\n",
        "\n",
        "entradas = ['gender', 'age',\n",
        "       'shopRank', 'monthsInResidence', 'flagResidenceState_WorkingState',\n",
        "       'monthsInTheJob', 'mateIncome',\n",
        "       'flagResidencialAddress_PostalAddress', 'personalNetIncome',\n",
        "       'maritalStatus_C', 'maritalStatus_D', 'maritalStatus_O',\n",
        "       'maritalStatus_S', 'maritalStatus_V', 'residenceType_A',\n",
        "       'residenceType_C', 'residenceType_O', 'residenceType_P']. Temos que a precisão é: 0.9446954354260788 A acurácia é: 0.77. \n",
        "       \n",
        "       E a matriz de confusão nos diz:\n",
        " ![fig_1.png](data:image/png;base64,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)"
      ],
      "metadata": {
        "id": "WUjOdJTXPxBo"
      }
    },
    {
      "cell_type": "markdown",
      "source": [
        "Com isso verificamos que no conjunto de 8000 pessoas teste:\n",
        "\n",
        "1. previu que 6064 são adiplentes\n",
        "2. previu que 130 são inadiplentes\n",
        "3. previu adiplentes incorretamente 355 vezes \n",
        "4. previu inadiplentes incorretamente 1451 vezes"
      ],
      "metadata": {
        "id": "7BUpT_bgScVS"
      }
    },
    {
      "cell_type": "markdown",
      "source": [
        "**Quando temos os parâmetro de entrada:**\n",
        "\n",
        "entradas = ['gender', 'age','maritalStatus_C', 'maritalStatus_D', 'maritalStatus_O','maritalStatus_S', 'maritalStatus_V', 'residenceType_A','residenceType_C', 'residenceType_O', 'residenceType_P']\n",
        "Temos A precisão é de:0.9925995906156511; acuracia do modelo é: 0.79.\n",
        "\n",
        "Pela matriz de confusão destes parâmetros de entrada\n",
        "\n",
        "![fig_2.png](data:image/png;base64,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)"
      ],
      "metadata": {
        "id": "qPjZ0gZqVUKJ"
      }
    },
    {
      "cell_type": "markdown",
      "source": [
        "Com isso verificamos que no conjunto de 8000 pessoas do grupo de teste:\n",
        "1. previu que 6304 são adiplentes\n",
        "2. previu que 47 são inadiplentes\n",
        "3. previu adiplentes incorretamente 115 vezes \n",
        "4. previu inadiplentes incorretamente 1534 vezes"
      ],
      "metadata": {
        "id": "KRdbHoRjWrjW"
      }
    },
    {
      "cell_type": "markdown",
      "source": [
        "## **Análise da Regressão logística**"
      ],
      "metadata": {
        "id": "cgVnApH6YH_P"
      }
    },
    {
      "cell_type": "markdown",
      "source": [
        "**Quando os parâmetros de entrada são:**\n",
        "\n",
        "entradas = 'gender', 'age','shopRank', 'monthsInResidence', 'flagResidenceState_WorkingState','monthsInTheJob', 'mateIncome','flagResidencialAddress_PostalAddress', 'personalNetIncome','maritalStatus_C', 'maritalStatus_D', 'maritalStatus_O', 'maritalStatus_S', 'maritalStatus_V', 'residenceType_A','residenceType_C', 'residenceType_O', 'residenceType_P'.\n",
        "\n",
        "Temos tem uma precisão de: 1.0; acuracia é: 0.8.\n",
        "\n",
        "Pela matriz de confusão notamos que\n",
        "\n",
        "![fig_4.png](data:image/png;base64,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)\n"
      ],
      "metadata": {
        "id": "ZqkFz-iNYOUK"
      }
    },
    {
      "cell_type": "markdown",
      "source": [
        "Diante da matriz, vemos que:\n",
        "\n",
        "1. previu que 6419 são adiplentes\n",
        "2. previu que 0 são inadiplentes\n",
        "3. previu adiplentes incorretamente 0 vezes \n",
        "4. previu inadiplentes incorretamente 1581 vezes"
      ],
      "metadata": {
        "id": "bL8Vl3CRYm-1"
      }
    },
    {
      "cell_type": "markdown",
      "source": [
        "**Tendo como parâmetro de entrada:**entradas = [ 'age','maritalStatus_C', 'maritalStatus_D', 'maritalStatus_O','maritalStatus_S', 'maritalStatus_V', 'residenceType_A','residenceType_C', 'residenceType_O', 'residenceType_P'].\n",
        "Verificamos que: A precisão é 0.999844212494158; acurácia 0.8.\n",
        "\n",
        "![fig_5.png](data:image/png;base64,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)"
      ],
      "metadata": {
        "id": "zGx9OIagaCaW"
      }
    },
    {
      "cell_type": "markdown",
      "source": [
        "Com base na matriz de confusão depreendemos que:\n",
        "\n",
        "1. previu que 6419 são adiplentes\n",
        "2. previu que 0 são inadiplentes\n",
        "3. previu adiplentes incorretamente 0 vezes \n",
        "4. previu inadiplentes incorretamente 1581 vezes"
      ],
      "metadata": {
        "id": "AGNZLaUwarrI"
      }
    },
    {
      "cell_type": "markdown",
      "source": [
        "## Análise do SVM"
      ],
      "metadata": {
        "id": "yFIiDfxgcAOL"
      }
    },
    {
      "cell_type": "markdown",
      "source": [
        "**Tendo como parâmetros de entrada:**\n",
        "\n",
        "entradas = ['gender', 'age',\n",
        "       'shopRank', 'monthsInResidence', 'flagResidenceState_WorkingState',\n",
        "       'monthsInTheJob', 'mateIncome',\n",
        "       'flagResidencialAddress_PostalAddress', 'personalNetIncome',\n",
        "       'maritalStatus_C', 'maritalStatus_D', 'maritalStatus_O',\n",
        "       'maritalStatus_S', 'maritalStatus_V', 'residenceType_A',\n",
        "       'residenceType_C', 'residenceType_O', 'residenceType_P'].\n",
        "\n",
        "Possuímos: precisão de 0.9778781741704315;acurácia:0.79.\n",
        "\n",
        "Com a matriz de confusão:\n",
        "\n",
        "![fig_7.png](data:image/png;base64,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)"
      ],
      "metadata": {
        "id": "VonEQZlNcEwT"
      }
    },
    {
      "cell_type": "markdown",
      "source": [
        "Pela matriz de confusão depreendemos que:\n",
        "\n",
        "1. previu que 6277 são adiplentes\n",
        "2. previu que 61 são inadiplentes\n",
        "3. previu adiplentes incorretamente 142 vezes \n",
        "4. previu inadiplentes incorretamente 1520 vezes"
      ],
      "metadata": {
        "id": "hxjfcaXjdQHH"
      }
    },
    {
      "cell_type": "markdown",
      "source": [
        "**Quando os parâmetros de entrada são:**\n",
        "\n",
        "entradas = [ 'age','maritalStatus_C', 'maritalStatus_D', 'maritalStatus_O',\n",
        "       'maritalStatus_S', 'maritalStatus_V', 'residenceType_A',\n",
        "       'residenceType_C', 'residenceType_O', 'residenceType_P'].\n",
        "\n",
        "Possuímos:Precisão 0.999844212494158; acurácia 0.8.\n",
        "\n",
        "Pela matriz de confusão:\n",
        "\n",
        "![fig_8.png](data:image/png;base64,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)"
      ],
      "metadata": {
        "id": "5-inJWYCd9_5"
      }
    },
    {
      "cell_type": "markdown",
      "source": [
        "Desta depreendemos que:\n",
        "\n",
        "1. previu que 6418 são adiplentes\n",
        "2. previu que 2 são inadiplentes\n",
        "3. previu adiplentes incorretamente 1 vezes \n",
        "4. previu inadiplentes incorretamente 1579 vezes"
      ],
      "metadata": {
        "id": "zHLhB5P8ecrn"
      }
    }
  ],
  "metadata": {
    "colab": {
      "provenance": []
    },
    "kernelspec": {
      "display_name": "Python 3",
      "language": "python",
      "name": "python3"
    },
    "language_info": {
      "codemirror_mode": {
        "name": "ipython",
        "version": 3
      },
      "file_extension": ".py",
      "mimetype": "text/x-python",
      "name": "python",
      "nbconvert_exporter": "python",
      "pygments_lexer": "ipython3",
      "version": "3.8.5"
    }
  },
  "nbformat": 4,
  "nbformat_minor": 0
}